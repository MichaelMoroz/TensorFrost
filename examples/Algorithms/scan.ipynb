{
 "cells": [
  {
   "cell_type": "code",
   "execution_count": 1,
   "metadata": {},
   "outputs": [
    {
     "name": "stdout",
     "output_type": "stream",
     "text": [
      "TensorFrost module loaded!\n",
      "Scan:\n",
      "  Kernel count: 4\n",
      "  Intermediate buffers: 3\n",
      "  Host readbacks: 0\n",
      "  Host writes: 0\n",
      "  Lines of generated code: 516\n",
      "  IR Compile time: 6.016800 ms\n",
      "  Codegen time: 1.004700 ms\n",
      "  Host Compile time: 1455.829956 ms\n",
      "  Shader Compile time: 0.699500 ms\n",
      "\n"
     ]
    }
   ],
   "source": [
    "import numpy as np\n",
    "import TensorFrost as tf\n",
    "import matplotlib.pyplot as plt\n",
    "\n",
    "tf.initialize(tf.opengl)\n",
    "\n",
    "test_axis = -1\n",
    "\n",
    "def PrefixSum(A, axis = -1):\n",
    "    axis = len(A.shape) + axis if axis < 0 else axis\n",
    "    group_size = 128\n",
    "    grouped = tf.split_dim(A, group_size, axis)\n",
    "    group_scan = tf.prefix_sum(tf.sum(grouped, axis = axis + 1), axis = axis)\n",
    "    ids = grouped.indices\n",
    "    gid, eid = ids[axis], ids[axis + 1]\n",
    "    ids = [ids[i] for i in range(len(ids)) if i != axis + 1]\n",
    "    ids[axis] = gid - 1\n",
    "    group_scan = tf.prefix_sum(grouped + tf.select((gid == 0) | (eid != 0), 0, group_scan[tuple(ids)]), axis = axis + 1)\n",
    "    full_scan = tf.merge_dim(group_scan, target_size = A.shape[axis], axis = axis + 1)\n",
    "    return full_scan\n",
    "\n",
    "def Scan():\n",
    "    data = tf.input([-1, -1, -1], tf.int32)\n",
    "    return PrefixSum(data, axis = test_axis)\n",
    "\n",
    "scan_program = tf.compile(Scan)"
   ]
  },
  {
   "cell_type": "code",
   "execution_count": 2,
   "metadata": {},
   "outputs": [
    {
     "ename": "ValueError",
     "evalue": "operands could not be broadcast together with shapes (25,153,128) (25,61,153) ",
     "output_type": "error",
     "traceback": [
      "\u001b[1;31m---------------------------------------------------------------------------\u001b[0m",
      "\u001b[1;31mValueError\u001b[0m                                Traceback (most recent call last)",
      "Cell \u001b[1;32mIn[2], line 11\u001b[0m\n\u001b[0;32m      8\u001b[0m scan_np \u001b[38;5;241m=\u001b[39m np\u001b[38;5;241m.\u001b[39mcumsum(data, axis\u001b[38;5;241m=\u001b[39mtest_axis)\n\u001b[0;32m     10\u001b[0m \u001b[38;5;66;03m#print error\u001b[39;00m\n\u001b[1;32m---> 11\u001b[0m \u001b[38;5;28mprint\u001b[39m(\u001b[38;5;124m\"\u001b[39m\u001b[38;5;124mError: \u001b[39m\u001b[38;5;124m\"\u001b[39m, np\u001b[38;5;241m.\u001b[39mmax(np\u001b[38;5;241m.\u001b[39mabs(\u001b[43mscan_tf\u001b[49m\u001b[38;5;241;43m.\u001b[39;49m\u001b[43mnumpy\u001b[49m\u001b[43m \u001b[49m\u001b[38;5;241;43m-\u001b[39;49m\u001b[43m \u001b[49m\u001b[43mscan_np\u001b[49m)))\n\u001b[0;32m     13\u001b[0m \u001b[38;5;28mprint\u001b[39m(\u001b[38;5;124m\"\u001b[39m\u001b[38;5;124mData: \u001b[39m\u001b[38;5;124m\"\u001b[39m, data\u001b[38;5;241m.\u001b[39mflatten())\n\u001b[0;32m     14\u001b[0m \u001b[38;5;28mprint\u001b[39m(\u001b[38;5;124m\"\u001b[39m\u001b[38;5;124mDiff: \u001b[39m\u001b[38;5;124m\"\u001b[39m, np\u001b[38;5;241m.\u001b[39mabs(scan_tf\u001b[38;5;241m.\u001b[39mnumpy \u001b[38;5;241m-\u001b[39m scan_np)\u001b[38;5;241m.\u001b[39mflatten())\n",
      "\u001b[1;31mValueError\u001b[0m: operands could not be broadcast together with shapes (25,153,128) (25,61,153) "
     ]
    }
   ],
   "source": [
    "# Generate some random data to scan (ints between 0 and 10)\n",
    "data = np.random.randint(0, 10, (25, 61,153), dtype=np.int32)\n",
    "\n",
    "data_tf = tf.tensor(data)\n",
    "scan_tf = scan_program(data_tf)\n",
    "\n",
    "# do scan in numpy\n",
    "scan_np = np.cumsum(data, axis=test_axis)\n",
    "\n",
    "#print error\n",
    "print(\"Error: \", np.max(np.abs(scan_tf.numpy - scan_np)))\n",
    "\n",
    "print(\"Data: \", data.flatten())\n",
    "print(\"Diff: \", np.abs(scan_tf.numpy - scan_np).flatten())"
   ]
  }
 ],
 "metadata": {
  "kernelspec": {
   "display_name": "Python 3",
   "language": "python",
   "name": "python3"
  },
  "language_info": {
   "codemirror_mode": {
    "name": "ipython",
    "version": 3
   },
   "file_extension": ".py",
   "mimetype": "text/x-python",
   "name": "python",
   "nbconvert_exporter": "python",
   "pygments_lexer": "ipython3",
   "version": "3.12.0"
  },
  "orig_nbformat": 4
 },
 "nbformat": 4,
 "nbformat_minor": 2
}
