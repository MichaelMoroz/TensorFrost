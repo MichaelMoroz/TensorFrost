{
 "cells": [
  {
   "cell_type": "code",
   "execution_count": 1,
   "metadata": {},
   "outputs": [
    {
     "name": "stdout",
     "output_type": "stream",
     "text": [
      "TensorFrost module loaded!\n",
      "QRDecomposition:\n",
      "  Kernel count: 8\n",
      "  Intermediate buffers: 0\n",
      "  Host readbacks: 0\n",
      "  Host writes: 0\n",
      "  Lines of generated code: 430\n",
      "  IR Compile time: 5.133500 ms\n",
      "  Compiler time: 1684.195435 ms\n",
      "\n"
     ]
    }
   ],
   "source": [
    "import numpy as np\n",
    "import TensorFrost as tf\n",
    "\n",
    "tf.initialize(tf.opengl)\n",
    "\n",
    "# Householder reflection\n",
    "def householder_reflection(a):\n",
    "    v = a.copy()\n",
    "    v[0] = v[0] + np.copysign(np.linalg.norm(v), a[0])\n",
    "    v = v / np.linalg.norm(v)\n",
    "    return np.eye(len(a)) - 2 * np.outer(v, v)\n",
    "\n",
    "# QR decomposition using Householder reflections\n",
    "def qr_decomposition(A):\n",
    "    m, n = A.shape\n",
    "    Q = np.eye(m)\n",
    "    R = A.copy()\n",
    "    for i in range(min(m, n)):\n",
    "        H = np.eye(m)\n",
    "        H[i:, i:] = householder_reflection(R[i:, i])\n",
    "        Q = Q @ H\n",
    "        R = H @ R\n",
    "    return Q, R\n",
    "\n",
    "\n",
    "def modified_gram_schmidt(A):\n",
    "    \"\"\"\n",
    "    Implements the Modified Gram-Schmidt orthogonalization to get the QR decomposition of matrix A.\n",
    "    A = QR\n",
    "    \"\"\"\n",
    "    A = A.astype(float)  # Ensure A is of float type\n",
    "    m, n = A.shape\n",
    "    Q = np.zeros((m, n))\n",
    "    R = np.zeros((n, n))\n",
    "    \n",
    "    for i in range(n-1):\n",
    "        R[i, i] = np.linalg.norm(A[:, i])\n",
    "        Q[:, i] = A[:, i] / R[i, i]\n",
    "        R[i, i+1:n] = np.dot(Q[:, i].T, A[:, i+1:n])\n",
    "        A[:, i+1:n] -= np.outer(Q[:, i], R[i, i+1:n])\n",
    "    R[n-1, n-1] = np.linalg.norm(A[:, n-1])\n",
    "    Q[:, n-1] = A[:, n-1] / R[n-1, n-1]\n",
    "    return Q, R\n",
    "\n",
    "#dynamic size QR decomposition\n",
    "def QRDecomposition():\n",
    "    A = tf.input([-1, -1], tf.float32)\n",
    "\n",
    "    m, n = A.shape\n",
    "    Q = tf.zeros([m, n])\n",
    "    R = tf.zeros([n, n])\n",
    "    j = tf.index(0, [m])\n",
    "\n",
    "    with tf.loop(n-1) as i:\n",
    "        R[i, i] = tf.norm(A[j, i])\n",
    "        Q[j, i] = A[j, i] / R[i, i]\n",
    "\n",
    "        p, k = tf.index_grid([0, i + 1], [m, n])\n",
    "        t, = tf.index_grid([i+1], [n])\n",
    "        R[i, t] = tf.sum(Q[p, i] * A[p, k], axis=0)\n",
    "        A[p, k] -= Q[p, i] * R[i, k]\n",
    "\n",
    "    R[n-1, n-1] = tf.norm(A[j, n-1])\n",
    "    Q[j, n-1] = A[j, n-1] / R[n-1, n-1]\n",
    "\n",
    "    return [Q, R]\n",
    "\n",
    "qr = tf.compile(QRDecomposition)"
   ]
  },
  {
   "cell_type": "code",
   "execution_count": 2,
   "metadata": {},
   "outputs": [],
   "source": [
    "#kernels = tf.get_all_generated_kernels()\n",
    "#for kernel in kernels:\n",
    "#    print(kernel)"
   ]
  },
  {
   "cell_type": "code",
   "execution_count": 3,
   "metadata": {},
   "outputs": [
    {
     "name": "stdout",
     "output_type": "stream",
     "text": [
      "QR decomposition is correct: True\n",
      "QR decomposition using TensorFrost is correct: True\n",
      "Error: 1.7554167342883506e-16\n",
      "Error using TensorFrost: 1.001629386276688e-07\n",
      "Q:\n",
      " [[ 0.30611986  0.00967338  0.03454556  0.87444687  0.37462822]\n",
      " [ 0.08054497  0.96200925  0.00653834 -0.1347507   0.22327219]\n",
      " [ 0.19530524  0.22271653  0.28604826  0.2882296  -0.86449575]\n",
      " [ 0.59163934 -0.14963469  0.6897864  -0.32484183  0.21504733]\n",
      " [ 0.7152775  -0.04951119 -0.66418    -0.1690756  -0.12729874]]\n",
      "R:\n",
      " [[1.2151698  1.2570015  1.2030288  0.94071096 1.3992995 ]\n",
      " [0.         0.8818964  0.5819651  0.1288198  0.6936633 ]\n",
      " [0.         0.         0.4083896  0.44205388 0.03235423]\n",
      " [0.         0.         0.         0.222363   0.32532346]\n",
      " [0.         0.         0.         0.         0.2696432 ]]\n"
     ]
    }
   ],
   "source": [
    "#generate random matrix\n",
    "A = np.random.rand(5, 5)\n",
    "\n",
    "#compute QR decomposition\n",
    "Q, R = modified_gram_schmidt(A)\n",
    "\n",
    "#compute QR decomposition using TensorFrost\n",
    "Atf = tf.tensor(A)\n",
    "Qtf, Rtf = qr(Atf)\n",
    "Qnp = Qtf.numpy\n",
    "Rnp = Rtf.numpy\n",
    "\n",
    "#check if QR decomposition is correct\n",
    "print(\"QR decomposition is correct:\", np.allclose(A, np.dot(Q, R)))\n",
    "print(\"QR decomposition using TensorFrost is correct:\", np.allclose(A, np.dot(Qnp, Rnp)))\n",
    "\n",
    "#check error\n",
    "print(\"Error:\", np.linalg.norm(A - np.dot(Q, R)))\n",
    "print(\"Error using TensorFrost:\", np.linalg.norm(A - np.dot(Qnp, Rnp)))\n",
    "\n",
    "#print Q and R\n",
    "print(\"Q:\\n\", Qnp)\n",
    "print(\"R:\\n\", Rnp)\n"
   ]
  },
  {
   "cell_type": "code",
   "execution_count": 4,
   "metadata": {},
   "outputs": [
    {
     "name": "stdout",
     "output_type": "stream",
     "text": [
      "Time for TensorFrost QR decomposition: 12.146550416946411\n",
      "Time for built-in NumPy QR decomposition: 14.738584280014038\n",
      "Error: 0.0012226196\n",
      "Error using TensorFrost: 0.0018738735\n"
     ]
    }
   ],
   "source": [
    "#performance test\n",
    "import time\n",
    "A = np.random.rand(5000, 5000).astype(np.float32)\n",
    "\n",
    "#naive NumPy QR decomposition\n",
    "#start = time.time()\n",
    "#Q, R = modified_gram_schmidt(A)\n",
    "#print(\"Time for naive NumPy QR decomposition:\", time.time() - start)\n",
    "\n",
    "#TensorFrost QR decomposition\n",
    "Atf = tf.tensor(A)\n",
    "start = time.time()\n",
    "Qtf, Rtf = qr(Atf)\n",
    "Qtf = Qtf.numpy\n",
    "print(\"Time for TensorFrost QR decomposition:\", time.time() - start)\n",
    "Rtf = Rtf.numpy\n",
    "#householder QR decomposition\n",
    "#start = time.time()\n",
    "#Q, R = qr_decomposition(A)\n",
    "#print(\"Time for householder QR decomposition:\", time.time() - start)\n",
    "\n",
    "#built-in NumPy QR decomposition\n",
    "start = time.time()\n",
    "Q, R = np.linalg.qr(A)\n",
    "print(\"Time for built-in NumPy QR decomposition:\", time.time() - start)\n",
    "\n",
    "print(\"Error:\", np.linalg.norm(A - np.dot(Q, R)))\n",
    "print(\"Error using TensorFrost:\", np.linalg.norm(A - np.dot(Qtf, Rtf)))"
   ]
  }
 ],
 "metadata": {
  "kernelspec": {
   "display_name": "Python 3",
   "language": "python",
   "name": "python3"
  },
  "language_info": {
   "codemirror_mode": {
    "name": "ipython",
    "version": 3
   },
   "file_extension": ".py",
   "mimetype": "text/x-python",
   "name": "python",
   "nbconvert_exporter": "python",
   "pygments_lexer": "ipython3",
   "version": "3.12.0"
  },
  "orig_nbformat": 4
 },
 "nbformat": 4,
 "nbformat_minor": 2
}
