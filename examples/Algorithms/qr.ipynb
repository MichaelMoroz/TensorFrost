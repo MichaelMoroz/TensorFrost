{
 "cells": [
  {
   "cell_type": "code",
   "execution_count": 1,
   "metadata": {},
   "outputs": [
    {
     "name": "stdout",
     "output_type": "stream",
     "text": [
      "TensorFrost module loaded!\n"
     ]
    },
    {
     "ename": "RuntimeError",
     "evalue": "No common parent found",
     "output_type": "error",
     "traceback": [
      "\u001b[1;31m---------------------------------------------------------------------------\u001b[0m",
      "\u001b[1;31mRuntimeError\u001b[0m                              Traceback (most recent call last)",
      "Cell \u001b[1;32mIn[1], line 69\u001b[0m\n\u001b[0;32m     65\u001b[0m     Q[j, n\u001b[38;5;241m-\u001b[39m\u001b[38;5;241m1\u001b[39m] \u001b[38;5;241m=\u001b[39m A[j, n\u001b[38;5;241m-\u001b[39m\u001b[38;5;241m1\u001b[39m] \u001b[38;5;241m/\u001b[39m R[n\u001b[38;5;241m-\u001b[39m\u001b[38;5;241m1\u001b[39m, n\u001b[38;5;241m-\u001b[39m\u001b[38;5;241m1\u001b[39m]\n\u001b[0;32m     67\u001b[0m     \u001b[38;5;28;01mreturn\u001b[39;00m [Q, R]\n\u001b[1;32m---> 69\u001b[0m qr \u001b[38;5;241m=\u001b[39m \u001b[43mtf\u001b[49m\u001b[38;5;241;43m.\u001b[39;49m\u001b[43mcompile\u001b[49m\u001b[43m(\u001b[49m\u001b[43mQRDecomposition\u001b[49m\u001b[43m)\u001b[49m\n",
      "\u001b[1;31mRuntimeError\u001b[0m: No common parent found"
     ]
    }
   ],
   "source": [
    "import numpy as np\n",
    "import TensorFrost as tf\n",
    "\n",
    "tf.initialize(tf.opengl)\n",
    "\n",
    "def modified_gram_schmidt(A):\n",
    "    \"\"\"\n",
    "    Implements the Modified Gram-Schmidt orthogonalization to get the QR decomposition of matrix A.\n",
    "    A = QR\n",
    "    \"\"\"\n",
    "    A = A.astype(float)  # Ensure A is of float type\n",
    "    m, n = A.shape\n",
    "    Q = np.zeros((m, n))\n",
    "    R = np.zeros((n, n))\n",
    "    \n",
    "    for i in range(n-1):\n",
    "        R[i, i] = np.linalg.norm(A[:, i])\n",
    "        Q[:, i] = A[:, i] / R[i, i]\n",
    "        R[i, i+1:n] = np.dot(Q[:, i].T, A[:, i+1:n])\n",
    "        A[:, i+1:n] -= np.outer(Q[:, i], R[i, i+1:n])\n",
    "    R[n-1, n-1] = np.linalg.norm(A[:, n-1])\n",
    "    Q[:, n-1] = A[:, n-1] / R[n-1, n-1]\n",
    "    return Q, R\n",
    "\n",
    "# Householder reflection\n",
    "def householder_reflection(a):\n",
    "    v = a.copy()\n",
    "    v[0] = v[0] + np.copysign(np.linalg.norm(v), a[0])\n",
    "    v = v / np.linalg.norm(v)\n",
    "    return np.eye(len(a)) - 2 * np.outer(v, v)\n",
    "\n",
    "# QR decomposition using Householder reflections\n",
    "def qr_decomposition(A):\n",
    "    m, n = A.shape\n",
    "    Q = np.eye(m)\n",
    "    R = A.copy()\n",
    "    for i in range(min(m, n)):\n",
    "        H = np.eye(m)\n",
    "        H[i:, i:] = householder_reflection(R[i:, i])\n",
    "        Q = Q @ H\n",
    "        R = H @ R\n",
    "    return Q, R\n",
    "\n",
    "#dynamic size QR decomposition\n",
    "def QRDecomposition():\n",
    "    A = tf.input([-1, -1], tf.float32)\n",
    "\n",
    "    m, n = A.shape\n",
    "    Q = tf.zeros([m, n])\n",
    "    R = tf.zeros([n, n])\n",
    "    j = tf.index(0, [m])\n",
    "\n",
    "    def loop_body(i):\n",
    "        R[i, i] = tf.norm(A[j, i])\n",
    "        Q[j, i] = A[j, i] / R[i, i]\n",
    "\n",
    "        p, k = tf.index_grid([0, i + 1], [m, n])\n",
    "        t, = tf.index_grid([i+1], [n])\n",
    "        R[i, t] = tf.sum(Q[p, i] * A[p, k], axis=0)\n",
    "        A[p, k] -= Q[p, i] * R[i, k]\n",
    "\n",
    "    tf.loop(loop_body, 0, n-1, 1)\n",
    "\n",
    "    R[n-1, n-1] = tf.norm(A[j, n-1])\n",
    "    Q[j, n-1] = A[j, n-1] / R[n-1, n-1]\n",
    "\n",
    "    return [Q, R]\n",
    "\n",
    "qr = tf.compile(QRDecomposition)\n"
   ]
  },
  {
   "cell_type": "code",
   "execution_count": null,
   "metadata": {},
   "outputs": [
    {
     "name": "stdout",
     "output_type": "stream",
     "text": [
      "QR decomposition is correct: True\n",
      "QR decomposition using TensorFrost is correct: True\n",
      "Error: 1.4686870114880517e-16\n",
      "Error using TensorFrost: 1.473572403332277e-07\n",
      "Q:\n",
      " [[ 0.59719115 -0.20963228  0.5872611  -0.27012587 -0.42611438]\n",
      " [ 0.09662561  0.5911799  -0.06833504  0.5370069  -0.59002006]\n",
      " [ 0.28360906  0.47443348  0.45918897  0.21260762  0.66213495]\n",
      " [ 0.36185166 -0.5774531  -0.15089278  0.70275533  0.1377597 ]\n",
      " [ 0.6501196   0.219138   -0.64562505 -0.31557667  0.1135895 ]]\n",
      "R:\n",
      " [[ 1.3671392   1.0887116   1.0798173   1.362275    0.88334846]\n",
      " [ 0.          0.4051053   0.34498546  0.33760527 -0.19620542]\n",
      " [ 0.          0.          0.6996289   0.22130297  0.04256443]\n",
      " [ 0.          0.          0.          0.15314572  0.73374885]\n",
      " [ 0.          0.          0.          0.          0.31238165]]\n"
     ]
    }
   ],
   "source": [
    "#generate random matrix\n",
    "A = np.random.rand(5, 5)\n",
    "\n",
    "#compute QR decomposition\n",
    "Q, R = modified_gram_schmidt(A)\n",
    "\n",
    "#compute QR decomposition using TensorFrost\n",
    "Atf = tf.tensor(A)\n",
    "Qtf, Rtf = qr(Atf)\n",
    "Qnp = Qtf.numpy\n",
    "Rnp = Rtf.numpy\n",
    "\n",
    "#check if QR decomposition is correct\n",
    "print(\"QR decomposition is correct:\", np.allclose(A, np.dot(Q, R)))\n",
    "print(\"QR decomposition using TensorFrost is correct:\", np.allclose(A, np.dot(Qnp, Rnp)))\n",
    "\n",
    "#check error\n",
    "print(\"Error:\", np.linalg.norm(A - np.dot(Q, R)))\n",
    "print(\"Error using TensorFrost:\", np.linalg.norm(A - np.dot(Qnp, Rnp)))\n",
    "\n",
    "#print Q and R\n",
    "print(\"Q:\\n\", Qnp)\n",
    "print(\"R:\\n\", Rnp)\n"
   ]
  },
  {
   "cell_type": "code",
   "execution_count": null,
   "metadata": {},
   "outputs": [
    {
     "name": "stdout",
     "output_type": "stream",
     "text": [
      "Time for TensorFrost QR decomposition: 0.15400099754333496\n",
      "Time for built-in NumPy QR decomposition: 3.8292949199676514\n",
      "Error: 0.0012286016\n",
      "Error using TensorFrost: 0.0018778603\n"
     ]
    }
   ],
   "source": [
    "#performance test\n",
    "import time\n",
    "A = np.random.rand(5000, 5000).astype(np.float32)\n",
    "\n",
    "#naive NumPy QR decomposition\n",
    "#start = time.time()\n",
    "#Q, R = modified_gram_schmidt(A)\n",
    "#print(\"Time for naive NumPy QR decomposition:\", time.time() - start)\n",
    "\n",
    "#TensorFrost QR decomposition\n",
    "Atf = tf.tensor(A)\n",
    "start = time.time()\n",
    "Qtf, Rtf = qr(Atf)\n",
    "print(\"Time for TensorFrost QR decomposition:\", time.time() - start)\n",
    "\n",
    "#householder QR decomposition\n",
    "#start = time.time()\n",
    "#Q, R = qr_decomposition(A)\n",
    "#print(\"Time for householder QR decomposition:\", time.time() - start)\n",
    "\n",
    "#built-in NumPy QR decomposition\n",
    "start = time.time()\n",
    "Q, R = np.linalg.qr(A)\n",
    "print(\"Time for built-in NumPy QR decomposition:\", time.time() - start)\n",
    "\n",
    "print(\"Error:\", np.linalg.norm(A - np.dot(Q, R)))\n",
    "print(\"Error using TensorFrost:\", np.linalg.norm(A - np.dot(Qtf.numpy, Rtf.numpy)))"
   ]
  }
 ],
 "metadata": {
  "kernelspec": {
   "display_name": "Python 3",
   "language": "python",
   "name": "python3"
  },
  "language_info": {
   "codemirror_mode": {
    "name": "ipython",
    "version": 3
   },
   "file_extension": ".py",
   "mimetype": "text/x-python",
   "name": "python",
   "nbconvert_exporter": "python",
   "pygments_lexer": "ipython3",
   "version": "3.12.0"
  },
  "orig_nbformat": 4
 },
 "nbformat": 4,
 "nbformat_minor": 2
}
