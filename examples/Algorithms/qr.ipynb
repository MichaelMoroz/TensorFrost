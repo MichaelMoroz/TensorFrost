{
 "cells": [
  {
   "cell_type": "code",
   "execution_count": 1,
   "metadata": {},
   "outputs": [
    {
     "name": "stdout",
     "output_type": "stream",
     "text": [
      "TensorFrost module loaded!\n",
      "QRDecomposition:\n",
      "  Kernel count: 8\n",
      "  Intermediate buffers: 0\n",
      "  Host readbacks: 0\n",
      "  Host writes: 0\n",
      "  Lines of generated code: 429\n",
      "  IR Compile time: 2.152600 ms\n",
      "  Compiler time: 1802.515869 ms\n",
      "\n"
     ]
    }
   ],
   "source": [
    "import numpy as np\n",
    "import TensorFrost as tf\n",
    "\n",
    "tf.initialize(tf.opengl)\n",
    "\n",
    "# Householder reflection\n",
    "def householder_reflection(a):\n",
    "    v = a.copy()\n",
    "    v[0] = v[0] + np.copysign(np.linalg.norm(v), a[0])\n",
    "    v = v / np.linalg.norm(v)\n",
    "    return np.eye(len(a)) - 2 * np.outer(v, v)\n",
    "\n",
    "# QR decomposition using Householder reflections\n",
    "def qr_decomposition(A):\n",
    "    m, n = A.shape\n",
    "    Q = np.eye(m)\n",
    "    R = A.copy()\n",
    "    for i in range(min(m, n)):\n",
    "        H = np.eye(m)\n",
    "        H[i:, i:] = householder_reflection(R[i:, i])\n",
    "        Q = Q @ H\n",
    "        R = H @ R\n",
    "    return Q, R\n",
    "\n",
    "\n",
    "def modified_gram_schmidt(A):\n",
    "    \"\"\"\n",
    "    Implements the Modified Gram-Schmidt orthogonalization to get the QR decomposition of matrix A.\n",
    "    A = QR\n",
    "    \"\"\"\n",
    "    A = A.astype(float)  # Ensure A is of float type\n",
    "    m, n = A.shape\n",
    "    Q = np.zeros((m, n))\n",
    "    R = np.zeros((n, n))\n",
    "    \n",
    "    for i in range(n-1):\n",
    "        R[i, i] = np.linalg.norm(A[:, i])\n",
    "        Q[:, i] = A[:, i] / R[i, i]\n",
    "        R[i, i+1:n] = np.dot(Q[:, i].T, A[:, i+1:n])\n",
    "        A[:, i+1:n] -= np.outer(Q[:, i], R[i, i+1:n])\n",
    "    R[n-1, n-1] = np.linalg.norm(A[:, n-1])\n",
    "    Q[:, n-1] = A[:, n-1] / R[n-1, n-1]\n",
    "    return Q, R\n",
    "\n",
    "#dynamic size QR decomposition\n",
    "def QRDecomposition():\n",
    "    A = tf.input([-1, -1], tf.float32)\n",
    "\n",
    "    m, n = A.shape\n",
    "    Q = tf.zeros([m, n])\n",
    "    R = tf.zeros([n, n])\n",
    "    j = tf.index(0, [m])\n",
    "\n",
    "    def loop_body(i):\n",
    "        R[i, i] = tf.norm(A[j, i])\n",
    "        Q[j, i] = A[j, i] / R[i, i]\n",
    "\n",
    "        p, k = tf.index_grid([0, i + 1], [m, n])\n",
    "        t, = tf.index_grid([i+1], [n])\n",
    "        R[i, t] = tf.sum(Q[p, i] * A[p, k], axis=0)\n",
    "        A[p, k] -= Q[p, i] * R[i, k]\n",
    "\n",
    "    tf.loop(loop_body, 0, n-1, 1)\n",
    "\n",
    "    R[n-1, n-1] = tf.norm(A[j, n-1])\n",
    "    Q[j, n-1] = A[j, n-1] / R[n-1, n-1]\n",
    "\n",
    "    return [Q, R]\n",
    "\n",
    "qr = tf.compile(QRDecomposition)\n"
   ]
  },
  {
   "cell_type": "code",
   "execution_count": 2,
   "metadata": {},
   "outputs": [],
   "source": [
    "#print(qr.list_operations())"
   ]
  },
  {
   "cell_type": "code",
   "execution_count": 3,
   "metadata": {},
   "outputs": [
    {
     "name": "stdout",
     "output_type": "stream",
     "text": [
      "QR decomposition is correct: True\n",
      "QR decomposition using TensorFrost is correct: True\n",
      "Error: 2.728883239025302e-16\n",
      "Error using TensorFrost: 1.521530162425671e-07\n",
      "Q:\n",
      " [[ 0.4810599  -0.5285634   0.23356654  0.2128279  -0.62398237]\n",
      " [ 0.54834884 -0.12944621 -0.00621211  0.45926934  0.6867252 ]\n",
      " [ 0.06715198  0.7242256   0.42291582  0.48533544 -0.23786297]\n",
      " [ 0.5619314   0.40278363 -0.64742357 -0.22609515 -0.22742218]\n",
      " [ 0.3842119   0.13087094  0.58940065 -0.67609656  0.17537114]]\n",
      "R:\n",
      " [[ 1.6948739   0.98050874  1.0877407   1.2842695   0.8549449 ]\n",
      " [ 0.          0.88456094  0.603802    0.13863619  0.5888125 ]\n",
      " [ 0.          0.          0.23728572 -0.26149675  0.5166374 ]\n",
      " [ 0.          0.          0.          0.50452     0.58360434]\n",
      " [ 0.          0.          0.          0.          0.08372737]]\n"
     ]
    }
   ],
   "source": [
    "#generate random matrix\n",
    "A = np.random.rand(5, 5)\n",
    "\n",
    "#compute QR decomposition\n",
    "Q, R = modified_gram_schmidt(A)\n",
    "\n",
    "#compute QR decomposition using TensorFrost\n",
    "Atf = tf.tensor(A)\n",
    "Qtf, Rtf = qr(Atf)\n",
    "Qnp = Qtf.numpy\n",
    "Rnp = Rtf.numpy\n",
    "\n",
    "#check if QR decomposition is correct\n",
    "print(\"QR decomposition is correct:\", np.allclose(A, np.dot(Q, R)))\n",
    "print(\"QR decomposition using TensorFrost is correct:\", np.allclose(A, np.dot(Qnp, Rnp)))\n",
    "\n",
    "#check error\n",
    "print(\"Error:\", np.linalg.norm(A - np.dot(Q, R)))\n",
    "print(\"Error using TensorFrost:\", np.linalg.norm(A - np.dot(Qnp, Rnp)))\n",
    "\n",
    "#print Q and R\n",
    "print(\"Q:\\n\", Qnp)\n",
    "print(\"R:\\n\", Rnp)\n"
   ]
  },
  {
   "cell_type": "code",
   "execution_count": 5,
   "metadata": {},
   "outputs": [
    {
     "name": "stdout",
     "output_type": "stream",
     "text": [
      "Time for TensorFrost QR decomposition: 6.600788831710815\n",
      "Time for built-in NumPy QR decomposition: 3.973489284515381\n",
      "Error: 0.0012285255\n",
      "Error using TensorFrost: 0.0018777635\n"
     ]
    }
   ],
   "source": [
    "#performance test\n",
    "import time\n",
    "A = np.random.rand(5000, 5000).astype(np.float32)\n",
    "\n",
    "#naive NumPy QR decomposition\n",
    "#start = time.time()\n",
    "#Q, R = modified_gram_schmidt(A)\n",
    "#print(\"Time for naive NumPy QR decomposition:\", time.time() - start)\n",
    "\n",
    "#TensorFrost QR decomposition\n",
    "Atf = tf.tensor(A)\n",
    "start = time.time()\n",
    "Qtf, Rtf = qr(Atf)\n",
    "print(\"Time for TensorFrost QR decomposition:\", time.time() - start)\n",
    "\n",
    "#householder QR decomposition\n",
    "#start = time.time()\n",
    "#Q, R = qr_decomposition(A)\n",
    "#print(\"Time for householder QR decomposition:\", time.time() - start)\n",
    "\n",
    "#built-in NumPy QR decomposition\n",
    "start = time.time()\n",
    "Q, R = np.linalg.qr(A)\n",
    "print(\"Time for built-in NumPy QR decomposition:\", time.time() - start)\n",
    "\n",
    "print(\"Error:\", np.linalg.norm(A - np.dot(Q, R)))\n",
    "print(\"Error using TensorFrost:\", np.linalg.norm(A - np.dot(Qtf.numpy, Rtf.numpy)))"
   ]
  }
 ],
 "metadata": {
  "kernelspec": {
   "display_name": "Python 3",
   "language": "python",
   "name": "python3"
  },
  "language_info": {
   "codemirror_mode": {
    "name": "ipython",
    "version": 3
   },
   "file_extension": ".py",
   "mimetype": "text/x-python",
   "name": "python",
   "nbconvert_exporter": "python",
   "pygments_lexer": "ipython3",
   "version": "3.12.0"
  },
  "orig_nbformat": 4
 },
 "nbformat": 4,
 "nbformat_minor": 2
}
