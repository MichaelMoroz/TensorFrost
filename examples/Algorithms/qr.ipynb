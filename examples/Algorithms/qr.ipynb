{
 "cells": [
  {
   "cell_type": "code",
   "execution_count": 3,
   "metadata": {},
   "outputs": [
    {
     "name": "stdout",
     "output_type": "stream",
     "text": [
      "QRDecomposition:\n",
      "  Kernel count: 8\n",
      "  Intermediate buffers: 0\n",
      "  Host readbacks: 0\n",
      "  Host writes: 0\n",
      "  Lines of generated code: 444\n",
      "  IR Compile time: 4.008300 ms\n",
      "  Compiler time: 1438.007568 ms\n",
      "\n"
     ]
    }
   ],
   "source": [
    "import numpy as np\n",
    "import TensorFrost as tf\n",
    "\n",
    "tf.initialize(tf.opengl)\n",
    "\n",
    "# Householder reflection\n",
    "def householder_reflection(a):\n",
    "    v = a.copy()\n",
    "    v[0] = v[0] + np.copysign(np.linalg.norm(v), a[0])\n",
    "    v = v / np.linalg.norm(v)\n",
    "    return np.eye(len(a)) - 2 * np.outer(v, v)\n",
    "\n",
    "# QR decomposition using Householder reflections\n",
    "def qr_decomposition(A):\n",
    "    m, n = A.shape\n",
    "    Q = np.eye(m)\n",
    "    R = A.copy()\n",
    "    for i in range(min(m, n)):\n",
    "        H = np.eye(m)\n",
    "        H[i:, i:] = householder_reflection(R[i:, i])\n",
    "        Q = Q @ H\n",
    "        R = H @ R\n",
    "    return Q, R\n",
    "\n",
    "\n",
    "def modified_gram_schmidt(A):\n",
    "    \"\"\"\n",
    "    Implements the Modified Gram-Schmidt orthogonalization to get the QR decomposition of matrix A.\n",
    "    A = QR\n",
    "    \"\"\"\n",
    "    A = A.astype(float)  # Ensure A is of float type\n",
    "    m, n = A.shape\n",
    "    Q = np.zeros((m, n))\n",
    "    R = np.zeros((n, n))\n",
    "    \n",
    "    for i in range(n-1):\n",
    "        R[i, i] = np.linalg.norm(A[:, i])\n",
    "        Q[:, i] = A[:, i] / R[i, i]\n",
    "        R[i, i+1:n] = np.dot(Q[:, i].T, A[:, i+1:n])\n",
    "        A[:, i+1:n] -= np.outer(Q[:, i], R[i, i+1:n])\n",
    "    R[n-1, n-1] = np.linalg.norm(A[:, n-1])\n",
    "    Q[:, n-1] = A[:, n-1] / R[n-1, n-1]\n",
    "    return Q, R\n",
    "\n",
    "#dynamic size QR decomposition\n",
    "def QRDecomposition():\n",
    "    A = tf.input([-1, -1], tf.float32)\n",
    "\n",
    "    m, n = A.shape\n",
    "    Q = tf.zeros([m, n])\n",
    "    R = tf.zeros([n, n])\n",
    "    j = tf.index(0, [m])\n",
    "\n",
    "    with tf.loop(n-1) as i:\n",
    "        R[i, i] = tf.norm(A[j, i])\n",
    "        Q[j, i] = A[j, i] / R[i, i]\n",
    "\n",
    "        p, k = tf.index_grid([0, i + 1], [m, n])\n",
    "        t, = tf.index_grid([i+1], [n])\n",
    "        R[i, t] = tf.sum(Q[p, i] * A[p, k], axis=0)\n",
    "        A[p, k] -= Q[p, i] * R[i, k]\n",
    "\n",
    "    R[n-1, n-1] = tf.norm(A[j, n-1])\n",
    "    Q[j, n-1] = A[j, n-1] / R[n-1, n-1]\n",
    "\n",
    "    return [Q, R]\n",
    "\n",
    "qr = tf.compile(QRDecomposition)"
   ]
  },
  {
   "cell_type": "code",
   "execution_count": 4,
   "metadata": {},
   "outputs": [],
   "source": [
    "#kernels = tf.get_all_generated_kernels()\n",
    "#for kernel in kernels:\n",
    "#    print(kernel)"
   ]
  },
  {
   "cell_type": "code",
   "execution_count": 5,
   "metadata": {},
   "outputs": [
    {
     "name": "stdout",
     "output_type": "stream",
     "text": [
      "QR decomposition is correct: True\n",
      "QR decomposition using TensorFrost is correct: True\n",
      "Error: 1.9229626863835638e-16\n",
      "Error using TensorFrost: 1.4379632869159912e-07\n",
      "Q:\n",
      " [[ 0.38164046  0.4589707  -0.21670018  0.6375303  -0.436225  ]\n",
      " [ 0.10536594  0.48427615  0.83494586 -0.20836361 -0.11757868]\n",
      " [ 0.6480063  -0.27790347  0.2384919   0.30108896  0.5960891 ]\n",
      " [ 0.07976632  0.6735651  -0.39972037 -0.29991347  0.53872347]\n",
      " [ 0.6457351  -0.15460339 -0.19812036 -0.60789555 -0.38773447]]\n",
      "R:\n",
      " [[ 1.5277998   1.5553625   0.9381008   1.3711534   1.3707838 ]\n",
      " [ 0.          0.6546776   0.641195    0.10939406  0.32050806]\n",
      " [ 0.          0.          0.64566505  0.08722901 -0.00254943]\n",
      " [ 0.          0.          0.          0.08293349 -0.15995835]\n",
      " [ 0.          0.          0.          0.          0.16902758]]\n"
     ]
    }
   ],
   "source": [
    "#generate random matrix\n",
    "A = np.random.rand(5, 5)\n",
    "\n",
    "#compute QR decomposition\n",
    "Q, R = modified_gram_schmidt(A)\n",
    "\n",
    "#compute QR decomposition using TensorFrost\n",
    "Atf = tf.tensor(A)\n",
    "Qtf, Rtf = qr(Atf)\n",
    "Qnp = Qtf.numpy\n",
    "Rnp = Rtf.numpy\n",
    "\n",
    "#check if QR decomposition is correct\n",
    "print(\"QR decomposition is correct:\", np.allclose(A, np.dot(Q, R)))\n",
    "print(\"QR decomposition using TensorFrost is correct:\", np.allclose(A, np.dot(Qnp, Rnp)))\n",
    "\n",
    "#check error\n",
    "print(\"Error:\", np.linalg.norm(A - np.dot(Q, R)))\n",
    "print(\"Error using TensorFrost:\", np.linalg.norm(A - np.dot(Qnp, Rnp)))\n",
    "\n",
    "#print Q and R\n",
    "print(\"Q:\\n\", Qnp)\n",
    "print(\"R:\\n\", Rnp)\n"
   ]
  },
  {
   "cell_type": "code",
   "execution_count": 6,
   "metadata": {},
   "outputs": [
    {
     "name": "stdout",
     "output_type": "stream",
     "text": [
      "Time for TensorFrost QR decomposition: 5.670893907546997\n",
      "Time for built-in NumPy QR decomposition: 4.237346887588501\n",
      "Error: 0.0012285828\n",
      "Error using TensorFrost: 0.0018776024\n"
     ]
    }
   ],
   "source": [
    "#performance test\n",
    "import time\n",
    "A = np.random.rand(5000, 5000).astype(np.float32)\n",
    "\n",
    "#naive NumPy QR decomposition\n",
    "#start = time.time()\n",
    "#Q, R = modified_gram_schmidt(A)\n",
    "#print(\"Time for naive NumPy QR decomposition:\", time.time() - start)\n",
    "\n",
    "#TensorFrost QR decomposition\n",
    "Atf = tf.tensor(A)\n",
    "start = time.time()\n",
    "Qtf, Rtf = qr(Atf)\n",
    "Qtf = Qtf.numpy\n",
    "print(\"Time for TensorFrost QR decomposition:\", time.time() - start)\n",
    "Rtf = Rtf.numpy\n",
    "#householder QR decomposition\n",
    "#start = time.time()\n",
    "#Q, R = qr_decomposition(A)\n",
    "#print(\"Time for householder QR decomposition:\", time.time() - start)\n",
    "\n",
    "#built-in NumPy QR decomposition\n",
    "start = time.time()\n",
    "Q, R = np.linalg.qr(A)\n",
    "print(\"Time for built-in NumPy QR decomposition:\", time.time() - start)\n",
    "\n",
    "print(\"Error:\", np.linalg.norm(A - np.dot(Q, R)))\n",
    "print(\"Error using TensorFrost:\", np.linalg.norm(A - np.dot(Qtf, Rtf)))"
   ]
  }
 ],
 "metadata": {
  "kernelspec": {
   "display_name": "Python 3",
   "language": "python",
   "name": "python3"
  },
  "language_info": {
   "codemirror_mode": {
    "name": "ipython",
    "version": 3
   },
   "file_extension": ".py",
   "mimetype": "text/x-python",
   "name": "python",
   "nbconvert_exporter": "python",
   "pygments_lexer": "ipython3",
   "version": "3.12.0"
  },
  "orig_nbformat": 4
 },
 "nbformat": 4,
 "nbformat_minor": 2
}
