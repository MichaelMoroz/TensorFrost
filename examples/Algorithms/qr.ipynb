{
 "cells": [
  {
   "cell_type": "code",
   "execution_count": 1,
   "metadata": {},
   "outputs": [
    {
     "name": "stdout",
     "output_type": "stream",
     "text": [
      "TensorFrost module loaded!\n",
      "QRDecomposition:\n",
      "  Kernel count: 8\n",
      "  Intermediate buffers: 0\n",
      "  Host readbacks: 0\n",
      "  Host writes: 0\n",
      "  Lines of generated code: 429\n",
      "  IR Compile time: 2.897100 ms\n",
      "  Compiler time: 1634.011353 ms\n",
      "\n"
     ]
    }
   ],
   "source": [
    "import numpy as np\n",
    "import TensorFrost as tf\n",
    "\n",
    "tf.initialize(tf.opengl)\n",
    "\n",
    "# Householder reflection\n",
    "def householder_reflection(a):\n",
    "    v = a.copy()\n",
    "    v[0] = v[0] + np.copysign(np.linalg.norm(v), a[0])\n",
    "    v = v / np.linalg.norm(v)\n",
    "    return np.eye(len(a)) - 2 * np.outer(v, v)\n",
    "\n",
    "# QR decomposition using Householder reflections\n",
    "def qr_decomposition(A):\n",
    "    m, n = A.shape\n",
    "    Q = np.eye(m)\n",
    "    R = A.copy()\n",
    "    for i in range(min(m, n)):\n",
    "        H = np.eye(m)\n",
    "        H[i:, i:] = householder_reflection(R[i:, i])\n",
    "        Q = Q @ H\n",
    "        R = H @ R\n",
    "    return Q, R\n",
    "\n",
    "\n",
    "def modified_gram_schmidt(A):\n",
    "    \"\"\"\n",
    "    Implements the Modified Gram-Schmidt orthogonalization to get the QR decomposition of matrix A.\n",
    "    A = QR\n",
    "    \"\"\"\n",
    "    A = A.astype(float)  # Ensure A is of float type\n",
    "    m, n = A.shape\n",
    "    Q = np.zeros((m, n))\n",
    "    R = np.zeros((n, n))\n",
    "    \n",
    "    for i in range(n-1):\n",
    "        R[i, i] = np.linalg.norm(A[:, i])\n",
    "        Q[:, i] = A[:, i] / R[i, i]\n",
    "        R[i, i+1:n] = np.dot(Q[:, i].T, A[:, i+1:n])\n",
    "        A[:, i+1:n] -= np.outer(Q[:, i], R[i, i+1:n])\n",
    "    R[n-1, n-1] = np.linalg.norm(A[:, n-1])\n",
    "    Q[:, n-1] = A[:, n-1] / R[n-1, n-1]\n",
    "    return Q, R\n",
    "\n",
    "#dynamic size QR decomposition\n",
    "def QRDecomposition():\n",
    "    A = tf.input([-1, -1], tf.float32)\n",
    "\n",
    "    m, n = A.shape\n",
    "    Q = tf.zeros([m, n])\n",
    "    R = tf.zeros([n, n])\n",
    "    j = tf.index(0, [m])\n",
    "\n",
    "    def loop_body(i):\n",
    "        R[i, i] = tf.norm(A[j, i])\n",
    "        Q[j, i] = A[j, i] / R[i, i]\n",
    "\n",
    "        p, k = tf.index_grid([0, i + 1], [m, n])\n",
    "        t, = tf.index_grid([i+1], [n])\n",
    "        R[i, t] = tf.sum(Q[p, i] * A[p, k], axis=0)\n",
    "        A[p, k] -= Q[p, i] * R[i, k]\n",
    "\n",
    "    tf.loop(loop_body, 0, n-1, 1)\n",
    "\n",
    "    R[n-1, n-1] = tf.norm(A[j, n-1])\n",
    "    Q[j, n-1] = A[j, n-1] / R[n-1, n-1]\n",
    "\n",
    "    return [Q, R]\n",
    "\n",
    "qr = tf.compile(QRDecomposition)\n"
   ]
  },
  {
   "cell_type": "code",
   "execution_count": 2,
   "metadata": {},
   "outputs": [],
   "source": [
    "#print(qr.list_operations())"
   ]
  },
  {
   "cell_type": "code",
   "execution_count": 3,
   "metadata": {},
   "outputs": [
    {
     "name": "stdout",
     "output_type": "stream",
     "text": [
      "QR decomposition is correct: True\n",
      "QR decomposition using TensorFrost is correct: True\n",
      "Error: 2.2030305172320775e-16\n",
      "Error using TensorFrost: 1.0693669784371055e-07\n",
      "Q:\n",
      " [[ 0.18342032  0.7535508  -0.10644833 -0.02849421 -0.6215908 ]\n",
      " [ 0.6835706  -0.36019298 -0.2872629   0.52576804 -0.2098579 ]\n",
      " [ 0.01957198  0.507313    0.15320423  0.6315658   0.5656001 ]\n",
      " [ 0.31524605 -0.08165301  0.93082225 -0.02281861 -0.16432247]\n",
      " [ 0.6319218   0.19592991 -0.12746401 -0.5686475   0.4718888 ]]\n",
      "R:\n",
      " [[ 1.1499681   0.8690763   0.88347316  1.0972072   0.85174567]\n",
      " [ 0.          1.1123344   0.67282724  1.0126327   0.22717237]\n",
      " [ 0.          0.          0.79170537  0.41513917  0.1916663 ]\n",
      " [ 0.          0.          0.          0.6089157  -0.16332015]\n",
      " [ 0.          0.          0.          0.          0.25340018]]\n"
     ]
    }
   ],
   "source": [
    "#generate random matrix\n",
    "A = np.random.rand(5, 5)\n",
    "\n",
    "#compute QR decomposition\n",
    "Q, R = modified_gram_schmidt(A)\n",
    "\n",
    "#compute QR decomposition using TensorFrost\n",
    "Atf = tf.tensor(A)\n",
    "Qtf, Rtf = qr(Atf)\n",
    "Qnp = Qtf.numpy\n",
    "Rnp = Rtf.numpy\n",
    "\n",
    "#check if QR decomposition is correct\n",
    "print(\"QR decomposition is correct:\", np.allclose(A, np.dot(Q, R)))\n",
    "print(\"QR decomposition using TensorFrost is correct:\", np.allclose(A, np.dot(Qnp, Rnp)))\n",
    "\n",
    "#check error\n",
    "print(\"Error:\", np.linalg.norm(A - np.dot(Q, R)))\n",
    "print(\"Error using TensorFrost:\", np.linalg.norm(A - np.dot(Qnp, Rnp)))\n",
    "\n",
    "#print Q and R\n",
    "print(\"Q:\\n\", Qnp)\n",
    "print(\"R:\\n\", Rnp)\n"
   ]
  },
  {
   "cell_type": "code",
   "execution_count": 4,
   "metadata": {},
   "outputs": [
    {
     "name": "stdout",
     "output_type": "stream",
     "text": [
      "Time for TensorFrost QR decomposition: 0.16500163078308105\n",
      "Time for built-in NumPy QR decomposition: 4.173810720443726\n",
      "Error: 0.0012286535\n",
      "Error using TensorFrost: 0.0018777299\n"
     ]
    }
   ],
   "source": [
    "#performance test\n",
    "import time\n",
    "A = np.random.rand(5000, 5000).astype(np.float32)\n",
    "\n",
    "#naive NumPy QR decomposition\n",
    "#start = time.time()\n",
    "#Q, R = modified_gram_schmidt(A)\n",
    "#print(\"Time for naive NumPy QR decomposition:\", time.time() - start)\n",
    "\n",
    "#TensorFrost QR decomposition\n",
    "Atf = tf.tensor(A)\n",
    "start = time.time()\n",
    "Qtf, Rtf = qr(Atf)\n",
    "print(\"Time for TensorFrost QR decomposition:\", time.time() - start)\n",
    "\n",
    "#householder QR decomposition\n",
    "#start = time.time()\n",
    "#Q, R = qr_decomposition(A)\n",
    "#print(\"Time for householder QR decomposition:\", time.time() - start)\n",
    "\n",
    "#built-in NumPy QR decomposition\n",
    "start = time.time()\n",
    "Q, R = np.linalg.qr(A)\n",
    "print(\"Time for built-in NumPy QR decomposition:\", time.time() - start)\n",
    "\n",
    "print(\"Error:\", np.linalg.norm(A - np.dot(Q, R)))\n",
    "print(\"Error using TensorFrost:\", np.linalg.norm(A - np.dot(Qtf.numpy, Rtf.numpy)))"
   ]
  }
 ],
 "metadata": {
  "kernelspec": {
   "display_name": "Python 3",
   "language": "python",
   "name": "python3"
  },
  "language_info": {
   "codemirror_mode": {
    "name": "ipython",
    "version": 3
   },
   "file_extension": ".py",
   "mimetype": "text/x-python",
   "name": "python",
   "nbconvert_exporter": "python",
   "pygments_lexer": "ipython3",
   "version": "3.12.0"
  },
  "orig_nbformat": 4
 },
 "nbformat": 4,
 "nbformat_minor": 2
}
