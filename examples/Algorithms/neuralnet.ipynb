{
 "cells": [
  {
   "cell_type": "code",
   "execution_count": 1,
   "metadata": {},
   "outputs": [
    {
     "name": "stdout",
     "output_type": "stream",
     "text": [
      "TensorFrost module loaded in debug mode! Expect slow performance.\n"
     ]
    }
   ],
   "source": [
    "import TensorFrost as tf\n",
    "import numpy as np\n",
    "import matplotlib.pyplot as plt\n",
    "import time\n",
    "\n",
    "tf.initialize(tf.opengl)\n"
   ]
  },
  {
   "cell_type": "code",
   "execution_count": 2,
   "metadata": {},
   "outputs": [],
   "source": [
    "#download MNIST data\n",
    "import gzip\n",
    "import sys\n",
    "import struct\n",
    "import urllib.request\n",
    "import numpy as np\n",
    "\n",
    "def read_image(fi):\n",
    "    magic, n, rows, columns = struct.unpack(\">IIII\", fi.read(16))\n",
    "    assert magic == 0x00000803\n",
    "    assert rows == 28\n",
    "    assert columns == 28\n",
    "    rawbuffer = fi.read()\n",
    "    assert len(rawbuffer) == n * rows * columns\n",
    "    rawdata = np.frombuffer(rawbuffer, dtype='>u1', count=n*rows*columns)\n",
    "    return rawdata.reshape(n, rows, columns).astype(np.float32) / 255.0\n",
    "\n",
    "def read_label(fi):\n",
    "    magic, n = struct.unpack(\">II\", fi.read(8))\n",
    "    assert magic == 0x00000801\n",
    "    rawbuffer = fi.read()\n",
    "    assert len(rawbuffer) == n\n",
    "    return np.frombuffer(rawbuffer, dtype='>u1', count=n)\n",
    "\n",
    "def openurl_gzip(url):\n",
    "    request = urllib.request.Request(\n",
    "        url,\n",
    "        headers={\n",
    "            \"Accept-Encoding\": \"gzip\",\n",
    "            \"User-Agent\": \"Mozilla/5.0 (X11; U; Linux i686) Gecko/20071127 Firefox/2.0.0.11\", \n",
    "        })\n",
    "    response = urllib.request.urlopen(request)\n",
    "    return gzip.GzipFile(fileobj=response, mode='rb')\n",
    "\n",
    "if __name__ == '__main__':\n",
    "    np.savez_compressed(\n",
    "        'mnist',\n",
    "        train_x=read_image(openurl_gzip('http://yann.lecun.com/exdb/mnist/train-images-idx3-ubyte.gz')),\n",
    "        train_y=read_label(openurl_gzip('http://yann.lecun.com/exdb/mnist/train-labels-idx1-ubyte.gz')),\n",
    "        test_x=read_image(openurl_gzip('http://yann.lecun.com/exdb/mnist/t10k-images-idx3-ubyte.gz')),\n",
    "        test_y=read_label(openurl_gzip('http://yann.lecun.com/exdb/mnist/t10k-labels-idx1-ubyte.gz'))\n",
    "    )\n",
    "     "
   ]
  },
  {
   "cell_type": "code",
   "execution_count": 3,
   "metadata": {},
   "outputs": [
    {
     "name": "stdout",
     "output_type": "stream",
     "text": [
      "(60000, 28, 28) float32\n",
      "(60000,) uint8\n",
      "(10000, 28, 28) float32\n",
      "(10000,) uint8\n"
     ]
    }
   ],
   "source": [
    "import numpy as np\n",
    "data = np.load('mnist.npz')\n",
    "\n",
    "print(data['train_x'].shape, data['train_x'].dtype)\n",
    "print(data['train_y'].shape, data['train_y'].dtype)\n",
    "print(data['test_x'].shape, data['test_x'].dtype)\n",
    "print(data['test_y'].shape, data['test_y'].dtype)"
   ]
  },
  {
   "cell_type": "code",
   "execution_count": 4,
   "metadata": {},
   "outputs": [
    {
     "name": "stdout",
     "output_type": "stream",
     "text": [
      "0\n"
     ]
    },
    {
     "data": {
      "image/png": "[encoded data removed]",
      "text/plain": [
       "<Figure size 400x400 with 1 Axes>"
      ]
     },
     "metadata": {},
     "output_type": "display_data"
    }
   ],
   "source": [
    "import matplotlib.pyplot as plt\n",
    "import numpy as np\n",
    "\n",
    "# Index number of an instance (change this to view another instance).\n",
    "i = 1\n",
    "\n",
    "data = np.load('mnist.npz')\n",
    "image = data['train_x'][i]\n",
    "label = data['train_y'][i]\n",
    "\n",
    "print(label)\n",
    "f, ax = plt.subplots(figsize=(4, 4))\n",
    "ax.imshow(image, cmap='gray')\n",
    "plt.show()\n",
    "     "
   ]
  },
  {
   "cell_type": "code",
   "execution_count": 6,
   "metadata": {},
   "outputs": [],
   "source": [
    "import numpy as np\n",
    "\n",
    "def image_to_vector(X):\n",
    "    X = np.reshape(X, (len(X), -1))         # Flatten: (N x 28 x 28) -> (N x 784)\n",
    "    return X\n",
    "\n",
    "data = np.load('mnist.npz')\n",
    "Xtrain = image_to_vector(data['train_x'])   # (60000 x 784)\n",
    "Ytrain = data['train_y']                    # (60000)\n",
    "Xtest = image_to_vector(data['test_x'])     # (10000 x 784)\n",
    "Ytest = data['test_y']                      # (10000)"
   ]
  },
  {
   "cell_type": "code",
   "execution_count": 7,
   "metadata": {},
   "outputs": [
    {
     "name": "stdout",
     "output_type": "stream",
     "text": [
      "step:\n",
      "  Kernel count: 10\n",
      "  Intermediate buffers: 8\n",
      "  Host readbacks: 1\n",
      "  Host writes: 0\n",
      "  Lines of generated code: 448\n",
      "  IR Compile time: 90.901108 ms\n",
      "  Compiler time: 1788.895630 ms\n",
      "\n"
     ]
    }
   ],
   "source": [
    "def leaky_relu(X):\n",
    "\treturn tf.select(X > 0.0, X, 0.01 * X)\n",
    "\n",
    "def forward(W, X, b):\n",
    "    L1 = tf.matmul(W, X)\n",
    "    L1 = L1 + b[L1.indices[1]]\n",
    "    L2 = leaky_relu(L1)\n",
    "    return L2\n",
    "\n",
    "def loss(Y, Yhat):\n",
    "    Y *= 1.0 #tensor view bug\n",
    "    elements = Y.shape[1] * Y.shape[0]\n",
    "    return tf.sum(tf.sum((Y - Yhat) ** 2.0)) / tf.float(elements)\n",
    "\n",
    "def backward(W, X, b, Y, Yhat):\n",
    "    dL2 = 2.0 * (Yhat - Y)\n",
    "    dL1 = tf.select(Yhat > 0.0, dL2, 0.01 * dL2)\n",
    "    dW = tf.matmul(dL1, X.T)\n",
    "    db = tf.sum(dL1, axis = 1)\n",
    "    return dW, db\n",
    "\n",
    "def update(W, X, b, dW, db, lr):\n",
    "    W -= lr * dW\n",
    "    b -= lr * db\n",
    "    return W, b\n",
    "\n",
    "def step():\n",
    "    W = tf.input([-1, -1], tf.float32)\n",
    "    Out, In = W.shape\n",
    "    b = tf.input([Out], tf.float32)\n",
    "\n",
    "    X = tf.input([In, -1], tf.float32)\n",
    "    Y = tf.input([Out, -1], tf.float32)\n",
    "    \n",
    "    info = tf.input([2], tf.int32)\n",
    "    offset = info[0]\n",
    "    batch_size = info[1]\n",
    "\n",
    "    #TODO: implement slicing instead of this crap\n",
    "    i, j = tf.indices([In, batch_size])\n",
    "    Xbatch = X[i, j + offset]\n",
    "    i, j = tf.indices([Out, batch_size])\n",
    "    Ybatch = Y[i, j + offset]\n",
    "\n",
    "    Yhat = forward(W, Xbatch, b)\n",
    "    L = loss(Ybatch, Yhat)\n",
    "    dW, db = backward(W, X, b, Ybatch, Yhat)\n",
    "    W, b = update(W, X, b, dW, db, 0.001)\n",
    "\n",
    "    return [L, W, b]\n",
    "\n",
    "fwd = tf.compile(step)\n"
   ]
  },
  {
   "cell_type": "code",
   "execution_count": 8,
   "metadata": {},
   "outputs": [
    {
     "name": "stdout",
     "output_type": "stream",
     "text": [
      "(784, 60000)\n",
      "(10, 60000)\n"
     ]
    }
   ],
   "source": [
    "Xsamples = Xtrain.T\n",
    "Ysamples = np.zeros((10, Xsamples.shape[1]))\n",
    "for i in range(Xsamples.shape[1]):\n",
    "    Ysamples[Ytrain[i], i] = 1.0\n",
    "\n",
    "print (Xsamples.shape)\n",
    "print (Ysamples.shape)\n",
    "\n",
    "W = np.random.randn(10, 28*28)          # (10 x 785)\n",
    "b = np.random.randn(10)                   # (10)"
   ]
  },
  {
   "cell_type": "code",
   "execution_count": 10,
   "metadata": {},
   "outputs": [
    {
     "name": "stdout",
     "output_type": "stream",
     "text": [
      "Epoch:  0  Loss:  [0.40107977]\n",
      "Epoch:  1  Loss:  [0.21958175]\n",
      "Epoch:  2  Loss:  [0.1983069]\n",
      "Epoch:  3  Loss:  [0.19898166]\n",
      "Epoch:  4  Loss:  [0.20161784]\n",
      "Epoch:  5  Loss:  [0.2044298]\n",
      "Epoch:  6  Loss:  [0.20747867]\n",
      "Epoch:  7  Loss:  [0.2107974]\n",
      "Epoch:  8  Loss:  [0.21439463]\n",
      "Epoch:  9  Loss:  [0.21823572]\n"
     ]
    }
   ],
   "source": [
    "Wtf = tf.tensor(W)\n",
    "btf = tf.tensor(b)\n",
    "Xtf = tf.tensor(Xsamples)\n",
    "Ytf = tf.tensor(Ysamples)\n",
    "\n",
    "batch_size = 128\n",
    "epochs = 10\n",
    "iterations = Xsamples.shape[1] // batch_size\n",
    "\n",
    "for i in range(epochs):\n",
    "    avg_loss = 0\n",
    "    for j in range(iterations):\n",
    "        offset = j * batch_size\n",
    "        info = np.array([offset, batch_size])\n",
    "        info_tf = tf.tensor(info)\n",
    "        L, Wtf, btf = fwd(Wtf, btf, Xtf, Ytf, info_tf)\n",
    "        avg_loss += L.numpy\n",
    "    print(\"Epoch: \", i, \" Loss: \", avg_loss / iterations)"
   ]
  }
 ],
 "metadata": {
  "kernelspec": {
   "display_name": "Python 3",
   "language": "python",
   "name": "python3"
  },
  "language_info": {
   "codemirror_mode": {
    "name": "ipython",
    "version": 3
   },
   "file_extension": ".py",
   "mimetype": "text/x-python",
   "name": "python",
   "nbconvert_exporter": "python",
   "pygments_lexer": "ipython3",
   "version": "3.12.0"
  },
  "orig_nbformat": 4
 },
 "nbformat": 4,
 "nbformat_minor": 2
}
