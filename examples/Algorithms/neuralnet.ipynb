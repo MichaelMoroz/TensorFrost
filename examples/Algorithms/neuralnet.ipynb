{
 "cells": [
  {
   "cell_type": "code",
   "execution_count": 33,
   "metadata": {},
   "outputs": [],
   "source": [
    "import TensorFrost as tf\n",
    "import numpy as np\n",
    "import matplotlib.pyplot as plt\n",
    "import time\n",
    "\n",
    "tf.initialize(tf.opengl)\n"
   ]
  },
  {
   "cell_type": "code",
   "execution_count": 8,
   "metadata": {},
   "outputs": [],
   "source": [
    "#download MNIST data\n",
    "import gzip\n",
    "import sys\n",
    "import struct\n",
    "import urllib.request\n",
    "import numpy as np\n",
    "\n",
    "def read_image(fi):\n",
    "    magic, n, rows, columns = struct.unpack(\">IIII\", fi.read(16))\n",
    "    assert magic == 0x00000803\n",
    "    assert rows == 28\n",
    "    assert columns == 28\n",
    "    rawbuffer = fi.read()\n",
    "    assert len(rawbuffer) == n * rows * columns\n",
    "    rawdata = np.frombuffer(rawbuffer, dtype='>u1', count=n*rows*columns)\n",
    "    return rawdata.reshape(n, rows, columns).astype(np.float32) / 255.0\n",
    "\n",
    "def read_label(fi):\n",
    "    magic, n = struct.unpack(\">II\", fi.read(8))\n",
    "    assert magic == 0x00000801\n",
    "    rawbuffer = fi.read()\n",
    "    assert len(rawbuffer) == n\n",
    "    return np.frombuffer(rawbuffer, dtype='>u1', count=n)\n",
    "\n",
    "def openurl_gzip(url):\n",
    "    request = urllib.request.Request(\n",
    "        url,\n",
    "        headers={\n",
    "            \"Accept-Encoding\": \"gzip\",\n",
    "            \"User-Agent\": \"Mozilla/5.0 (X11; U; Linux i686) Gecko/20071127 Firefox/2.0.0.11\", \n",
    "        })\n",
    "    response = urllib.request.urlopen(request)\n",
    "    return gzip.GzipFile(fileobj=response, mode='rb')\n",
    "\n",
    "if __name__ == '__main__':\n",
    "    np.savez_compressed(\n",
    "        'mnist',\n",
    "        train_x=read_image(openurl_gzip('http://yann.lecun.com/exdb/mnist/train-images-idx3-ubyte.gz')),\n",
    "        train_y=read_label(openurl_gzip('http://yann.lecun.com/exdb/mnist/train-labels-idx1-ubyte.gz')),\n",
    "        test_x=read_image(openurl_gzip('http://yann.lecun.com/exdb/mnist/t10k-images-idx3-ubyte.gz')),\n",
    "        test_y=read_label(openurl_gzip('http://yann.lecun.com/exdb/mnist/t10k-labels-idx1-ubyte.gz'))\n",
    "    )\n",
    "     "
   ]
  },
  {
   "cell_type": "code",
   "execution_count": 9,
   "metadata": {},
   "outputs": [
    {
     "name": "stdout",
     "output_type": "stream",
     "text": [
      "(60000, 28, 28) float32\n",
      "(60000,) uint8\n",
      "(10000, 28, 28) float32\n",
      "(10000,) uint8\n"
     ]
    }
   ],
   "source": [
    "import numpy as np\n",
    "data = np.load('mnist.npz')\n",
    "\n",
    "print(data['train_x'].shape, data['train_x'].dtype)\n",
    "print(data['train_y'].shape, data['train_y'].dtype)\n",
    "print(data['test_x'].shape, data['test_x'].dtype)\n",
    "print(data['test_y'].shape, data['test_y'].dtype)"
   ]
  },
  {
   "cell_type": "code",
   "execution_count": 13,
   "metadata": {},
   "outputs": [
    {
     "name": "stdout",
     "output_type": "stream",
     "text": [
      "0\n"
     ]
    },
    {
     "data": {
      "image/png": "[encoded data removed]",
      "text/plain": [
       "<Figure size 400x400 with 1 Axes>"
      ]
     },
     "metadata": {},
     "output_type": "display_data"
    }
   ],
   "source": [
    "import matplotlib.pyplot as plt\n",
    "import numpy as np\n",
    "\n",
    "# Index number of an instance (change this to view another instance).\n",
    "i = 1\n",
    "\n",
    "data = np.load('mnist.npz')\n",
    "image = data['train_x'][i]\n",
    "label = data['train_y'][i]\n",
    "\n",
    "print(label)\n",
    "f, ax = plt.subplots(figsize=(4, 4))\n",
    "ax.imshow(image, cmap='gray')\n",
    "plt.show()\n",
    "     "
   ]
  },
  {
   "cell_type": "code",
   "execution_count": 34,
   "metadata": {},
   "outputs": [],
   "source": [
    "import numpy as np\n",
    "\n",
    "def image_to_vector(X):\n",
    "    X = np.reshape(X, (len(X), -1))         # Flatten: (N x 28 x 28) -> (N x 784)\n",
    "    return X\n",
    "\n",
    "data = np.load('mnist.npz')\n",
    "Xtrain = image_to_vector(data['train_x'])   # (60000 x 784)\n",
    "Ytrain = data['train_y']                    # (60000)\n",
    "Xtest = image_to_vector(data['test_x'])     # (10000 x 784)\n",
    "Ytest = data['test_y']                      # (10000)\n",
    "\n",
    "#permute the data\n",
    "#np.random.seed(0)\n",
    "#perm = np.random.permutation(len(Xtrain))\n",
    "#Xtrain = Xtrain[perm]\n",
    "#Ytrain = Ytrain[perm]"
   ]
  },
  {
   "cell_type": "code",
   "execution_count": 45,
   "metadata": {},
   "outputs": [
    {
     "name": "stdout",
     "output_type": "stream",
     "text": [
      "step:\n",
      "  Kernel count: 9\n",
      "  Intermediate buffers: 7\n",
      "  Host readbacks: 0\n",
      "  Host writes: 0\n",
      "  Lines of generated code: 444\n",
      "  IR Compile time: 69.956306 ms\n",
      "  Compiler time: 1746.814575 ms\n",
      "\n"
     ]
    }
   ],
   "source": [
    "def leaky_relu(X):\n",
    "\treturn tf.select(X > 0.0, X, 0.01 * X)\n",
    "\n",
    "def forward(W, X, b):\n",
    "    L1 = tf.matmul(W, X)\n",
    "    L1 = L1 + b[L1.indices[1]]\n",
    "    L2 = leaky_relu(L1)\n",
    "    return L2\n",
    "\n",
    "def loss(Y, Yhat):\n",
    "    elements = Y.shape[1] * Y.shape[0]\n",
    "    return tf.sum(tf.sum((Y - Yhat) ** 2.0)) / tf.float(elements)\n",
    "\n",
    "def backward(W, X, b, Y, Yhat):\n",
    "    dL2 = 2.0 * (Yhat - Y)\n",
    "    dL1 = tf.select(Yhat > 0.0, dL2, 0.01 * dL2)\n",
    "    dW = tf.matmul(dL1, X.T)\n",
    "    db = tf.sum(dL1, axis = 1)\n",
    "    return dW, db\n",
    "\n",
    "def update(W, X, b, dW, db, lr):\n",
    "    W -= lr * dW\n",
    "    b -= lr * db\n",
    "    return W, b\n",
    "\n",
    "def step():\n",
    "    W = tf.input([-1, -1], tf.float32)\n",
    "    Out, In = W.shape\n",
    "    X = tf.input([In, -1], tf.float32)\n",
    "    b = tf.input([Out], tf.float32)\n",
    "    Samples = X.shape[1]\n",
    "    Y = tf.input([Out, Samples], tf.float32)\n",
    "    Yhat = forward(W, X, b)\n",
    "    L = loss(Y, Yhat)\n",
    "    dW, db = backward(W, X, b, Y, Yhat)\n",
    "    W, b = update(W, X, b, dW, db, 0.001)\n",
    "\n",
    "    return [Yhat, L, W, b]\n",
    "\n",
    "fwd = tf.compile(step)\n"
   ]
  },
  {
   "cell_type": "code",
   "execution_count": 46,
   "metadata": {},
   "outputs": [
    {
     "name": "stdout",
     "output_type": "stream",
     "text": [
      "(784, 1024)\n",
      "(10, 1024)\n"
     ]
    }
   ],
   "source": [
    "TrainSamples = 1024\n",
    "Xsamples = Xtrain[:TrainSamples].T\n",
    "Ysamples = np.zeros((10, TrainSamples))\n",
    "Ysamples[Ytrain[:TrainSamples], np.arange(TrainSamples)] = 1.0\n",
    "\n",
    "print (Xsamples.shape)\n",
    "print (Ysamples.shape)\n",
    "\n",
    "W = np.random.randn(10, 28*28)          # (10 x 785)\n",
    "b = np.random.randn(10)                   # (10)"
   ]
  },
  {
   "cell_type": "code",
   "execution_count": 47,
   "metadata": {},
   "outputs": [
    {
     "name": "stdout",
     "output_type": "stream",
     "text": [
      "Epoch:  0  Loss:  [9.767156]\n",
      "Epoch:  1  Loss:  [2.1540244]\n",
      "Epoch:  2  Loss:  [0.5607424]\n",
      "Epoch:  3  Loss:  [0.217234]\n",
      "Epoch:  4  Loss:  [0.14406332]\n",
      "Epoch:  5  Loss:  [0.12176681]\n",
      "Epoch:  6  Loss:  [0.11305013]\n",
      "Epoch:  7  Loss:  [0.106271]\n",
      "Epoch:  8  Loss:  [0.10400663]\n",
      "Epoch:  9  Loss:  [0.10089896]\n",
      "Epoch:  10  Loss:  [0.10073254]\n",
      "Epoch:  11  Loss:  [0.10036767]\n",
      "Epoch:  12  Loss:  [0.10042464]\n",
      "Epoch:  13  Loss:  [0.10271569]\n",
      "Epoch:  14  Loss:  [0.10192233]\n",
      "Epoch:  15  Loss:  [0.10292225]\n",
      "Epoch:  16  Loss:  [0.10326263]\n",
      "Epoch:  17  Loss:  [0.10633186]\n",
      "Epoch:  18  Loss:  [0.10422324]\n",
      "Epoch:  19  Loss:  [0.1043802]\n",
      "Epoch:  20  Loss:  [0.10617748]\n",
      "Epoch:  21  Loss:  [0.10738812]\n",
      "Epoch:  22  Loss:  [0.10494015]\n",
      "Epoch:  23  Loss:  [0.10754273]\n",
      "Epoch:  24  Loss:  [0.10997789]\n",
      "Epoch:  25  Loss:  [0.11045375]\n",
      "Epoch:  26  Loss:  [0.11017834]\n",
      "Epoch:  27  Loss:  [0.11054774]\n",
      "Epoch:  28  Loss:  [0.11386]\n",
      "Epoch:  29  Loss:  [0.11196651]\n",
      "Epoch:  30  Loss:  [0.1106842]\n",
      "Epoch:  31  Loss:  [0.11052721]\n",
      "Epoch:  32  Loss:  [0.11581771]\n",
      "Epoch:  33  Loss:  [0.11256845]\n",
      "Epoch:  34  Loss:  [0.11280917]\n",
      "Epoch:  35  Loss:  [0.11313418]\n",
      "Epoch:  36  Loss:  [0.11065363]\n",
      "Epoch:  37  Loss:  [0.11572637]\n",
      "Epoch:  38  Loss:  [0.11104327]\n",
      "Epoch:  39  Loss:  [0.11384021]\n",
      "Epoch:  40  Loss:  [0.1157757]\n",
      "Epoch:  41  Loss:  [0.1126736]\n",
      "Epoch:  42  Loss:  [0.11670491]\n",
      "Epoch:  43  Loss:  [0.11724874]\n",
      "Epoch:  44  Loss:  [0.11987166]\n",
      "Epoch:  45  Loss:  [0.11601228]\n",
      "Epoch:  46  Loss:  [0.1148913]\n",
      "Epoch:  47  Loss:  [0.11592103]\n",
      "Epoch:  48  Loss:  [0.11422776]\n",
      "Epoch:  49  Loss:  [0.11439013]\n",
      "Epoch:  50  Loss:  [0.11383043]\n",
      "Epoch:  51  Loss:  [0.11531824]\n",
      "Epoch:  52  Loss:  [0.12034279]\n",
      "Epoch:  53  Loss:  [0.11744741]\n",
      "Epoch:  54  Loss:  [0.12493929]\n",
      "Epoch:  55  Loss:  [0.11664387]\n",
      "Epoch:  56  Loss:  [0.11974685]\n",
      "Epoch:  57  Loss:  [0.12007123]\n",
      "Epoch:  58  Loss:  [0.12016963]\n",
      "Epoch:  59  Loss:  [0.12462939]\n",
      "Epoch:  60  Loss:  [0.11909805]\n",
      "Epoch:  61  Loss:  [0.11789605]\n",
      "Epoch:  62  Loss:  [0.11829267]\n",
      "Epoch:  63  Loss:  [0.11857688]\n",
      "Epoch:  64  Loss:  [0.12042686]\n",
      "Epoch:  65  Loss:  [0.12061616]\n",
      "Epoch:  66  Loss:  [0.1257971]\n",
      "Epoch:  67  Loss:  [0.125205]\n",
      "Epoch:  68  Loss:  [0.11454633]\n",
      "Epoch:  69  Loss:  [0.12323891]\n",
      "Epoch:  70  Loss:  [0.12135301]\n",
      "Epoch:  71  Loss:  [0.12535185]\n",
      "Epoch:  72  Loss:  [0.11773575]\n",
      "Epoch:  73  Loss:  [0.1226948]\n",
      "Epoch:  74  Loss:  [0.12799935]\n",
      "Epoch:  75  Loss:  [0.12140186]\n",
      "Epoch:  76  Loss:  [0.12044252]\n",
      "Epoch:  77  Loss:  [0.12844089]\n",
      "Epoch:  78  Loss:  [0.13308255]\n",
      "Epoch:  79  Loss:  [0.13309565]\n",
      "Epoch:  80  Loss:  [0.11918588]\n",
      "Epoch:  81  Loss:  [0.12758884]\n",
      "Epoch:  82  Loss:  [0.13410656]\n",
      "Epoch:  83  Loss:  [0.12054138]\n",
      "Epoch:  84  Loss:  [0.13100234]\n",
      "Epoch:  85  Loss:  [0.12112583]\n",
      "Epoch:  86  Loss:  [0.1229243]\n",
      "Epoch:  87  Loss:  [0.12152464]\n",
      "Epoch:  88  Loss:  [0.11720617]\n",
      "Epoch:  89  Loss:  [0.12814361]\n",
      "Epoch:  90  Loss:  [0.13204508]\n",
      "Epoch:  91  Loss:  [0.134342]\n",
      "Epoch:  92  Loss:  [0.12479665]\n",
      "Epoch:  93  Loss:  [0.12234871]\n",
      "Epoch:  94  Loss:  [0.13418952]\n",
      "Epoch:  95  Loss:  [0.12621126]\n",
      "Epoch:  96  Loss:  [0.13515887]\n",
      "Epoch:  97  Loss:  [0.1246703]\n",
      "Epoch:  98  Loss:  [0.12603725]\n",
      "Epoch:  99  Loss:  [0.1354461]\n"
     ]
    }
   ],
   "source": [
    "Wtf = tf.tensor(W)\n",
    "btf = tf.tensor(b)\n",
    "Xtf = tf.tensor(Xsamples)\n",
    "Ytf = tf.tensor(Ysamples)\n",
    "\n",
    "#for i in range(30):\n",
    "#    Yhat, L, Wtf, btf = fwd(Wtf, Xtf, btf, Ytf)\n",
    "#    print(\"Loss: \", L.numpy)\n",
    "\n",
    "epochs = 100\n",
    "iterations = 100\n",
    "\n",
    "for i in range(epochs):\n",
    "    avg_loss = 0\n",
    "    for j in range(iterations):\n",
    "        Yhat, L, Wtf, btf = fwd(Wtf, Xtf, btf, Ytf)\n",
    "        avg_loss += L.numpy\n",
    "    print(\"Epoch: \", i, \" Loss: \", avg_loss / iterations)"
   ]
  }
 ],
 "metadata": {
  "kernelspec": {
   "display_name": "Python 3",
   "language": "python",
   "name": "python3"
  },
  "language_info": {
   "codemirror_mode": {
    "name": "ipython",
    "version": 3
   },
   "file_extension": ".py",
   "mimetype": "text/x-python",
   "name": "python",
   "nbconvert_exporter": "python",
   "pygments_lexer": "ipython3",
   "version": "3.12.0"
  },
  "orig_nbformat": 4
 },
 "nbformat": 4,
 "nbformat_minor": 2
}
