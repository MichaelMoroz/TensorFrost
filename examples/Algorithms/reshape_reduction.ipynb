{
 "cells": [
  {
   "cell_type": "code",
   "execution_count": 3,
   "metadata": {},
   "outputs": [
    {
     "name": "stdout",
     "output_type": "stream",
     "text": [
      "MaxBlock:\n",
      "  Kernel count: 4\n",
      "  Intermediate buffers: 0\n",
      "  Host readbacks: 0\n",
      "  Host writes: 0\n",
      "  Lines of generated code: 563\n",
      "  IR Compile time: 2.613100 ms\n",
      "  Compiler time: 1413.990601 ms\n",
      "\n",
      "Transpose:\n",
      "  Kernel count: 1\n",
      "  Intermediate buffers: 0\n",
      "  Host readbacks: 0\n",
      "  Host writes: 0\n",
      "  Lines of generated code: 430\n",
      "  IR Compile time: 0.445400 ms\n",
      "  Compiler time: 1349.074463 ms\n",
      "\n"
     ]
    }
   ],
   "source": [
    "import TensorFrost as tf\n",
    "import numpy as np\n",
    "\n",
    "tf.initialize(tf.cpu)\n",
    "\n",
    "def MaxBlock():\n",
    "\tA = tf.input([-1, -1, -1, -1], tf.float32)\n",
    "\tN, Bx, By, Bz = A.shape\n",
    "\tAr = tf.reshape(A, [N, Bx*By*Bz])\n",
    "\t#only reduces one dimension, by default it is the last dimension\n",
    "\tmax_val = tf.max(Ar)\n",
    "\tmin_val = tf.min(Ar)\n",
    "\tsum = tf.sum(Ar)\n",
    "\tmean = tf.mean(Ar)\n",
    "\tnorm = tf.norm(Ar)\n",
    "\ttotal_max = tf.max(max_val)\n",
    "\ttotal_min = tf.min(min_val)\n",
    "\t#get mean block\n",
    "\tmean_block = tf.mean(A, axis=0)\n",
    "\treturn [max_val, min_val, sum, mean, norm, total_max, total_min, mean_block]\n",
    "\n",
    "max_block = tf.compile(MaxBlock)"
   ]
  },
  {
   "cell_type": "code",
   "execution_count": 2,
   "metadata": {},
   "outputs": [
    {
     "ename": "",
     "evalue": "",
     "output_type": "error",
     "traceback": [
      "\u001b[1;31mThe Kernel crashed while executing code in the current cell or a previous cell. \n",
      "\u001b[1;31mPlease review the code in the cell(s) to identify a possible cause of the failure. \n",
      "\u001b[1;31mClick <a href='https://aka.ms/vscodeJupyterKernelCrash'>here</a> for more info. \n",
      "\u001b[1;31mView Jupyter <a href='command:jupyter.viewOutput'>log</a> for further details."
     ]
    }
   ],
   "source": [
    "\n",
    "#generate random tensor\n",
    "A = np.random.rand(10, 5, 6, 7)\n",
    "\n",
    "#compute maximum block using TensorFrost\n",
    "Atf = tf.tensor(A)\n",
    "max_val_tf, min_val_tf, sum_tf, mean_tf, norm_tf, total_max_tf, total_min_tf, mean_block_tf = max_block(Atf)\n",
    "max_val_np = np.max(A, axis=(1, 2, 3))\n",
    "min_val_np = np.min(A, axis=(1, 2, 3))\n",
    "sum_np = np.sum(A, axis=(1, 2, 3))\n",
    "mean_np = np.mean(A, axis=(1, 2, 3))\n",
    "norm_np = np.linalg.norm(A.reshape(10, -1), axis=1)\n",
    "total_max_np = np.max(max_val_np)\n",
    "total_min_np = np.min(min_val_np)\n",
    "mean_block_np = np.mean(A, axis=0)\n",
    "\n",
    "#check if maximum block is correct\n",
    "print(\"Maximum block using TensorFrost is correct:\", np.allclose(max_val_tf.numpy, max_val_np))\n",
    "print(\"Minimum block using TensorFrost is correct:\", np.allclose(min_val_tf.numpy, min_val_np))\n",
    "print(\"Sum block using TensorFrost is correct:\", np.allclose(sum_tf.numpy, sum_np))\n",
    "print(\"Mean block using TensorFrost is correct:\", np.allclose(mean_tf.numpy, mean_np))\n",
    "print(\"Norm block using TensorFrost is correct:\", np.allclose(norm_tf.numpy, norm_np))\n",
    "print(\"Total maximum using TensorFrost is correct:\", np.allclose(total_max_tf.numpy, total_max_np))\n",
    "print(\"Total minimum using TensorFrost is correct:\", np.allclose(total_min_tf.numpy, total_min_np))\n",
    "print(\"Mean block using TensorFrost is correct:\", np.allclose(mean_block_tf.numpy, mean_block_np))\n",
    "\n",
    "#check error\n",
    "print(\"Error using TensorFrost:\", np.linalg.norm(max_val_np - max_val_tf.numpy))\n",
    "\n",
    "#print maximum block\n",
    "print(\"Maximum block:\", max_val_tf.numpy)\n",
    "print(\"Maximum block:\", max_val_np)\n",
    "\n",
    "#print minimum block\n",
    "print(\"Minimum block:\", min_val_tf.numpy)\n",
    "print(\"Minimum block:\", min_val_np)\n",
    "\n",
    "#print sum block\n",
    "print(\"Sum block:\", sum_tf.numpy)\n",
    "print(\"Sum block:\", sum_np)\n",
    "\n",
    "#print mean block\n",
    "print(\"Mean block:\", mean_tf.numpy)\n",
    "print(\"Mean block:\", mean_np)\n",
    "\n",
    "#print norm block\n",
    "print(\"Norm block:\", norm_tf.numpy)\n",
    "print(\"Norm block:\", norm_np)\n",
    "\n",
    "#print total maximum\n",
    "print(\"Total maximum:\", total_max_tf.numpy)\n",
    "print(\"Total maximum:\", total_max_np)\n",
    "\n",
    "#print total minimum\n",
    "print(\"Total minimum:\", total_min_tf.numpy)\n",
    "print(\"Total minimum:\", total_min_np)\n",
    "\n",
    "#print mean block\n",
    "print(\"Mean block:\", mean_block_tf.numpy)\n",
    "print(\"Mean block:\", mean_block_np)"
   ]
  }
 ],
 "metadata": {
  "kernelspec": {
   "display_name": "Python 3",
   "language": "python",
   "name": "python3"
  },
  "language_info": {
   "codemirror_mode": {
    "name": "ipython",
    "version": 3
   },
   "file_extension": ".py",
   "mimetype": "text/x-python",
   "name": "python",
   "nbconvert_exporter": "python",
   "pygments_lexer": "ipython3",
   "version": "3.12.0"
  }
 },
 "nbformat": 4,
 "nbformat_minor": 2
}
