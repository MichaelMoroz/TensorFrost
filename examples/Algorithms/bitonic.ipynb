{
 "cells": [
  {
   "cell_type": "code",
   "execution_count": 7,
   "metadata": {},
   "outputs": [
    {
     "name": "stdout",
     "output_type": "stream",
     "text": [
      "BitonicSort:\n",
      "  Kernel count: 2\n",
      "  Intermediate buffers: 0\n",
      "  Host readbacks: 0\n",
      "  Host writes: 0\n",
      "  Lines of generated code: 489\n",
      "  IR Compile time: 3.941500 ms\n",
      "  Steps time: 1512.216431 ms\n",
      "\n"
     ]
    }
   ],
   "source": [
    "import numpy as np\n",
    "import TensorFrost as tf\n",
    "import matplotlib.pyplot as plt\n",
    "\n",
    "tf.initialize(tf.opengl)\n",
    "\n",
    "#this sort is not a stable sort, beware\n",
    "def BitonicSort():\n",
    "    input = tf.input([-1, 2], tf.int32) #key, value\n",
    "    N = input.shape[0]\n",
    "\n",
    "    output = tf.copy(input)\n",
    "\n",
    "    log2N = tf.ceil(tf.log2(tf.float(N)))\n",
    "    Nround = tf.int(tf.exp2(log2N))\n",
    "    steps = tf.int(log2N*(log2N + 1.0)/2.0)\n",
    "\n",
    "    sort_id = tf.indices([Nround/2])[0]\n",
    "    def sortingIteration(step):\n",
    "        def getBitonicElementPair(id, step):\n",
    "            j = tf.floor(tf.sqrt(tf.float(2*step) + 1.0) - 0.5)\n",
    "            n = tf.round(tf.float(step) - 0.5*j*(j+1.0))\n",
    "            B = tf.int(tf.round(tf.exp2(j-n)))\n",
    "            mask = tf.select(n < 0.5, 2*B - 1, B)\n",
    "            e1 = id%B + 2*B*(id/B)\n",
    "            e2 = e1 ^ mask\n",
    "            return e1, e2\n",
    "\n",
    "        e1, e2 = getBitonicElementPair(sort_id, step)\n",
    "\n",
    "        def sort():\n",
    "            key1, key2 = output[e1, 0], output[e2, 0]\n",
    "            val1, val2 = output[e1, 1], output[e2, 1]\n",
    "\n",
    "            def swap():\n",
    "                output[e1, 0] = key2\n",
    "                output[e2, 0] = key1\n",
    "                output[e1, 1] = val2\n",
    "                output[e2, 1] = val1\n",
    "\n",
    "            tf.if_cond(key1 > key2, swap)\n",
    "\n",
    "        tf.if_cond((e1 < N) & (e2 < N), sort)\n",
    "\n",
    "    tf.loop(sortingIteration, 0, steps, 1)\n",
    "\n",
    "    return output\n",
    "\n",
    "sort_program = tf.compile(BitonicSort)"
   ]
  },
  {
   "cell_type": "code",
   "execution_count": 8,
   "metadata": {},
   "outputs": [
    {
     "name": "stdout",
     "output_type": "stream",
     "text": [
      "Generated kernels:\n",
      "layout (local_size_x = 2, local_size_y = 16, local_size_z = 1) in;\n",
      "\n",
      "void main() {\n",
      "  int block_id = int(gl_WorkGroupID.x);\n",
      "  int block_thread_id0 = int(gl_LocalInvocationID.x);\n",
      "  int block_thread_id1 = int(gl_LocalInvocationID.y);\n",
      "  int block_thread_id2 = int(gl_LocalInvocationID.z);\n",
      "\n",
      "  int blocks_shape_0 = ((2 + 2) - 1) / 2;\n",
      "  int vdiv = block_id / blocks_shape_0;\n",
      "  int index_0 = ((block_id - (vdiv * blocks_shape_0)) * 2) + block_thread_id0;\n",
      "  int index_1 = (vdiv * 16) + block_thread_id1;\n",
      "  bool is_inside_dispatch = (index_0 < 2) && (index_1 < var.N);\n",
      "  if (is_inside_dispatch)\n",
      "  {\n",
      "    int input0 = asint(input0_mem[(index_1 * 2) + index_0]);\n",
      "    int output0 = input0;\n",
      "    output0_mem[(index_1 * 2) + index_0] = asuint(output0);\n",
      "  }\n",
      "}\n",
      "\n",
      "layout (local_size_x = 256, local_size_y = 1, local_size_z = 1) in;\n",
      "\n",
      "void main() {\n",
      "  int block_id = int(gl_WorkGroupID.x);\n",
      "  int block_thread_id0 = int(gl_LocalInvocationID.x);\n",
      "  int block_thread_id1 = int(gl_LocalInvocationID.y);\n",
      "  int block_thread_id2 = int(gl_LocalInvocationID.z);\n",
      "\n",
      "  float log2N = ceil(log2(float(var.N)));\n",
      "  int Nround = int(exp2(log2N));\n",
      "  int index_0 = (block_id * 256) + block_thread_id0;\n",
      "  bool is_inside_dispatch = index_0 < (Nround / 2);\n",
      "  if (is_inside_dispatch)\n",
      "  {\n",
      "    float j = floor(sqrt(float(2 * var.step) + 1.0f) - 0.5f);\n",
      "    float n = round(float(var.step) - ((0.5f * j) * (j + 1.0f)));\n",
      "    int B = int(round(exp2(j - n)));\n",
      "    int mask = (n < 0.5f) ? ((2 * B) - 1) : B;\n",
      "    int e1 = (index_0 % B) + ((2 * B) * (index_0 / B));\n",
      "    int e2 = e1 ^ mask;\n",
      "    if ((e1 < var.N) && (e2 < var.N))\n",
      "    {\n",
      "      int key1 = asint(output0_mem[(clamp(e1, 0, var.N - 1) * 2) + clamp(0, 0, 2 - 1)]);\n",
      "      int key2 = asint(output0_mem[(clamp(e2, 0, var.N - 1) * 2) + clamp(0, 0, 2 - 1)]);\n",
      "      int val1 = asint(output0_mem[(clamp(e1, 0, var.N - 1) * 2) + clamp(1, 0, 2 - 1)]);\n",
      "      int val2 = asint(output0_mem[(clamp(e2, 0, var.N - 1) * 2) + clamp(1, 0, 2 - 1)]);\n",
      "      if (key1 > key2)\n",
      "      {\n",
      "        output0_mem[(clamp(e1, 0, var.N - 1) * 2) + clamp(0, 0, 2 - 1)] = asuint(key2);\n",
      "        output0_mem[(clamp(e2, 0, var.N - 1) * 2) + clamp(0, 0, 2 - 1)] = asuint(key1);\n",
      "        output0_mem[(clamp(e1, 0, var.N - 1) * 2) + clamp(1, 0, 2 - 1)] = asuint(val2);\n",
      "        output0_mem[(clamp(e2, 0, var.N - 1) * 2) + clamp(1, 0, 2 - 1)] = asuint(val1);\n",
      "      }\n",
      "    }\n",
      "  }\n",
      "}\n",
      "\n"
     ]
    }
   ],
   "source": [
    "all_kernels = tf.get_all_generated_kernels()\n",
    "print(\"Generated kernels:\")\n",
    "for k in all_kernels:\n",
    "    print(k[0][2])"
   ]
  },
  {
   "cell_type": "code",
   "execution_count": 2,
   "metadata": {},
   "outputs": [
    {
     "name": "stdout",
     "output_type": "stream",
     "text": [
      "Error: 0\n"
     ]
    },
    {
     "data": {
      "image/png": "[encoded data removed]",
      "text/plain": [
       "<Figure size 640x480 with 1 Axes>"
      ]
     },
     "metadata": {},
     "output_type": "display_data"
    }
   ],
   "source": [
    "# Generate some random values\n",
    "N = 4381\n",
    "np.random.seed(0)\n",
    "keys = np.random.randint(0, 10000, N)\n",
    "values = np.arange(N)\n",
    "\n",
    "# Sort the keys\n",
    "data = np.column_stack((keys, values))\n",
    "data_tf = tf.tensor(data)\n",
    "sorted_data = sort_program(data_tf)\n",
    "sorted_data = sorted_data.numpy\n",
    "\n",
    "# Sort the keys using numpy\n",
    "data = data[data[:, 0].argsort()]\n",
    "\n",
    "# Compare the results\n",
    "error = np.sum(np.abs(sorted_data[:, 0] - data[:, 0]))\n",
    "print('Error:', error)\n",
    "\n",
    "# Plot the sorted keys\n",
    "plt.plot(sorted_data[:, 0])\n",
    "plt.plot(data[:, 0])\n",
    "plt.title('Sorted Keys')\n",
    "plt.xlabel('Index')\n",
    "plt.ylabel('Value')\n",
    "plt.show()"
   ]
  }
 ],
 "metadata": {
  "kernelspec": {
   "display_name": "Python 3",
   "language": "python",
   "name": "python3"
  },
  "language_info": {
   "codemirror_mode": {
    "name": "ipython",
    "version": 3
   },
   "file_extension": ".py",
   "mimetype": "text/x-python",
   "name": "python",
   "nbconvert_exporter": "python",
   "pygments_lexer": "ipython3",
   "version": "3.12.0"
  },
  "orig_nbformat": 4
 },
 "nbformat": 4,
 "nbformat_minor": 2
}
