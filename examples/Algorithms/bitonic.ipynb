{
 "cells": [
  {
   "cell_type": "code",
   "execution_count": 1,
   "metadata": {},
   "outputs": [
    {
     "name": "stdout",
     "output_type": "stream",
     "text": [
      "TensorFrost module loaded!\n",
      "BitonicSort:\n",
      "  Kernel count: 2\n",
      "  Intermediate buffers: 0\n",
      "  Host readbacks: 0\n",
      "  Host writes: 0\n",
      "  Lines of generated code: 557\n",
      "  IR Compile time: 3.794400 ms\n",
      "  Steps time: 1577.463623 ms\n",
      "\n"
     ]
    }
   ],
   "source": [
    "import numpy as np\n",
    "import TensorFrost as tf\n",
    "import matplotlib.pyplot as plt\n",
    "\n",
    "tf.initialize(tf.cpu)\n",
    "\n",
    "#this sort is not a stable sort, beware\n",
    "def BitonicSort():\n",
    "    input = tf.input([-1, 2], tf.int32) #key, value\n",
    "    N = input.shape[0]\n",
    "\n",
    "    output = tf.copy(input)\n",
    "\n",
    "    log2N = tf.ceil(tf.log2(tf.float(N)))\n",
    "    Nround = tf.int(tf.exp2(log2N))\n",
    "    steps = tf.int(log2N*(log2N + 1.0)/2.0)\n",
    "\n",
    "    sort_id = tf.indices([Nround/2])[0]\n",
    "    def sortingIteration(step):\n",
    "        def getBitonicElementPair(id, step):\n",
    "            j = tf.floor(tf.sqrt(tf.float(2*step) + 1.0) - 0.5)\n",
    "            n = tf.round(tf.float(step) - 0.5*j*(j+1.0))\n",
    "            B = tf.int(tf.round(tf.exp2(j-n)))\n",
    "            mask = tf.select(n < 0.5, 2*B - 1, B)\n",
    "            e1 = id%B + 2*B*(id/B)\n",
    "            e2 = e1 ^ mask\n",
    "            return e1, e2\n",
    "\n",
    "        e1, e2 = getBitonicElementPair(sort_id, step)\n",
    "\n",
    "        def sort():\n",
    "            key1, key2 = output[e1, 0], output[e2, 0]\n",
    "            val1, val2 = output[e1, 1], output[e2, 1]\n",
    "\n",
    "            def swap():\n",
    "                output[e1, 0] = key2\n",
    "                output[e2, 0] = key1\n",
    "                output[e1, 1] = val2\n",
    "                output[e2, 1] = val1\n",
    "\n",
    "            tf.if_cond(key1 > key2, swap)\n",
    "\n",
    "        tf.if_cond((e1 < N) & (e2 < N), sort)\n",
    "\n",
    "    tf.loop(sortingIteration, 0, steps, 1)\n",
    "\n",
    "    return output\n",
    "\n",
    "sort_program = tf.compile(BitonicSort)"
   ]
  },
  {
   "cell_type": "code",
   "execution_count": 2,
   "metadata": {},
   "outputs": [
    {
     "ename": "",
     "evalue": "",
     "output_type": "error",
     "traceback": [
      "\u001b[1;31mThe Kernel crashed while executing code in the current cell or a previous cell. \n",
      "\u001b[1;31mPlease review the code in the cell(s) to identify a possible cause of the failure. \n",
      "\u001b[1;31mClick <a href='https://aka.ms/vscodeJupyterKernelCrash'>here</a> for more info. \n",
      "\u001b[1;31mView Jupyter <a href='command:jupyter.viewOutput'>log</a> for further details."
     ]
    }
   ],
   "source": [
    "# Generate some random values\n",
    "N = 4381\n",
    "np.random.seed(0)\n",
    "keys = np.random.randint(0, 10000, N)\n",
    "values = np.arange(N)\n",
    "\n",
    "# Sort the keys\n",
    "data = np.column_stack((keys, values))\n",
    "data_tf = tf.tensor(data)\n",
    "sorted_data = sort_program(data_tf)\n",
    "sorted_data = sorted_data.numpy\n",
    "\n",
    "# Sort the keys using numpy\n",
    "data = data[data[:, 0].argsort()]\n",
    "\n",
    "# Compare the results\n",
    "error = np.sum(np.abs(sorted_data[:, 0] - data[:, 0]))\n",
    "print('Error:', error)\n",
    "\n",
    "# Plot the sorted keys\n",
    "plt.plot(sorted_data[:, 0])\n",
    "plt.plot(data[:, 0])\n",
    "plt.title('Sorted Keys')\n",
    "plt.xlabel('Index')\n",
    "plt.ylabel('Value')\n",
    "plt.show()"
   ]
  }
 ],
 "metadata": {
  "kernelspec": {
   "display_name": "Python 3",
   "language": "python",
   "name": "python3"
  },
  "language_info": {
   "codemirror_mode": {
    "name": "ipython",
    "version": 3
   },
   "file_extension": ".py",
   "mimetype": "text/x-python",
   "name": "python",
   "nbconvert_exporter": "python",
   "pygments_lexer": "ipython3",
   "version": "3.12.0"
  },
  "orig_nbformat": 4
 },
 "nbformat": 4,
 "nbformat_minor": 2
}
