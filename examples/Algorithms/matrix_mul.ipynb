{
 "cells": [
  {
   "cell_type": "code",
   "execution_count": 1,
   "metadata": {},
   "outputs": [
    {
     "name": "stdout",
     "output_type": "stream",
     "text": [
      "TensorFrost module loaded!\n",
      "matmul:\n",
      "  Kernel count: 1\n",
      "  Intermediate buffers: 0\n",
      "  Host readbacks: 0\n",
      "  Host writes: 0\n",
      "  Lines of generated code: 414\n",
      "  IR Compile time: 0.857300 ms\n",
      "  Compiler time: 4804.893555 ms\n",
      "\n"
     ]
    }
   ],
   "source": [
    "import TensorFrost as tf\n",
    "import numpy as np\n",
    "import matplotlib.pyplot as plt\n",
    "import time\n",
    "\n",
    "tf.initialize(tf.opengl)\n",
    "\n",
    "def matmul():\n",
    "    A = tf.input([-1, -1], tf.float32)\n",
    "    N, M = A.shape\n",
    "    B = tf.input([M,  -1], tf.float32)\n",
    "    K = B.shape[1]\n",
    "\n",
    "    C = (tf.sin(A) @ tf.cos(B))**2.0\n",
    "\n",
    "    return [C]\n",
    "\n",
    "mmul = tf.compile(matmul)"
   ]
  },
  {
   "cell_type": "code",
   "execution_count": 2,
   "metadata": {},
   "outputs": [
    {
     "name": "stdout",
     "output_type": "stream",
     "text": [
      "Generated kernels:\n",
      "\n",
      "#version 460\n",
      "\n",
      "uint pcg(uint v) {\n",
      "  uint state = v * 747796405u + 2891336453u;\n",
      "  uint word = ((state >> ((state >> 28u) + 4u)) ^ state) * 277803737u;\n",
      "  return (word >> 22u) ^ word;\n",
      "}\n",
      "\n",
      "float pcgf(uint v) {\n",
      "  return float(pcg(v)) / float(0xffffffffu);\n",
      "}\n",
      "\n",
      "float asfloat(uint x) {\n",
      "  return uintBitsToFloat(x);\n",
      "}\n",
      "\n",
      "uint asuint(float x) {\n",
      "  return floatBitsToUint(x);\n",
      "}\n",
      "\n",
      "uint asuint(int x) {\n",
      "  return uint(x);\n",
      "}\n",
      "\n",
      "uint asuint(uint x) {\n",
      "  return x;\n",
      "}\n",
      "\n",
      "int asint(uint x) {\n",
      "  return int(x);\n",
      "}\n",
      "\n",
      "uniform int off[32];\n",
      "uniform int var[32];\n",
      "\n",
      "layout(std430, binding = 0) buffer memory {\n",
      "  uint mem[];\n",
      "};\n",
      "layout (local_size_x = 16, local_size_y = 16, local_size_z = 1) in;\n",
      "\n",
      "void main() {\n",
      "  int block_id = int(gl_WorkGroupID.x);\n",
      "  int block_thread_id0 = int(gl_LocalInvocationID.x);\n",
      "  int block_thread_id1 = int(gl_LocalInvocationID.y);\n",
      "  int block_thread_id2 = int(gl_LocalInvocationID.z);\n",
      "\n",
      "  int v2_0 = block_id;\n",
      "  int in_block_index_0 = block_thread_id1;\n",
      "  int in_block_index_1 = block_thread_id0;\n",
      "  int blocks_shape_1 = ((asint(var[0]) + 16) - 1) / 16;\n",
      "  int out_block_index_0 = v2_0 / blocks_shape_1;\n",
      "  int out_block_index_1 = v2_0 - (out_block_index_0 * blocks_shape_1);\n",
      "  int dim_index_0 = (out_block_index_0 * 16) + in_block_index_0;\n",
      "  int dim_index_1 = (out_block_index_1 * 16) + in_block_index_1;\n",
      "  bool is_inside_dispatch = (dim_index_0 < asint(var[1])) && (dim_index_1 < asint(var[0]));\n",
      "  if (is_inside_dispatch)\n",
      "  {\n",
      "    float v3_0 = 0.0f;\n",
      "    for (int v3_3 = 0; v3_3 < asint(var[2]); v3_3 += 1)\n",
      "    {\n",
      "      int data_id = (dim_index_0 * asint(var[2])) + v3_3;\n",
      "      float A_2 = asfloat(mem[off[0] + data_id]); // A\n",
      "      int data_id_2 = (v3_3 * asint(var[0])) + dim_index_1;\n",
      "      float B_2 = asfloat(mem[off[1] + data_id_2]); // B\n",
      "      v3_0 = v3_0 + (sin(A_2) * cos(B_2));\n",
      "    }\n",
      "    int data_id_3 = (dim_index_0 * asint(var[0])) + dim_index_1;\n",
      "    mem[off[2] + data_id_3] = asuint(pow(v3_0, 2.0f)); // m0\n",
      "  }\n",
      "}\n",
      "\n"
     ]
    }
   ],
   "source": [
    "all_kernels = tf.get_all_generated_kernels()\n",
    "print(\"Generated kernels:\")\n",
    "for k in all_kernels:\n",
    "    print(k)"
   ]
  },
  {
   "cell_type": "code",
   "execution_count": 3,
   "metadata": {},
   "outputs": [
    {
     "name": "stdout",
     "output_type": "stream",
     "text": [
      "Error: 9.362458e-07\n",
      "TF Time: 0.0011913295984268188\n",
      "NP Time: 0.00409303492307663\n",
      "Speedup: 3.4356864200147355\n",
      "TF GFLOPS: 225.32425648995533\n",
      "NP GFLOPS: 65.58347559815687\n"
     ]
    }
   ],
   "source": [
    "Anp = np.random.rand(512, 512).astype(np.float32)\n",
    "Bnp = np.random.rand(512, 512).astype(np.float32)\n",
    "A = tf.tensor(Anp)\n",
    "B = tf.tensor(Bnp)\n",
    "\n",
    "start = time.time()\n",
    "repeat = 4000\n",
    "for i in range(repeat):\n",
    "    C, = mmul(A, B)\n",
    "Cnp = C.numpy\n",
    "tf_time = (time.time() - start) / repeat\n",
    "\n",
    "\n",
    "#compare to numpy\n",
    "start = time.time()\n",
    "for i in range(repeat):\n",
    "    Cnp2 = (np.sin(Anp) @ np.cos(Bnp))**2.0\n",
    "np_time = (time.time() - start) / repeat\n",
    "\n",
    "Cerror = np.linalg.norm(Cnp - Cnp2) / np.linalg.norm(Cnp2)\n",
    "print(\"Error:\", Cerror)\n",
    "print(\"TF Time:\", tf_time)\n",
    "print(\"NP Time:\", np_time)\n",
    "print(\"Speedup:\", np_time / tf_time)\n",
    "\n",
    "tf_flops = 2 * Anp.shape[0] * Anp.shape[1] * Bnp.shape[1] / tf_time\n",
    "print(\"TF GFLOPS:\", tf_flops / 1e9)\n",
    "np_flops = 2 * Anp.shape[0] * Anp.shape[1] * Bnp.shape[1] / np_time\n",
    "print(\"NP GFLOPS:\", np_flops / 1e9)"
   ]
  }
 ],
 "metadata": {
  "kernelspec": {
   "display_name": "Python 3",
   "language": "python",
   "name": "python3"
  },
  "language_info": {
   "codemirror_mode": {
    "name": "ipython",
    "version": 3
   },
   "file_extension": ".py",
   "mimetype": "text/x-python",
   "name": "python",
   "nbconvert_exporter": "python",
   "pygments_lexer": "ipython3",
   "version": "3.12.0"
  },
  "orig_nbformat": 4
 },
 "nbformat": 4,
 "nbformat_minor": 2
}
