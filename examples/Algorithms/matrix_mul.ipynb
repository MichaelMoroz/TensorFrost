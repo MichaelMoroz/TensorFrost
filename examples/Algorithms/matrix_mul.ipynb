{
 "cells": [
  {
   "cell_type": "code",
   "execution_count": 10,
   "metadata": {},
   "outputs": [
    {
     "name": "stdout",
     "output_type": "stream",
     "text": [
      "matmul:\n",
      "  Kernel count: 1\n",
      "  Intermediate buffers: 0\n",
      "  Host readbacks: 0\n",
      "  Host writes: 0\n",
      "  Lines of generated code: 464\n",
      "  IR Compile time: 0.483100 ms\n",
      "  Compiler time: 1782.470947 ms\n",
      "\n"
     ]
    }
   ],
   "source": [
    "import TensorFrost as tf\n",
    "import numpy as np\n",
    "import matplotlib.pyplot as plt\n",
    "import time\n",
    "\n",
    "tf.initialize(tf.cpu)\n",
    "\n",
    "def matmul():\n",
    "    A = tf.input([-1, -1], tf.float32)\n",
    "    N, M = A.shape\n",
    "    B = tf.input([-1,  M], tf.float32)\n",
    "    K = B.shape[1]\n",
    "\n",
    "    C = (tf.sin(A) @ tf.cos(B).T)**2.0\n",
    "\n",
    "    return [C]\n",
    "\n",
    "mmul = tf.compile(matmul)"
   ]
  },
  {
   "cell_type": "code",
   "execution_count": 11,
   "metadata": {},
   "outputs": [
    {
     "name": "stdout",
     "output_type": "stream",
     "text": [
      "Generated kernels:\n",
      "\n",
      "extern \"C\" __declspec(dllexport) void kernel_0(uint* var, uint* off, uint* mem, uint work_group_count)\n",
      "{\n",
      "  #pragma omp parallel for\n",
      "  for (int block_id = 0; block_id < work_group_count; block_id++)\n",
      "  {\n",
      "    for (int block_thread_id1 = 0; block_thread_id1 < 16; block_thread_id1++)\n",
      "    for (int block_thread_id0 = 0; block_thread_id0 < 16; block_thread_id0++)\n",
      "    {\n",
      "      int v2_0 = block_id;\n",
      "      int in_block_index_0 = block_thread_id1;\n",
      "      int in_block_index_1 = block_thread_id0;\n",
      "      int v2_1 = asint(var[0]) + 16;\n",
      "      int v2_3 = v2_1 - 1;\n",
      "      int blocks_shape_1 = v2_3 / 16;\n",
      "      int out_block_index_0 = v2_0 / blocks_shape_1;\n",
      "      int v2_4 = out_block_index_0 * blocks_shape_1;\n",
      "      int out_block_index_1 = v2_0 - v2_4;\n",
      "      int v2_5 = out_block_index_0 * 16;\n",
      "      int dim_index_0 = v2_5 + in_block_index_0;\n",
      "      int v2_6 = out_block_index_1 * 16;\n",
      "      int dim_index_1 = v2_6 + in_block_index_1;\n",
      "      bool v2_7 = dim_index_0 < asint(var[1]);\n",
      "      bool v2_8 = dim_index_1 < asint(var[0]);\n",
      "      bool is_inside_dispatch = v2_7 && v2_8;\n",
      "      if (is_inside_dispatch)\n",
      "      {\n",
      "        float v3_0 = 0.f;\n",
      "        for (int v3_3 = 0; v3_3 < asint(var[2]); v3_3 += 1)\n",
      "        {\n",
      "          int v4_0 = dim_index_0 * asint(var[2]);\n",
      "          int data_id = v4_0 + v3_3;\n",
      "          float v4_1 = asfloat(mem[off[0] + data_id]); // m0\n",
      "          float v4_2 = sin(v4_1);\n",
      "          int v4_3 = dim_index_1 * asint(var[2]);\n",
      "          int data_id_2 = v4_3 + v3_3;\n",
      "          float v4_4 = asfloat(mem[off[1] + data_id_2]); // m1\n",
      "          float v4_5 = cos(v4_4);\n",
      "          float v4_6 = v4_2 * v4_5;\n",
      "          float v4_7 = v3_0 + v4_6;\n",
      "          v3_0 = v4_7;\n",
      "        }\n",
      "        float v5_1 = pow(v3_0, 2.f);\n",
      "        int v5_2 = dim_index_0 * asint(var[0]);\n",
      "        int data_id_3 = v5_2 + dim_index_1;\n",
      "        mem[off[2] + data_id_3] = asuint(v5_1); // m2\n",
      "      }\n",
      "    }\n",
      "  }\n",
      "}\n",
      "\n"
     ]
    }
   ],
   "source": [
    "all_kernels = tf.get_all_generated_kernels()\n",
    "print(\"Generated kernels:\")\n",
    "for k in all_kernels:\n",
    "    print(k)"
   ]
  },
  {
   "cell_type": "code",
   "execution_count": 13,
   "metadata": {},
   "outputs": [
    {
     "name": "stdout",
     "output_type": "stream",
     "text": [
      "Error: 7.16898e-07\n",
      "TF Time: 0.08479938507080079\n",
      "NP Time: 0.0030983448028564452\n",
      "Speedup: 0.036537349890798994\n",
      "TF GFLOPS: 3.165535407784828\n",
      "NP GFLOPS: 86.63834178575681\n"
     ]
    }
   ],
   "source": [
    "Anp = np.random.rand(512, 512).astype(np.float32)\n",
    "Bnp = np.random.rand(512, 512).astype(np.float32)\n",
    "A = tf.tensor(Anp)\n",
    "B = tf.tensor(Bnp)\n",
    "\n",
    "start = time.time()\n",
    "repeat = 10\n",
    "for i in range(repeat):\n",
    "    C, = mmul(A, B)\n",
    "Cnp = C.numpy\n",
    "tf_time = (time.time() - start) / repeat\n",
    "\n",
    "\n",
    "#compare to numpy\n",
    "start = time.time()\n",
    "for i in range(repeat):\n",
    "    Cnp2 = (np.sin(Anp) @ np.cos(Bnp).T)**2.0\n",
    "np_time = (time.time() - start) / repeat\n",
    "\n",
    "Cerror = np.linalg.norm(Cnp - Cnp2) / np.linalg.norm(Cnp2)\n",
    "print(\"Error:\", Cerror)\n",
    "print(\"TF Time:\", tf_time)\n",
    "print(\"NP Time:\", np_time)\n",
    "print(\"Speedup:\", np_time / tf_time)\n",
    "\n",
    "tf_flops = 2 * Anp.shape[0] * Anp.shape[1] * Bnp.shape[1] / tf_time\n",
    "print(\"TF GFLOPS:\", tf_flops / 1e9)\n",
    "np_flops = 2 * Anp.shape[0] * Anp.shape[1] * Bnp.shape[1] / np_time\n",
    "print(\"NP GFLOPS:\", np_flops / 1e9)"
   ]
  }
 ],
 "metadata": {
  "kernelspec": {
   "display_name": "Python 3",
   "language": "python",
   "name": "python3"
  },
  "language_info": {
   "codemirror_mode": {
    "name": "ipython",
    "version": 3
   },
   "file_extension": ".py",
   "mimetype": "text/x-python",
   "name": "python",
   "nbconvert_exporter": "python",
   "pygments_lexer": "ipython3",
   "version": "3.12.0"
  },
  "orig_nbformat": 4
 },
 "nbformat": 4,
 "nbformat_minor": 2
}
