{
 "cells": [
  {
   "cell_type": "code",
   "execution_count": 12,
   "metadata": {},
   "outputs": [],
   "source": [
    "import numpy as np\n",
    "\n",
    "def modified_gram_schmidt(A):\n",
    "    \"\"\"\n",
    "    Implements the Modified Gram-Schmidt orthogonalization to get the QR decomposition of matrix A.\n",
    "    A = QR\n",
    "    \"\"\"\n",
    "    A = A.astype(float)  # Ensure A is of float type\n",
    "    m, n = A.shape\n",
    "    Q = np.zeros((m, n))\n",
    "    R = np.zeros((n, n))\n",
    "    \n",
    "    for i in range(n-1):\n",
    "        R[i, i] = np.linalg.norm(A[:, i])\n",
    "        Q[:, i] = A[:, i] / R[i, i]\n",
    "        R[i, i+1:n] = np.dot(Q[:, i].T, A[:, i+1:n])\n",
    "        A[:, i+1:n] -= np.outer(Q[:, i], R[i, i+1:n])\n",
    "    R[n-1, n-1] = np.linalg.norm(A[:, n-1])\n",
    "    Q[:, n-1] = A[:, n-1] / R[n-1, n-1]\n",
    "    return Q, R\n"
   ]
  },
  {
   "cell_type": "code",
   "execution_count": 19,
   "metadata": {},
   "outputs": [
    {
     "name": "stdout",
     "output_type": "stream",
     "text": [
      "True\n",
      "Q:\n",
      " [[ 0.34584993  0.10449742  0.35828859  0.84606762  0.15895592]\n",
      " [ 0.51257318 -0.54465581 -0.64850698  0.13819254 -0.03098882]\n",
      " [ 0.58024821  0.69238017 -0.19603083 -0.28691318  0.25134529]\n",
      " [ 0.28811022  0.13208957  0.15623693 -0.02455353 -0.93516415]\n",
      " [ 0.44492817 -0.44225828  0.62308099 -0.42679077  0.18991118]]\n",
      "R:\n",
      " [[ 0.83617616  1.06124031  0.73900885  0.92622862  1.40478162]\n",
      " [ 0.          0.53127301  0.11329461 -0.06932767  0.06947652]\n",
      " [ 0.          0.          0.43744428  0.44627377  0.49410376]\n",
      " [ 0.          0.          0.          0.4153172   0.3565265 ]\n",
      " [ 0.          0.          0.          0.          0.12052849]]\n",
      "[]\n"
     ]
    }
   ],
   "source": [
    "#generate random matrix\n",
    "A = np.random.rand(5, 5)\n",
    "\n",
    "#compute QR decomposition\n",
    "Q, R = modified_gram_schmidt(A)\n",
    "\n",
    "#check if QR decomposition is correct\n",
    "print(np.allclose(A, np.dot(Q, R)))\n",
    "\n",
    "#print Q and R\n",
    "print(\"Q:\\n\", Q)\n",
    "print(\"R:\\n\", R)\n",
    "\n",
    "print(A[:, 5:5])\n"
   ]
  }
 ],
 "metadata": {
  "kernelspec": {
   "display_name": "Python 3",
   "language": "python",
   "name": "python3"
  },
  "language_info": {
   "codemirror_mode": {
    "name": "ipython",
    "version": 3
   },
   "file_extension": ".py",
   "mimetype": "text/x-python",
   "name": "python",
   "nbconvert_exporter": "python",
   "pygments_lexer": "ipython3",
   "version": "3.12.0"
  },
  "orig_nbformat": 4
 },
 "nbformat": 4,
 "nbformat_minor": 2
}
