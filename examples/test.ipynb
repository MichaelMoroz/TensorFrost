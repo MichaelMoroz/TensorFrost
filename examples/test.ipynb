{
 "cells": [
  {
   "cell_type": "code",
   "execution_count": 12,
   "metadata": {},
   "outputs": [],
   "source": [
    "import numpy as np\n",
    "\n",
    "def modified_gram_schmidt(A):\n",
    "    \"\"\"\n",
    "    Implements the Modified Gram-Schmidt orthogonalization to get the QR decomposition of matrix A.\n",
    "    A = QR\n",
    "    \"\"\"\n",
    "    A = A.astype(float)  # Ensure A is of float type\n",
    "    m, n = A.shape\n",
    "    Q = np.zeros((m, n))\n",
    "    R = np.zeros((n, n))\n",
    "    \n",
    "    for i in range(n-1):\n",
    "        R[i, i] = np.linalg.norm(A[:, i])\n",
    "        Q[:, i] = A[:, i] / R[i, i]\n",
    "        R[i, i+1:n] = np.dot(Q[:, i].T, A[:, i+1:n])\n",
    "        A[:, i+1:n] -= np.outer(Q[:, i], R[i, i+1:n])\n",
    "    R[n-1, n-1] = np.linalg.norm(A[:, n-1])\n",
    "    Q[:, n-1] = A[:, n-1] / R[n-1, n-1]\n",
    "    return Q, R\n"
   ]
  },
  {
   "cell_type": "code",
   "execution_count": 13,
   "metadata": {},
   "outputs": [
    {
     "name": "stdout",
     "output_type": "stream",
     "text": [
      "True\n",
      "Q:\n",
      " [[ 0.30966688 -0.24312286  0.39439999 -0.17229951  0.81225564]\n",
      " [ 0.54244527  0.47128434  0.54054697 -0.22417849 -0.37576212]\n",
      " [ 0.63670759  0.01571513 -0.72234232 -0.26333772  0.05684454]\n",
      " [ 0.24485957  0.390545   -0.06776156  0.852426    0.23726921]\n",
      " [ 0.38014047 -0.75233635  0.16089615  0.35224998 -0.37351791]]\n",
      "R:\n",
      " [[ 1.40612346  1.1356088   0.99469622  1.14688204  1.55549191]\n",
      " [ 0.          0.35342168  0.06186743  0.17994294  0.00691232]\n",
      " [ 0.          0.          0.73197514 -0.29740118  0.17826059]\n",
      " [ 0.          0.          0.          0.554875    0.12777707]\n",
      " [ 0.          0.          0.          0.          0.48621038]]\n",
      "[]\n"
     ]
    }
   ],
   "source": [
    "#generate random matrix\n",
    "A = np.random.rand(5, 5)\n",
    "\n",
    "#compute QR decomposition\n",
    "Q, R = modified_gram_schmidt(A)\n",
    "\n",
    "#check if QR decomposition is correct\n",
    "print(np.allclose(A, np.dot(Q, R)))\n",
    "\n",
    "#print Q and R\n",
    "print(\"Q:\\n\", Q)\n",
    "print(\"R:\\n\", R)\n",
    "\n",
    "print(A[:, 5:5])\n"
   ]
  }
 ],
 "metadata": {
  "kernelspec": {
   "display_name": "Python 3",
   "language": "python",
   "name": "python3"
  },
  "language_info": {
   "codemirror_mode": {
    "name": "ipython",
    "version": 3
   },
   "file_extension": ".py",
   "mimetype": "text/x-python",
   "name": "python",
   "nbconvert_exporter": "python",
   "pygments_lexer": "ipython3",
   "version": "3.10.11"
  },
  "orig_nbformat": 4
 },
 "nbformat": 4,
 "nbformat_minor": 2
}
