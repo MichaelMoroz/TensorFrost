{
 "cells": [
  {
   "cell_type": "code",
   "execution_count": 6,
   "metadata": {},
   "outputs": [
    {
     "name": "stdout",
     "output_type": "stream",
     "text": [
      "QRDecomposition:\n",
      "  Kernel count: 8\n",
      "  Intermediate buffers: 0\n",
      "  Lines of generated code: 578\n",
      "\n"
     ]
    }
   ],
   "source": [
    "import numpy as np\n",
    "import TensorFrost as tf\n",
    "\n",
    "tf.initialize(tf.cpu, \"/O2 /fp:fast /openmp\")\n",
    "\n",
    "def modified_gram_schmidt(A):\n",
    "    \"\"\"\n",
    "    Implements the Modified Gram-Schmidt orthogonalization to get the QR decomposition of matrix A.\n",
    "    A = QR\n",
    "    \"\"\"\n",
    "    A = A.astype(float)  # Ensure A is of float type\n",
    "    m, n = A.shape\n",
    "    Q = np.zeros((m, n))\n",
    "    R = np.zeros((n, n))\n",
    "    \n",
    "    for i in range(n-1):\n",
    "        R[i, i] = np.linalg.norm(A[:, i])\n",
    "        Q[:, i] = A[:, i] / R[i, i]\n",
    "        R[i, i+1:n] = np.dot(Q[:, i].T, A[:, i+1:n])\n",
    "        A[:, i+1:n] -= np.outer(Q[:, i], R[i, i+1:n])\n",
    "    R[n-1, n-1] = np.linalg.norm(A[:, n-1])\n",
    "    Q[:, n-1] = A[:, n-1] / R[n-1, n-1]\n",
    "    return Q, R\n",
    "\n",
    "#dynamic size QR decomposition\n",
    "def QRDecomposition():\n",
    "    A = tf.input([-1, -1], tf.float32)\n",
    "\n",
    "    m, n = A.shape\n",
    "    Q = tf.zeros([m, n])\n",
    "    R = tf.zeros([n, n])\n",
    "\n",
    "    j = tf.index(0, [m])\n",
    "\n",
    "    def loop_body(i):\n",
    "        norm2 = tf.zeros([1], tf.float32)\n",
    "        def loop_body1(it):\n",
    "            norm2.set(norm2 + A[it, i] ** 2)\n",
    "        tf.loop(loop_body1, 0, m, 1)\n",
    "        R[i, i] = tf.sqrt(norm2)\n",
    "        Q[j, i] = A[j, i] / R[i, i]\n",
    "        \n",
    "        t, = tf.index_grid([i+1], [n])\n",
    "        dotprod = tf.zeros(t.shape, tf.float32)\n",
    "        def loop_body2(it):\n",
    "            dotprod.set(dotprod + Q[it, i] * A[it, t])\n",
    "        tf.loop(loop_body2, 0, m, 1)\n",
    "        R[i, t] = dotprod\n",
    "        \n",
    "        p, k = tf.index_grid([0, i+1], [m, n])\n",
    "        A[p, k] -= Q[p, i] * R[i, k]\n",
    "\n",
    "    tf.loop(loop_body, 0, n-1, 1)\n",
    "\n",
    "    norm2 = tf.zeros([1], tf.float32)\n",
    "    def loop_body1(it):\n",
    "        norm2.set(norm2 + A[it, n-1] ** 2)\n",
    "    tf.loop(loop_body1, 0, m, 1)\n",
    "    R[n-1, n-1] = tf.sqrt(norm2)\n",
    "    Q[j, n-1] = A[j, n-1] / R[n-1, n-1]\n",
    "\n",
    "    return [Q, R]\n",
    "\n",
    "qr = tf.compile(QRDecomposition)\n"
   ]
  },
  {
   "cell_type": "code",
   "execution_count": 7,
   "metadata": {},
   "outputs": [
    {
     "name": "stdout",
     "output_type": "stream",
     "text": [
      "QR decomposition is correct: True\n",
      "QR decomposition using TensorFrost is correct: True\n",
      "Error: 2.4552312978479334e-16\n",
      "Error using TensorFrost: 1.0842518350953723e-07\n",
      "Q:\n",
      " [[ 0.47427282  0.36220378  0.457387   -0.564107    0.3412536 ]\n",
      " [ 0.7475643  -0.41951546 -0.158624   -0.063334   -0.48577937]\n",
      " [ 0.03641628  0.7128565  -0.5785942  -0.19003461 -0.345869  ]\n",
      " [ 0.23954163  0.4284115   0.45740804  0.70089716 -0.24208356]\n",
      " [ 0.39687106  0.03338427 -0.4707889   0.38781714  0.68508   ]]\n",
      "R:\n",
      " [[ 1.2178518   1.1900272   0.7325122   0.97588885  0.80657625]\n",
      " [ 0.          0.86835593  0.90782845  0.36916694  0.52878106]\n",
      " [ 0.          0.          0.5208241  -0.03697312 -0.06439757]\n",
      " [ 0.          0.          0.          0.32581264 -0.18506089]\n",
      " [ 0.          0.          0.          0.          0.69983953]]\n"
     ]
    }
   ],
   "source": [
    "#generate random matrix\n",
    "A = np.random.rand(5, 5)\n",
    "\n",
    "#compute QR decomposition\n",
    "Q, R = modified_gram_schmidt(A)\n",
    "\n",
    "#compute QR decomposition using TensorFrost\n",
    "Atf = tf.tensor(A)\n",
    "Qtf, Rtf = qr(Atf)\n",
    "Qnp = Qtf.numpy\n",
    "Rnp = Rtf.numpy\n",
    "\n",
    "#check if QR decomposition is correct\n",
    "print(\"QR decomposition is correct:\", np.allclose(A, np.dot(Q, R)))\n",
    "print(\"QR decomposition using TensorFrost is correct:\", np.allclose(A, np.dot(Qnp, Rnp)))\n",
    "\n",
    "#check error\n",
    "print(\"Error:\", np.linalg.norm(A - np.dot(Q, R)))\n",
    "print(\"Error using TensorFrost:\", np.linalg.norm(A - np.dot(Qnp, Rnp)))\n",
    "\n",
    "#print Q and R\n",
    "print(\"Q:\\n\", Qnp)\n",
    "print(\"R:\\n\", Rnp)\n"
   ]
  },
  {
   "cell_type": "code",
   "execution_count": 8,
   "metadata": {},
   "outputs": [
    {
     "name": "stdout",
     "output_type": "stream",
     "text": [
      "Time for naive NumPy QR decomposition: 2.3672475814819336\n",
      "Time for TensorFrost QR decomposition: 0.42299795150756836\n",
      "Time for built-in NumPy QR decomposition: 0.13300085067749023\n",
      "Error: 5.257813726875746e-13\n",
      "Error using TensorFrost: 0.00024719972344781324\n"
     ]
    }
   ],
   "source": [
    "#performance test\n",
    "import time\n",
    "A = np.random.rand(1000, 1000)\n",
    "\n",
    "#naive NumPy QR decomposition\n",
    "start = time.time()\n",
    "Q, R = modified_gram_schmidt(A)\n",
    "print(\"Time for naive NumPy QR decomposition:\", time.time() - start)\n",
    "\n",
    "#TensorFrost QR decomposition\n",
    "Atf = tf.tensor(A)\n",
    "start = time.time()\n",
    "Qtf, Rtf = qr(Atf)\n",
    "print(\"Time for TensorFrost QR decomposition:\", time.time() - start)\n",
    "\n",
    "#built-in NumPy QR decomposition\n",
    "start = time.time()\n",
    "Q, R = np.linalg.qr(A)\n",
    "print(\"Time for built-in NumPy QR decomposition:\", time.time() - start)\n",
    "\n",
    "print(\"Error:\", np.linalg.norm(A - np.dot(Q, R)))\n",
    "print(\"Error using TensorFrost:\", np.linalg.norm(A - np.dot(Qtf.numpy, Rtf.numpy)))"
   ]
  }
 ],
 "metadata": {
  "kernelspec": {
   "display_name": "Python 3",
   "language": "python",
   "name": "python3"
  },
  "language_info": {
   "codemirror_mode": {
    "name": "ipython",
    "version": 3
   },
   "file_extension": ".py",
   "mimetype": "text/x-python",
   "name": "python",
   "nbconvert_exporter": "python",
   "pygments_lexer": "ipython3",
   "version": "3.12.0"
  },
  "orig_nbformat": 4
 },
 "nbformat": 4,
 "nbformat_minor": 2
}
