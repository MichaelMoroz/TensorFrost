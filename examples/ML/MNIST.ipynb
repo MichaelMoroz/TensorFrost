{
 "cells": [
  {
   "cell_type": "code",
   "execution_count": 1,
   "metadata": {},
   "outputs": [],
   "source": [
    "import numpy as np\n",
    "import matplotlib.pyplot as plt\n",
    "import time\n"
   ]
  },
  {
   "cell_type": "code",
   "execution_count": 2,
   "metadata": {},
   "outputs": [],
   "source": [
    "#download MNIST data\n",
    "import gzip\n",
    "import sys\n",
    "import struct\n",
    "import urllib.request\n",
    "import numpy as np\n",
    "\n",
    "def read_image(fi):\n",
    "    magic, n, rows, columns = struct.unpack(\">IIII\", fi.read(16))\n",
    "    assert magic == 0x00000803\n",
    "    assert rows == 28\n",
    "    assert columns == 28\n",
    "    rawbuffer = fi.read()\n",
    "    assert len(rawbuffer) == n * rows * columns\n",
    "    rawdata = np.frombuffer(rawbuffer, dtype='>u1', count=n*rows*columns)\n",
    "    return rawdata.reshape(n, rows, columns).astype(np.float32) / 255.0\n",
    "\n",
    "def read_label(fi):\n",
    "    magic, n = struct.unpack(\">II\", fi.read(8))\n",
    "    assert magic == 0x00000801\n",
    "    rawbuffer = fi.read()\n",
    "    assert len(rawbuffer) == n\n",
    "    return np.frombuffer(rawbuffer, dtype='>u1', count=n)\n",
    "\n",
    "def openurl_gzip(url):\n",
    "    request = urllib.request.Request(\n",
    "        url,\n",
    "        headers={\n",
    "            \"Accept-Encoding\": \"gzip\",\n",
    "            \"User-Agent\": \"Mozilla/5.0 (X11; U; Linux i686) Gecko/20071127 Firefox/2.0.0.11\", \n",
    "        })\n",
    "    response = urllib.request.urlopen(request)\n",
    "    return gzip.GzipFile(fileobj=response, mode='rb')\n",
    "\n",
    "if __name__ == '__main__':\n",
    "    np.savez_compressed(\n",
    "        'mnist',\n",
    "        train_x=read_image(openurl_gzip('http://fashion-mnist.s3-website.eu-central-1.amazonaws.com/train-images-idx3-ubyte.gz')),\n",
    "        train_y=read_label(openurl_gzip('http://fashion-mnist.s3-website.eu-central-1.amazonaws.com/train-labels-idx1-ubyte.gz')),\n",
    "        test_x=read_image(openurl_gzip('http://fashion-mnist.s3-website.eu-central-1.amazonaws.com/t10k-images-idx3-ubyte.gz')),\n",
    "        test_y=read_label(openurl_gzip('http://fashion-mnist.s3-website.eu-central-1.amazonaws.com/t10k-labels-idx1-ubyte.gz'))\n",
    "    )\n",
    "     "
   ]
  },
  {
   "cell_type": "code",
   "execution_count": 3,
   "metadata": {},
   "outputs": [],
   "source": [
    "#fashion mnist\n",
    "class_names = ['T-shirt/top', 'Trouser', 'Pullover', 'Dress', 'Coat', 'Sandal', 'Shirt', 'Sneaker', 'Bag', 'Ankle boot']\n",
    "#digits mnist\n",
    "#class_names = ['0', '1', '2', '3', '4', '5', '6', '7', '8', '9']"
   ]
  },
  {
   "cell_type": "code",
   "execution_count": 4,
   "metadata": {},
   "outputs": [
    {
     "name": "stdout",
     "output_type": "stream",
     "text": [
      "(60000, 28, 28) float32\n",
      "(60000,) uint8\n",
      "(10000, 28, 28) float32\n",
      "(10000,) uint8\n"
     ]
    }
   ],
   "source": [
    "import numpy as np\n",
    "data = np.load('mnist.npz')\n",
    "\n",
    "print(data['train_x'].shape, data['train_x'].dtype)\n",
    "print(data['train_y'].shape, data['train_y'].dtype)\n",
    "print(data['test_x'].shape, data['test_x'].dtype)\n",
    "print(data['test_y'].shape, data['test_y'].dtype)"
   ]
  },
  {
   "cell_type": "code",
   "execution_count": 5,
   "metadata": {},
   "outputs": [
    {
     "name": "stdout",
     "output_type": "stream",
     "text": [
      "0\n"
     ]
    },
    {
     "data": {
      "image/png": "[encoded data removed]",
      "text/plain": [
       "<Figure size 400x400 with 1 Axes>"
      ]
     },
     "metadata": {},
     "output_type": "display_data"
    }
   ],
   "source": [
    "import matplotlib.pyplot as plt\n",
    "import numpy as np\n",
    "\n",
    "# Index number of an instance (change this to view another instance).\n",
    "i = 1\n",
    "\n",
    "data = np.load('mnist.npz')\n",
    "image = data['train_x'][i]\n",
    "label = data['train_y'][i]\n",
    "\n",
    "print(label)\n",
    "f, ax = plt.subplots(figsize=(4, 4))\n",
    "ax.imshow(image, cmap='gray')\n",
    "plt.show()\n",
    "     "
   ]
  },
  {
   "cell_type": "code",
   "execution_count": 6,
   "metadata": {},
   "outputs": [],
   "source": [
    "import numpy as np\n",
    "\n",
    "def image_to_vector(X):\n",
    "    X = np.reshape(X, (len(X), -1))         # Flatten: (N x 28 x 28) -> (N x 784)\n",
    "    return X\n",
    "\n",
    "data = np.load('mnist.npz')\n",
    "Xtrain = image_to_vector(data['train_x'])   # (60000 x 784)\n",
    "Ytrain = data['train_y']                    # (60000)\n",
    "Xtest = image_to_vector(data['test_x'])     # (10000 x 784)\n",
    "Ytest = data['test_y']                      # (10000)"
   ]
  },
  {
   "cell_type": "code",
   "execution_count": 7,
   "metadata": {},
   "outputs": [
    {
     "name": "stdout",
     "output_type": "stream",
     "text": [
      "TensorFrost module loaded!\n"
     ]
    }
   ],
   "source": [
    "import TensorFrost as tf\n",
    "tf.initialize(tf.opengl)"
   ]
  },
  {
   "cell_type": "code",
   "execution_count": 8,
   "metadata": {},
   "outputs": [
    {
     "name": "stdout",
     "output_type": "stream",
     "text": [
      "step:\n",
      "  Kernel count: 21\n",
      "  Intermediate buffers: 15\n",
      "  Host readbacks: 1\n",
      "  Host writes: 0\n",
      "  Lines of generated code: 503\n",
      "  IR Compile time: 13.795700 ms\n",
      "  Compiler time: 1716.756714 ms\n",
      "\n"
     ]
    }
   ],
   "source": [
    "import math\n",
    "\n",
    "def softmax(X):\n",
    "    exp = tf.exp(X)\n",
    "    return exp / tf.unsqueeze(tf.sum(exp))\n",
    "\n",
    "def forward(W1, W2, W3, b1, b2, b3, X):\n",
    "    L1 = tf.tanh(tf.matmul(X, W1) + b1)\n",
    "    L2 = tf.tanh(tf.matmul(L1, W2) + b2)\n",
    "    return softmax(tf.matmul(L2, W3) + b3)\n",
    "\n",
    "def loss(Y, Yhat): #cross entropy loss\n",
    "    return tf.sum(tf.sum( - Y * tf.log(Yhat + 1e-5) - (1.0 - Y) * tf.log(1.0 - Yhat + 1e-5))) / tf.float(math.prod(Y.shape))\n",
    "\n",
    "def step():\n",
    "    #input weights and biases\n",
    "    W1 = tf.input([-1, -1], tf.float32)\n",
    "    In, Hidden1 = W1.shape\n",
    "    W2 = tf.input([Hidden1, -1], tf.float32)\n",
    "    Hidden2 = W2.shape[1]\n",
    "    W3 = tf.input([Hidden2, -1], tf.float32)\n",
    "    Out = W3.shape[1]\n",
    "    b1 = tf.input([Hidden1], tf.float32)\n",
    "    b2 = tf.input([Hidden2], tf.float32)\n",
    "    b3 = tf.input([Out], tf.float32)\n",
    "\n",
    "    #input data\n",
    "    X = tf.input([-1, In], tf.float32)\n",
    "    Y = tf.input([-1, Out], tf.float32)\n",
    "    \n",
    "    info = tf.input([3], tf.float32)\n",
    "    offset = tf.int(info[0])\n",
    "    batch_size = tf.int(info[1])\n",
    "    learning_rate = info[2]\n",
    "\n",
    "    #TODO: implement slicing instead of this crap\n",
    "    i, j = tf.indices([batch_size, In])\n",
    "    Xbatch = X[i + offset, j]\n",
    "    i, j = tf.indices([batch_size, Out])\n",
    "    Ybatch = Y[i + offset, j]\n",
    "\n",
    "    Yhat = forward(W1, W2, W3, b1, b2, b3, Xbatch)\n",
    "    L = loss(Ybatch, Yhat)\n",
    "\n",
    "    W1 = W1 - learning_rate * tf.grad(L, W1)\n",
    "    W2 = W2 - learning_rate * tf.grad(L, W2)\n",
    "    W3 = W3 - learning_rate * tf.grad(L, W3)\n",
    "    b1 = b1 - learning_rate * tf.grad(L, b1)\n",
    "    b2 = b2 - learning_rate * tf.grad(L, b2)\n",
    "    b3 = b3 - learning_rate * tf.grad(L, b3)\n",
    "\n",
    "    return [L, W1, W2, W3, b1, b2, b3]\n",
    "\n",
    "train_step = tf.compile(step)"
   ]
  },
  {
   "cell_type": "code",
   "execution_count": 9,
   "metadata": {},
   "outputs": [
    {
     "name": "stdout",
     "output_type": "stream",
     "text": [
      "forward_step:\n",
      "  Kernel count: 5\n",
      "  Intermediate buffers: 4\n",
      "  Host readbacks: 0\n",
      "  Host writes: 0\n",
      "  Lines of generated code: 444\n",
      "  IR Compile time: 2.686800 ms\n",
      "  Compiler time: 1356.635498 ms\n",
      "\n"
     ]
    }
   ],
   "source": [
    "def forward_step():\n",
    "    W1 = tf.input([-1, -1], tf.float32)\n",
    "    In, Hidden1 = W1.shape\n",
    "    W2 = tf.input([Hidden1, -1], tf.float32)\n",
    "    Hidden2 = W2.shape[1]\n",
    "    W3 = tf.input([Hidden2, -1], tf.float32)\n",
    "    Out = W3.shape[1]\n",
    "    b1 = tf.input([Hidden1], tf.float32)\n",
    "    b2 = tf.input([Hidden2], tf.float32)\n",
    "    b3 = tf.input([Out], tf.float32)\n",
    "\n",
    "    #input data\n",
    "    X = tf.input([-1, In], tf.float32)\n",
    "\n",
    "    Yhat = forward(W1, W2, W3, b1, b2, b3, X)\n",
    "    return [Yhat]\n",
    "\n",
    "fwd_step = tf.compile(forward_step)"
   ]
  },
  {
   "cell_type": "code",
   "execution_count": 10,
   "metadata": {},
   "outputs": [
    {
     "name": "stdout",
     "output_type": "stream",
     "text": [
      "(60000, 784)\n",
      "(60000, 10)\n"
     ]
    }
   ],
   "source": [
    "\n",
    "Xsamples = Xtrain\n",
    "Ysamples = np.zeros((Xsamples.shape[0], 10))\n",
    "Ysamples[np.arange(Xsamples.shape[0]), Ytrain] = 1.0\n",
    "\n",
    "print (Xsamples.shape)\n",
    "print (Ysamples.shape)\n",
    "\n",
    "hidden_size1 = 128\n",
    "hidden_size2 = 128\n",
    "\n",
    "#W = np.random.randn(28 * 28, 10).astype(np.float32) # (784 x 10)\n",
    "#b = np.random.randn(10).astype(np.float32) # (10)\n",
    "\n",
    "W1 = np.random.randn(28 * 28, hidden_size1).astype(np.float32) # (784 x hidden_size1)\n",
    "W2 = np.random.randn(hidden_size1, hidden_size2).astype(np.float32) # (hidden_size1 x hidden_size2)\n",
    "W3 = np.random.randn(hidden_size2, 10).astype(np.float32) # (hidden_size2 x 10)\n",
    "b1 = np.random.randn(hidden_size1).astype(np.float32) # (hidden_size1)\n",
    "b2 = np.random.randn(hidden_size2).astype(np.float32) # (hidden_size2)\n",
    "b3 = np.random.randn(10).astype(np.float32) # (10)\n",
    "\n",
    "#normalize weights\n",
    "W1 /= np.sqrt(28 * 28)\n",
    "W2 /= np.sqrt(hidden_size1)\n",
    "W3 /= np.sqrt(hidden_size2)"
   ]
  },
  {
   "cell_type": "code",
   "execution_count": 11,
   "metadata": {},
   "outputs": [],
   "source": [
    "W1tf = tf.tensor(W1)\n",
    "W2tf = tf.tensor(W2)\n",
    "W3tf = tf.tensor(W3)\n",
    "b1tf = tf.tensor(b1)\n",
    "b2tf = tf.tensor(b2)\n",
    "b3tf = tf.tensor(b3)\n",
    "Xtf = tf.tensor(Xsamples)\n",
    "Ytf = tf.tensor(Ysamples)"
   ]
  },
  {
   "cell_type": "code",
   "execution_count": 12,
   "metadata": {},
   "outputs": [],
   "source": [
    "def test_accuracy(W1tf, W2tf, W3tf, b1tf, b2tf, b3tf, Xtf, Ytest):\n",
    "    Yhat, = fwd_step(W1tf, W2tf, W3tf, b1tf, b2tf, b3tf, tf.tensor(Xtf))\n",
    "    Yhatnp = Yhat.numpy\n",
    "    Predict = np.argmax(Yhatnp, axis = 1)\n",
    "    correct_tf = np.sum(Predict == Ytest)\n",
    "    return correct_tf * 100.0 / len(Ytest)\n"
   ]
  },
  {
   "cell_type": "code",
   "execution_count": 13,
   "metadata": {},
   "outputs": [
    {
     "name": "stdout",
     "output_type": "stream",
     "text": [
      "Epoch:  0  Tf Loss:  [0.18243694]\n",
      "Epoch:  1  Tf Loss:  [0.11102004]\n",
      "Epoch:  2  Tf Loss:  [0.09841663]\n",
      "Epoch:  3  Tf Loss:  [0.09180707]\n",
      "Epoch:  4  Tf Loss:  [0.08699919]\n",
      "Epoch:  5  Tf Loss:  [0.08340745]\n",
      "Epoch:  6  Tf Loss:  [0.08166274]\n",
      "Epoch:  7  Tf Loss:  [0.07904846]\n",
      "Epoch:  8  Tf Loss:  [0.07647029]\n",
      "Epoch:  9  Tf Loss:  [0.07513917]\n",
      "Epoch:  10  Tf Loss:  [0.07505239]\n",
      "Epoch:  11  Tf Loss:  [0.07224118]\n",
      "Epoch:  12  Tf Loss:  [0.07179925]\n",
      "Epoch:  13  Tf Loss:  [0.07081617]\n",
      "Epoch:  14  Tf Loss:  [0.06970264]\n",
      "Epoch:  15  Tf Loss:  [0.06828339]\n",
      "Epoch:  16  Tf Loss:  [0.06757231]\n",
      "Epoch:  17  Tf Loss:  [0.06755963]\n",
      "Epoch:  18  Tf Loss:  [0.06619105]\n",
      "Epoch:  19  Tf Loss:  [0.06573123]\n",
      "Final Tf test accuracy:  84.12 %\n"
     ]
    }
   ],
   "source": [
    "batch_size = 1024\n",
    "epochs = 20\n",
    "iterations = Xsamples.shape[0] // batch_size\n",
    "learning_rate = 1.0\n",
    "\n",
    "loss_curve = []\n",
    "\n",
    "for i in range(epochs):\n",
    "    avg_loss_tf = 0.0\n",
    "\n",
    "    #shuffle offsets\n",
    "    offsets = np.random.permutation(Xsamples.shape[0] // batch_size) * batch_size \n",
    "\n",
    "    for j in range(iterations):\n",
    "        #offset = j * batch_size\n",
    "        offset = offsets[j]\n",
    "        info = np.array([offset, batch_size, learning_rate]).astype(np.float32)\n",
    "        info_tf = tf.tensor(info)\n",
    "       # L, W1tf, W2tf, b1tf, b2tf = train_step(W1tf, W2tf, b1tf, b2tf, Xtf, Ytf, info_tf)\n",
    "        L, W1tf, W2tf, W3tf, b1tf, b2tf, b3tf = train_step(W1tf, W2tf, W3tf, b1tf, b2tf, b3tf, Xtf, Ytf, info_tf)\n",
    "        loss = L.numpy\n",
    "        avg_loss_tf += loss\n",
    "        loss_curve.append(loss)\n",
    "        #print(\"Epoch: \", i, \" Iteration: \", j, \" Tf Loss: \", loss)\n",
    "    #loss_curve.append(avg_loss_tf / iterations)\n",
    "\n",
    "    #test_accuracy_tf = test_accuracy(W1tf, W2tf, b1tf, b2tf, Xtest, Ytest)\n",
    "    #print(\"Epoch: \", i, \" Tf Loss: \", avg_loss_tf / iterations, \" Tf test accuracy: \", test_accuracy_tf, \"%\")\n",
    "    print(\"Epoch: \", i, \" Tf Loss: \", avg_loss_tf / iterations)\n",
    "\n",
    "test_accuracy_tf = test_accuracy(W1tf, W2tf, W3tf, b1tf, b2tf, b3tf, Xtest, Ytest)\n",
    "print(\"Final Tf test accuracy: \", test_accuracy_tf, \"%\")"
   ]
  },
  {
   "cell_type": "code",
   "execution_count": 14,
   "metadata": {},
   "outputs": [
    {
     "data": {
      "image/png": "[encoded data removed]",
      "text/plain": [
       "<Figure size 1000x500 with 1 Axes>"
      ]
     },
     "metadata": {},
     "output_type": "display_data"
    }
   ],
   "source": [
    "import matplotlib.pyplot as plt\n",
    "\n",
    "plt.figure(figsize=(10, 5))\n",
    "plt.plot(loss_curve)\n",
    "plt.xlabel('Epochs')\n",
    "plt.ylabel('Loss')\n",
    "plt.title('Training Loss')\n",
    "plt.show()"
   ]
  },
  {
   "cell_type": "code",
   "execution_count": 15,
   "metadata": {},
   "outputs": [
    {
     "name": "stderr",
     "output_type": "stream",
     "text": [
      "C:\\Users\\micha\\AppData\\Local\\Temp\\ipykernel_41636\\2481276479.py:53: DeprecationWarning: Conversion of an array with ndim > 0 to a scalar is deprecated, and will error in future. Ensure you extract a single element from your array before performing this operation. (Deprecated NumPy 1.25.)\n",
      "  tf.imgui_text(\"Loss: %.3f\" % loss)\n"
     ]
    }
   ],
   "source": [
    "import time\n",
    "\n",
    "ImageSize = 1024\n",
    "\n",
    "tf.show_window(ImageSize, ImageSize, \"Recognizer\")\n",
    "\n",
    "prev_time = time.time()\n",
    "\n",
    "#Canvas = np.zeros((28, 28), np.float32)\n",
    "#take the first image from the test set\n",
    "Canvas = Xtest[9].reshape(28, 28)\n",
    "\n",
    "while not tf.window_should_close():\n",
    "    cur_time = time.time() \n",
    "    time_tf = tf.tensor(np.array([cur_time], np.float32))\n",
    "    mx, my = tf.get_mouse_position()\n",
    "    cur_time = time.time()\n",
    "    delta_time = cur_time - prev_time\n",
    "    tf.imgui_text(\"Prediction time: %.3f ms\" % (delta_time * 1000.0))\n",
    "\n",
    "\n",
    "    if tf.is_mouse_button_pressed(tf.MOUSE_BUTTON_0):\n",
    "        #draw on the canvas\n",
    "        x = mx * 28 / ImageSize\n",
    "        y = my * 28 / ImageSize\n",
    "        #add a gaussian blob\n",
    "        for i in range(28):\n",
    "            for j in range(28):\n",
    "                dx = j - x\n",
    "                dy = i - y\n",
    "                Canvas[i, j] += 0.5 * np.exp(-2.0 * (dx * dx + dy * dy))\n",
    "\n",
    "    Canvas = np.clip(Canvas, 0.0, 1.0)\n",
    "    canvas_flat = Canvas.reshape(1, -1)\n",
    "    canvas_tf = tf.tensor(canvas_flat)\n",
    "\n",
    "    #use random offset\n",
    "    offset = np.random.randint(0, Xtest.shape[0] - batch_size)\n",
    "    info = np.array([offset, batch_size, learning_rate]).astype(np.float32)\n",
    "    info_tf = tf.tensor(info)\n",
    "    L, W1tf, W2tf, W3tf, b1tf, b2tf, b3tf = train_step(W1tf, W2tf, W3tf, b1tf, b2tf, b3tf, Xtf, Ytf, info_tf)\n",
    "    loss = L.numpy\n",
    "\n",
    "    #predict\n",
    "    #Yhat, = fwd_step(W1tf, W2tf, b1tf, b2tf, canvas_tf)\n",
    "    Yhat, = fwd_step(W1tf, W2tf, W3tf, b1tf, b2tf, b3tf, canvas_tf)\n",
    "\n",
    "    Yhatnp = Yhat.numpy\n",
    "    \n",
    "    if(tf.imgui_button(\"Clear\")):\n",
    "        Canvas = np.zeros((28, 28), np.float32)\n",
    "    tf.imgui_text(\"Prediction: %s\" % class_names[np.argmax(Yhatnp)])\n",
    "    tf.imgui_text(\"Loss: %.3f\" % loss)\n",
    "    tf.imgui_text(\"Distribution: \")\n",
    "    for i in range(10):\n",
    "        tf.imgui_text(\"Class %s: %.3f\" % (class_names[i], Yhatnp[0, i]))\n",
    "    \n",
    "    #draw the canvas\n",
    "    frame_tf = np.zeros((28, 28, 3), np.float32)\n",
    "    frame_tf[:, :, 0] = Canvas\n",
    "    frame_tf[:, :, 1] = Canvas\n",
    "    frame_tf[:, :, 2] = Canvas\n",
    "\n",
    "    frame_tf = np.flipud(frame_tf)\n",
    "\n",
    "    frame_tf = tf.tensor(frame_tf)\n",
    "    tf.render_frame(frame_tf)\n",
    "\n",
    "    prev_time = cur_time\n",
    "\n",
    "\n",
    "tf.hide_window()"
   ]
  },
  {
   "cell_type": "code",
   "execution_count": 16,
   "metadata": {},
   "outputs": [
    {
     "name": "stdout",
     "output_type": "stream",
     "text": [
      "Final Tf test accuracy:  84.46 %\n"
     ]
    }
   ],
   "source": [
    "\n",
    "test_accuracy_tf = test_accuracy(W1tf, W2tf, W3tf, b1tf, b2tf, b3tf, Xtest, Ytest)\n",
    "print(\"Final Tf test accuracy: \", test_accuracy_tf, \"%\")"
   ]
  }
 ],
 "metadata": {
  "kernelspec": {
   "display_name": "Python 3",
   "language": "python",
   "name": "python3"
  },
  "language_info": {
   "codemirror_mode": {
    "name": "ipython",
    "version": 3
   },
   "file_extension": ".py",
   "mimetype": "text/x-python",
   "name": "python",
   "nbconvert_exporter": "python",
   "pygments_lexer": "ipython3",
   "version": "3.12.0"
  },
  "orig_nbformat": 4
 },
 "nbformat": 4,
 "nbformat_minor": 2
}
