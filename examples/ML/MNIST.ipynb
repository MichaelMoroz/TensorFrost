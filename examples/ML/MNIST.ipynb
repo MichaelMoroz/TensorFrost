{
 "cells": [
  {
   "cell_type": "code",
   "execution_count": 18,
   "metadata": {},
   "outputs": [],
   "source": [
    "import numpy as np\n",
    "import matplotlib.pyplot as plt\n",
    "import time\n"
   ]
  },
  {
   "cell_type": "code",
   "execution_count": 19,
   "metadata": {},
   "outputs": [],
   "source": [
    "#download MNIST data\n",
    "import gzip\n",
    "import sys\n",
    "import struct\n",
    "import urllib.request\n",
    "import numpy as np\n",
    "\n",
    "def read_image(fi):\n",
    "    magic, n, rows, columns = struct.unpack(\">IIII\", fi.read(16))\n",
    "    assert magic == 0x00000803\n",
    "    assert rows == 28\n",
    "    assert columns == 28\n",
    "    rawbuffer = fi.read()\n",
    "    assert len(rawbuffer) == n * rows * columns\n",
    "    rawdata = np.frombuffer(rawbuffer, dtype='>u1', count=n*rows*columns)\n",
    "    return rawdata.reshape(n, rows, columns).astype(np.float32) / 255.0\n",
    "\n",
    "def read_label(fi):\n",
    "    magic, n = struct.unpack(\">II\", fi.read(8))\n",
    "    assert magic == 0x00000801\n",
    "    rawbuffer = fi.read()\n",
    "    assert len(rawbuffer) == n\n",
    "    return np.frombuffer(rawbuffer, dtype='>u1', count=n)\n",
    "\n",
    "def openurl_gzip(url):\n",
    "    request = urllib.request.Request(\n",
    "        url,\n",
    "        headers={\n",
    "            \"Accept-Encoding\": \"gzip\",\n",
    "            \"User-Agent\": \"Mozilla/5.0 (X11; U; Linux i686) Gecko/20071127 Firefox/2.0.0.11\", \n",
    "        })\n",
    "    response = urllib.request.urlopen(request)\n",
    "    return gzip.GzipFile(fileobj=response, mode='rb')\n",
    "\n",
    "if __name__ == '__main__':\n",
    "    np.savez_compressed(\n",
    "        'mnist',\n",
    "        train_x=read_image(openurl_gzip('http://fashion-mnist.s3-website.eu-central-1.amazonaws.com/train-images-idx3-ubyte.gz')),\n",
    "        train_y=read_label(openurl_gzip('http://fashion-mnist.s3-website.eu-central-1.amazonaws.com/train-labels-idx1-ubyte.gz')),\n",
    "        test_x=read_image(openurl_gzip('http://fashion-mnist.s3-website.eu-central-1.amazonaws.com/t10k-images-idx3-ubyte.gz')),\n",
    "        test_y=read_label(openurl_gzip('http://fashion-mnist.s3-website.eu-central-1.amazonaws.com/t10k-labels-idx1-ubyte.gz'))\n",
    "    )\n",
    "     "
   ]
  },
  {
   "cell_type": "code",
   "execution_count": 20,
   "metadata": {},
   "outputs": [],
   "source": [
    "#fashion mnist\n",
    "class_names = ['T-shirt/top', 'Trouser', 'Pullover', 'Dress', 'Coat', 'Sandal', 'Shirt', 'Sneaker', 'Bag', 'Ankle boot']\n",
    "#digits mnist\n",
    "#class_names = ['0', '1', '2', '3', '4', '5', '6', '7', '8', '9']"
   ]
  },
  {
   "cell_type": "code",
   "execution_count": 21,
   "metadata": {},
   "outputs": [
    {
     "name": "stdout",
     "output_type": "stream",
     "text": [
      "(60000, 28, 28) float32\n",
      "(60000,) uint8\n",
      "(10000, 28, 28) float32\n",
      "(10000,) uint8\n"
     ]
    }
   ],
   "source": [
    "import numpy as np\n",
    "data = np.load('mnist.npz')\n",
    "\n",
    "print(data['train_x'].shape, data['train_x'].dtype)\n",
    "print(data['train_y'].shape, data['train_y'].dtype)\n",
    "print(data['test_x'].shape, data['test_x'].dtype)\n",
    "print(data['test_y'].shape, data['test_y'].dtype)"
   ]
  },
  {
   "cell_type": "code",
   "execution_count": 22,
   "metadata": {},
   "outputs": [
    {
     "name": "stdout",
     "output_type": "stream",
     "text": [
      "0\n"
     ]
    },
    {
     "data": {
      "image/png": "[encoded data removed]",
      "text/plain": [
       "<Figure size 400x400 with 1 Axes>"
      ]
     },
     "metadata": {},
     "output_type": "display_data"
    }
   ],
   "source": [
    "import matplotlib.pyplot as plt\n",
    "import numpy as np\n",
    "\n",
    "# Index number of an instance (change this to view another instance).\n",
    "i = 1\n",
    "\n",
    "data = np.load('mnist.npz')\n",
    "image = data['train_x'][i]\n",
    "label = data['train_y'][i]\n",
    "\n",
    "print(label)\n",
    "f, ax = plt.subplots(figsize=(4, 4))\n",
    "ax.imshow(image, cmap='gray')\n",
    "plt.show()\n",
    "     "
   ]
  },
  {
   "cell_type": "code",
   "execution_count": 23,
   "metadata": {},
   "outputs": [],
   "source": [
    "import numpy as np\n",
    "\n",
    "def image_to_vector(X):\n",
    "    X = np.reshape(X, (len(X), -1))         # Flatten: (N x 28 x 28) -> (N x 784)\n",
    "    return X\n",
    "\n",
    "data = np.load('mnist.npz')\n",
    "Xtrain = image_to_vector(data['train_x'])   # (60000 x 784)\n",
    "Ytrain = data['train_y']                    # (60000)\n",
    "Xtest = image_to_vector(data['test_x'])     # (10000 x 784)\n",
    "Ytest = data['test_y']                      # (10000)"
   ]
  },
  {
   "cell_type": "code",
   "execution_count": 24,
   "metadata": {},
   "outputs": [],
   "source": [
    "import TensorFrost as tf\n",
    "tf.initialize(tf.opengl)"
   ]
  },
  {
   "cell_type": "code",
   "execution_count": 25,
   "metadata": {},
   "outputs": [
    {
     "name": "stdout",
     "output_type": "stream",
     "text": [
      "step:\n",
      "  Kernel count: 14\n",
      "  Intermediate buffers: 9\n",
      "  Host readbacks: 1\n",
      "  Host writes: 0\n",
      "  Lines of generated code: 463\n",
      "  IR Compile time: 8.094200 ms\n",
      "  Compiler time: 1486.921631 ms\n",
      "\n"
     ]
    }
   ],
   "source": [
    "import math\n",
    "\n",
    "def leaky_relu(X):\n",
    "\treturn tf.select(X > 0.0, X, 0.01 * X)\n",
    "\n",
    "def softmax(X):\n",
    "    exp = tf.exp(X)\n",
    "    return exp / tf.unsqueeze(tf.sum(exp))\n",
    "\n",
    "def leaky_relu(X):\n",
    "\treturn tf.select(X > 0.0, X, 0.01 * X)\n",
    "\n",
    "def leaky_relu_derivative(Y):\n",
    "    return tf.select(Y > 0.0, 1.0, 0.01)\n",
    "\n",
    "def tanh(X):\n",
    "    return tf.tanh(X)\n",
    "\n",
    "def tanh_derivative(Y):\n",
    "    return 1.0 - Y * Y\n",
    "\n",
    "def activation(X):\n",
    "    #return leaky_relu(X)\n",
    "    return tanh(X)\n",
    "\n",
    "def activation_derivative(Y):\n",
    "    #return leaky_relu_derivative(X)\n",
    "    return tanh_derivative(Y)  \n",
    "\n",
    "def forward(W1, W2, b1, b2, X):\n",
    "    L1 = activation(tf.matmul(X, W1) + b1)\n",
    "    L3 = softmax(tf.matmul(L1, W2) + b2)\n",
    "    return L1, L3\n",
    "\n",
    "def loss(Y, Yhat): #cross entropy loss\n",
    "    return tf.sum(tf.sum( - Y * tf.log(Yhat + 1e-6) - (1.0 - Y) * tf.log(1.0 - Yhat + 1e-6))) / tf.float(math.prod(Y.shape))\n",
    "\n",
    "def backward(W1, W2, b1, b2, L1, L3, X, Y):\n",
    "    #derivative of cross entropy loss with respect to L2\n",
    "    dL2 = (L3 - Y) / tf.float(math.prod(L3.shape))\n",
    "    dW2 = L1.T @ dL2\n",
    "    db2 = tf.sum(dL2, axis = 0)\n",
    "    dL1 = (dL2 @ W2.T) * activation_derivative(L1)\n",
    "    dW1 = X.T @ dL1\n",
    "    db1 = tf.sum(dL1, axis = 0)\n",
    "    return dW1, dW2, db1, db2\n",
    "\n",
    "def update(W1, W2, b1, b2, dW1, dW2, db1, db2, lr):\n",
    "    W1 -= lr * dW1\n",
    "    W2 -= lr * dW2\n",
    "    b1 -= lr * db1\n",
    "    b2 -= lr * db2\n",
    "    return W1, W2, b1, b2\n",
    "\n",
    "def step():\n",
    "    #input weights and biases\n",
    "    W1 = tf.input([-1, -1], tf.float32)\n",
    "    In, Hidden = W1.shape\n",
    "    W2 = tf.input([Hidden, -1], tf.float32)\n",
    "    Out = W2.shape[1]\n",
    "    b1 = tf.input([Hidden], tf.float32)\n",
    "    b2 = tf.input([Out], tf.float32)\n",
    "\n",
    "    #input data\n",
    "    X = tf.input([-1, In], tf.float32)\n",
    "    Y = tf.input([-1, Out], tf.float32)\n",
    "    \n",
    "    info = tf.input([3], tf.float32)\n",
    "    offset = tf.int(info[0])\n",
    "    batch_size = tf.int(info[1])\n",
    "    learning_rate = info[2]\n",
    "\n",
    "    #TODO: implement slicing instead of this crap\n",
    "    i, j = tf.indices([batch_size, In])\n",
    "    Xbatch = X[i + offset, j]\n",
    "    i, j = tf.indices([batch_size, Out])\n",
    "    Ybatch = Y[i + offset, j]\n",
    "\n",
    "    L1, Yhat = forward(W1, W2, b1, b2, Xbatch)\n",
    "    L = loss(Ybatch, Yhat)\n",
    "    dW1, dW2, db1, db2 = backward(W1, W2, b1, b2, L1, Yhat, Xbatch, Ybatch)\n",
    "    W1, W2, b1, b2 = update(W1, W2, b1, b2, dW1, dW2, db1, db2, learning_rate)\n",
    "\n",
    "    return [L, W1, W2, b1, b2]\n",
    "\n",
    "train_step = tf.compile(step)"
   ]
  },
  {
   "cell_type": "code",
   "execution_count": 26,
   "metadata": {},
   "outputs": [
    {
     "name": "stdout",
     "output_type": "stream",
     "text": [
      "forward_step:\n",
      "  Kernel count: 4\n",
      "  Intermediate buffers: 3\n",
      "  Host readbacks: 0\n",
      "  Host writes: 0\n",
      "  Lines of generated code: 428\n",
      "  IR Compile time: 2.075400 ms\n",
      "  Compiler time: 1453.997925 ms\n",
      "\n"
     ]
    }
   ],
   "source": [
    "def forward_step():\n",
    "    #input weights and biases\n",
    "    W1 = tf.input([-1, -1], tf.float32)\n",
    "    In, Hidden = W1.shape\n",
    "    W2 = tf.input([Hidden, -1], tf.float32)\n",
    "    Out = W2.shape[1]\n",
    "    b1 = tf.input([Hidden], tf.float32)\n",
    "    b2 = tf.input([Out], tf.float32)\n",
    "\n",
    "    #input data\n",
    "    X = tf.input([-1, In], tf.float32)\n",
    "\n",
    "    L1, Yhat = forward(W1, W2, b1, b2, X)\n",
    "    return [Yhat]\n",
    "\n",
    "fwd_step = tf.compile(forward_step)"
   ]
  },
  {
   "cell_type": "code",
   "execution_count": 27,
   "metadata": {},
   "outputs": [
    {
     "name": "stdout",
     "output_type": "stream",
     "text": [
      "(60000, 784)\n",
      "(60000, 10)\n"
     ]
    }
   ],
   "source": [
    "Xsamples = Xtrain\n",
    "Ysamples = np.zeros((Xsamples.shape[0], 10))\n",
    "Ysamples[np.arange(Xsamples.shape[0]), Ytrain] = 1.0\n",
    "\n",
    "print (Xsamples.shape)\n",
    "print (Ysamples.shape)\n",
    "\n",
    "hidden_size = 128\n",
    "\n",
    "#W = np.random.randn(28 * 28, 10).astype(np.float32) # (784 x 10)\n",
    "#b = np.random.randn(10).astype(np.float32) # (10)\n",
    "\n",
    "W1 = np.random.randn(28 * 28, hidden_size).astype(np.float32) # (784 x 10)\n",
    "W2 = np.random.randn(hidden_size, 10).astype(np.float32) # (10)\n",
    "b1 = np.random.randn(hidden_size).astype(np.float32) # (10)\n",
    "b2 = np.random.randn(10).astype(np.float32) # (10)\n",
    "\n",
    "#normalize weights\n",
    "W1 /= np.sqrt(28 * 28)\n",
    "W2 /= np.sqrt(hidden_size)"
   ]
  },
  {
   "cell_type": "code",
   "execution_count": 28,
   "metadata": {},
   "outputs": [],
   "source": [
    "W1tf = tf.tensor(W1)\n",
    "W2tf = tf.tensor(W2)\n",
    "b1tf = tf.tensor(b1)\n",
    "b2tf = tf.tensor(b2)\n",
    "Xtf = tf.tensor(Xsamples)\n",
    "Ytf = tf.tensor(Ysamples)"
   ]
  },
  {
   "cell_type": "code",
   "execution_count": 29,
   "metadata": {},
   "outputs": [],
   "source": [
    "def test_accuracy(W1tf, W2tf, b1tf, b2tf, Xtest, Ytest):\n",
    "    Yhat, = fwd_step(W1tf, W2tf, b1tf, b2tf, tf.tensor(Xtest))\n",
    "    Yhatnp = Yhat.numpy\n",
    "    Predict = np.argmax(Yhatnp, axis = 1)\n",
    "    correct_tf = np.sum(Predict == Ytest)\n",
    "    return correct_tf * 100.0 / len(Ytest)\n"
   ]
  },
  {
   "cell_type": "code",
   "execution_count": 30,
   "metadata": {},
   "outputs": [
    {
     "name": "stdout",
     "output_type": "stream",
     "text": [
      "Epoch:  0  Tf Loss:  [0.18331145]\n",
      "Epoch:  1  Tf Loss:  [0.11787619]\n",
      "Epoch:  2  Tf Loss:  [0.10429438]\n",
      "Epoch:  3  Tf Loss:  [0.09673805]\n",
      "Epoch:  4  Tf Loss:  [0.09236222]\n",
      "Epoch:  5  Tf Loss:  [0.08872585]\n",
      "Epoch:  6  Tf Loss:  [0.0857421]\n",
      "Epoch:  7  Tf Loss:  [0.08385196]\n",
      "Epoch:  8  Tf Loss:  [0.08232664]\n",
      "Epoch:  9  Tf Loss:  [0.080926]\n",
      "Final Tf test accuracy:  82.29 %\n"
     ]
    }
   ],
   "source": [
    "batch_size = 1024\n",
    "epochs = 10\n",
    "iterations = Xsamples.shape[0] // batch_size\n",
    "learning_rate = 1.0\n",
    "\n",
    "loss_curve = []\n",
    "\n",
    "for i in range(epochs):\n",
    "    avg_loss_tf = 0.0\n",
    "\n",
    "    #shuffle offsets\n",
    "    offsets = np.random.permutation(Xsamples.shape[0] // batch_size) * batch_size \n",
    "\n",
    "    for j in range(iterations):\n",
    "        #offset = j * batch_size\n",
    "        offset = offsets[j]\n",
    "        info = np.array([offset, batch_size, learning_rate]).astype(np.float32)\n",
    "        info_tf = tf.tensor(info)\n",
    "        L, W1tf, W2tf, b1tf, b2tf = train_step(W1tf, W2tf, b1tf, b2tf, Xtf, Ytf, info_tf)\n",
    "        loss = L.numpy\n",
    "        avg_loss_tf += loss\n",
    "        loss_curve.append(loss)\n",
    "        #print(\"Epoch: \", i, \" Iteration: \", j, \" Tf Loss: \", loss)\n",
    "    #loss_curve.append(avg_loss_tf / iterations)\n",
    "\n",
    "    #test_accuracy_tf = test_accuracy(W1tf, W2tf, b1tf, b2tf, Xtest, Ytest)\n",
    "    #print(\"Epoch: \", i, \" Tf Loss: \", avg_loss_tf / iterations, \" Tf test accuracy: \", test_accuracy_tf, \"%\")\n",
    "    print(\"Epoch: \", i, \" Tf Loss: \", avg_loss_tf / iterations)\n",
    "\n",
    "test_accuracy_tf = test_accuracy(W1tf, W2tf, b1tf, b2tf, Xtest, Ytest)\n",
    "print(\"Final Tf test accuracy: \", test_accuracy_tf, \"%\")"
   ]
  },
  {
   "cell_type": "code",
   "execution_count": 31,
   "metadata": {},
   "outputs": [
    {
     "data": {
      "image/png": "[encoded data removed]",
      "text/plain": [
       "<Figure size 1000x500 with 1 Axes>"
      ]
     },
     "metadata": {},
     "output_type": "display_data"
    }
   ],
   "source": [
    "import matplotlib.pyplot as plt\n",
    "\n",
    "plt.figure(figsize=(10, 5))\n",
    "plt.plot(loss_curve)\n",
    "plt.xlabel('Epochs')\n",
    "plt.ylabel('Loss')\n",
    "plt.title('Training Loss')\n",
    "plt.show()"
   ]
  },
  {
   "cell_type": "code",
   "execution_count": 32,
   "metadata": {},
   "outputs": [
    {
     "name": "stderr",
     "output_type": "stream",
     "text": [
      "C:\\Users\\micha\\AppData\\Local\\Temp\\ipykernel_11748\\1801914669.py:52: DeprecationWarning: Conversion of an array with ndim > 0 to a scalar is deprecated, and will error in future. Ensure you extract a single element from your array before performing this operation. (Deprecated NumPy 1.25.)\n",
      "  tf.imgui_text(\"Loss: %.3f\" % loss)\n"
     ]
    }
   ],
   "source": [
    "import time\n",
    "\n",
    "ImageSize = 1024\n",
    "\n",
    "tf.show_window(ImageSize, ImageSize, \"Recognizer\")\n",
    "\n",
    "prev_time = time.time()\n",
    "\n",
    "#Canvas = np.zeros((28, 28), np.float32)\n",
    "#take the first image from the test set\n",
    "Canvas = Xtest[9].reshape(28, 28)\n",
    "\n",
    "while not tf.window_should_close():\n",
    "    cur_time = time.time() \n",
    "    time_tf = tf.tensor(np.array([cur_time], np.float32))\n",
    "    mx, my = tf.get_mouse_position()\n",
    "    cur_time = time.time()\n",
    "    delta_time = cur_time - prev_time\n",
    "    tf.imgui_text(\"Prediction time: %.3f ms\" % (delta_time * 1000.0))\n",
    "\n",
    "\n",
    "    if tf.is_mouse_button_pressed(tf.MOUSE_BUTTON_0):\n",
    "        #draw on the canvas\n",
    "        x = mx * 28 / ImageSize\n",
    "        y = my * 28 / ImageSize\n",
    "        #add a gaussian blob\n",
    "        for i in range(28):\n",
    "            for j in range(28):\n",
    "                dx = j - x\n",
    "                dy = i - y\n",
    "                Canvas[i, j] += 0.5 * np.exp(-2.0 * (dx * dx + dy * dy))\n",
    "\n",
    "    Canvas = np.clip(Canvas, 0.0, 1.0)\n",
    "    canvas_flat = Canvas.reshape(1, -1)\n",
    "    canvas_tf = tf.tensor(canvas_flat)\n",
    "\n",
    "    #use random offset\n",
    "    offset = np.random.randint(0, Xtest.shape[0] - batch_size)\n",
    "    info = np.array([offset, batch_size, learning_rate]).astype(np.float32)\n",
    "    info_tf = tf.tensor(info)\n",
    "    L, W1tf, W2tf, b1tf, b2tf = train_step(W1tf, W2tf, b1tf, b2tf, Xtf, Ytf, info_tf)\n",
    "    loss = L.numpy\n",
    "\n",
    "    #predict\n",
    "    Yhat, = fwd_step(W1tf, W2tf, b1tf, b2tf, canvas_tf)\n",
    "\n",
    "    Yhatnp = Yhat.numpy\n",
    "    \n",
    "    if(tf.imgui_button(\"Clear\")):\n",
    "        Canvas = np.zeros((28, 28), np.float32)\n",
    "    tf.imgui_text(\"Prediction: %s\" % class_names[np.argmax(Yhatnp)])\n",
    "    tf.imgui_text(\"Loss: %.3f\" % loss)\n",
    "    tf.imgui_text(\"Distribution: \")\n",
    "    for i in range(10):\n",
    "        tf.imgui_text(\"Class %s: %.3f\" % (class_names[i], Yhatnp[0, i]))\n",
    "    \n",
    "    #draw the canvas\n",
    "    frame_tf = np.zeros((28, 28, 3), np.float32)\n",
    "    frame_tf[:, :, 0] = Canvas\n",
    "    frame_tf[:, :, 1] = Canvas\n",
    "    frame_tf[:, :, 2] = Canvas\n",
    "\n",
    "    frame_tf = np.flipud(frame_tf)\n",
    "\n",
    "    frame_tf = tf.tensor(frame_tf)\n",
    "    tf.render_frame(frame_tf)\n",
    "\n",
    "    prev_time = cur_time\n",
    "\n",
    "\n",
    "tf.hide_window()"
   ]
  }
 ],
 "metadata": {
  "kernelspec": {
   "display_name": "Python 3",
   "language": "python",
   "name": "python3"
  },
  "language_info": {
   "codemirror_mode": {
    "name": "ipython",
    "version": 3
   },
   "file_extension": ".py",
   "mimetype": "text/x-python",
   "name": "python",
   "nbconvert_exporter": "python",
   "pygments_lexer": "ipython3",
   "version": "3.12.0"
  },
  "orig_nbformat": 4
 },
 "nbformat": 4,
 "nbformat_minor": 2
}
