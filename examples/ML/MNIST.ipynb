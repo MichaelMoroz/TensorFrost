{
 "cells": [
  {
   "cell_type": "code",
   "execution_count": 1,
   "metadata": {},
   "outputs": [],
   "source": [
    "import numpy as np\n",
    "import matplotlib.pyplot as plt\n",
    "import time\n"
   ]
  },
  {
   "cell_type": "code",
   "execution_count": 2,
   "metadata": {},
   "outputs": [],
   "source": [
    "#download MNIST data\n",
    "import gzip\n",
    "import sys\n",
    "import struct\n",
    "import urllib.request\n",
    "import numpy as np\n",
    "\n",
    "def read_image(fi):\n",
    "    magic, n, rows, columns = struct.unpack(\">IIII\", fi.read(16))\n",
    "    assert magic == 0x00000803\n",
    "    assert rows == 28\n",
    "    assert columns == 28\n",
    "    rawbuffer = fi.read()\n",
    "    assert len(rawbuffer) == n * rows * columns\n",
    "    rawdata = np.frombuffer(rawbuffer, dtype='>u1', count=n*rows*columns)\n",
    "    return rawdata.reshape(n, rows, columns).astype(np.float32) / 255.0\n",
    "\n",
    "def read_label(fi):\n",
    "    magic, n = struct.unpack(\">II\", fi.read(8))\n",
    "    assert magic == 0x00000801\n",
    "    rawbuffer = fi.read()\n",
    "    assert len(rawbuffer) == n\n",
    "    return np.frombuffer(rawbuffer, dtype='>u1', count=n)\n",
    "\n",
    "def openurl_gzip(url):\n",
    "    request = urllib.request.Request(\n",
    "        url,\n",
    "        headers={\n",
    "            \"Accept-Encoding\": \"gzip\",\n",
    "            \"User-Agent\": \"Mozilla/5.0 (X11; U; Linux i686) Gecko/20071127 Firefox/2.0.0.11\", \n",
    "        })\n",
    "    response = urllib.request.urlopen(request)\n",
    "    return gzip.GzipFile(fileobj=response, mode='rb')\n",
    "\n",
    "if __name__ == '__main__':\n",
    "    np.savez_compressed(\n",
    "        'mnist',\n",
    "        train_x=read_image(openurl_gzip('http://fashion-mnist.s3-website.eu-central-1.amazonaws.com/train-images-idx3-ubyte.gz')),\n",
    "        train_y=read_label(openurl_gzip('http://fashion-mnist.s3-website.eu-central-1.amazonaws.com/train-labels-idx1-ubyte.gz')),\n",
    "        test_x=read_image(openurl_gzip('http://fashion-mnist.s3-website.eu-central-1.amazonaws.com/t10k-images-idx3-ubyte.gz')),\n",
    "        test_y=read_label(openurl_gzip('http://fashion-mnist.s3-website.eu-central-1.amazonaws.com/t10k-labels-idx1-ubyte.gz'))\n",
    "    )\n",
    "     "
   ]
  },
  {
   "cell_type": "code",
   "execution_count": 3,
   "metadata": {},
   "outputs": [],
   "source": [
    "#fashion mnist\n",
    "class_names = ['T-shirt/top', 'Trouser', 'Pullover', 'Dress', 'Coat', 'Sandal', 'Shirt', 'Sneaker', 'Bag', 'Ankle boot']\n",
    "#digits mnist\n",
    "#class_names = ['0', '1', '2', '3', '4', '5', '6', '7', '8', '9']"
   ]
  },
  {
   "cell_type": "code",
   "execution_count": 4,
   "metadata": {},
   "outputs": [
    {
     "name": "stdout",
     "output_type": "stream",
     "text": [
      "(60000, 28, 28) float32\n",
      "(60000,) uint8\n",
      "(10000, 28, 28) float32\n",
      "(10000,) uint8\n"
     ]
    }
   ],
   "source": [
    "import numpy as np\n",
    "data = np.load('mnist.npz')\n",
    "\n",
    "print(data['train_x'].shape, data['train_x'].dtype)\n",
    "print(data['train_y'].shape, data['train_y'].dtype)\n",
    "print(data['test_x'].shape, data['test_x'].dtype)\n",
    "print(data['test_y'].shape, data['test_y'].dtype)"
   ]
  },
  {
   "cell_type": "code",
   "execution_count": 5,
   "metadata": {},
   "outputs": [
    {
     "name": "stdout",
     "output_type": "stream",
     "text": [
      "0\n"
     ]
    },
    {
     "data": {
      "image/png": "[encoded data removed]",
      "text/plain": [
       "<Figure size 400x400 with 1 Axes>"
      ]
     },
     "metadata": {},
     "output_type": "display_data"
    }
   ],
   "source": [
    "import matplotlib.pyplot as plt\n",
    "import numpy as np\n",
    "\n",
    "# Index number of an instance (change this to view another instance).\n",
    "i = 1\n",
    "\n",
    "data = np.load('mnist.npz')\n",
    "image = data['train_x'][i]\n",
    "label = data['train_y'][i]\n",
    "\n",
    "print(label)\n",
    "f, ax = plt.subplots(figsize=(4, 4))\n",
    "ax.imshow(image, cmap='gray')\n",
    "plt.show()\n",
    "     "
   ]
  },
  {
   "cell_type": "code",
   "execution_count": 6,
   "metadata": {},
   "outputs": [],
   "source": [
    "import numpy as np\n",
    "\n",
    "def image_to_vector(X):\n",
    "    X = np.reshape(X, (len(X), -1))         # Flatten: (N x 28 x 28) -> (N x 784)\n",
    "    return X\n",
    "\n",
    "data = np.load('mnist.npz')\n",
    "Xtrain = image_to_vector(data['train_x'])   # (60000 x 784)\n",
    "Ytrain = data['train_y']                    # (60000)\n",
    "Xtest = image_to_vector(data['test_x'])     # (10000 x 784)\n",
    "Ytest = data['test_y']                      # (10000)"
   ]
  },
  {
   "cell_type": "code",
   "execution_count": 7,
   "metadata": {},
   "outputs": [
    {
     "name": "stdout",
     "output_type": "stream",
     "text": [
      "TensorFrost module loaded!\n"
     ]
    }
   ],
   "source": [
    "import TensorFrost as tf\n",
    "tf.initialize(tf.opengl)"
   ]
  },
  {
   "cell_type": "code",
   "execution_count": 8,
   "metadata": {},
   "outputs": [
    {
     "name": "stdout",
     "output_type": "stream",
     "text": [
      "step:\n",
      "  Kernel count: 23\n",
      "  Intermediate buffers: 18\n",
      "  Host readbacks: 1\n",
      "  Host writes: 0\n",
      "  Lines of generated code: 517\n",
      "  IR Compile time: 30.889299 ms\n",
      "  Compiler time: 1584.182129 ms\n",
      "\n"
     ]
    }
   ],
   "source": [
    "import math\n",
    "\n",
    "def softmax(X):\n",
    "    exp = tf.exp(X)\n",
    "    return exp / tf.unsqueeze(tf.sum(exp))\n",
    "\n",
    "def leaky_relu(X):\n",
    "    return tf.select(X > 0.0, X, 0.01 * X)\n",
    "\n",
    "def mul_bias(X, W):\n",
    "    ids = tf.indices(list(X.shape[:-1]) + [W.shape[-2]])\n",
    "    return tf.select(ids[-1] == X.shape[-1], 1.0, X[ids]) @ W\n",
    "\n",
    "def forward(W1, W2, W3, X):\n",
    "    L1 = leaky_relu(mul_bias(X, W1))\n",
    "    L2 = leaky_relu(mul_bias(L1, W2))\n",
    "    return softmax(mul_bias(L2, W3))\n",
    "\n",
    "def loss(Y, Yhat): #cross entropy loss\n",
    "    return tf.sum(tf.sum( - Y * tf.log(Yhat + 1e-3) - (1.0 - Y) * tf.log(1.0 - Yhat + 1e-3))) / tf.float(math.prod(Y.shape))\n",
    "\n",
    "def step():\n",
    "    #input weights and biases\n",
    "    W1 = tf.input([-1, -1], tf.float32)\n",
    "    In, Hidden1 = W1.shape[0] - 1, W1.shape[1]\n",
    "    W2 = tf.input([Hidden1+1, -1], tf.float32)\n",
    "    Hidden2 = W2.shape[1]\n",
    "    W3 = tf.input([Hidden2+1, -1], tf.float32)\n",
    "    Out = W3.shape[1]\n",
    "\n",
    "    #input data\n",
    "    X = tf.input([-1, In], tf.float32)\n",
    "    Y = tf.input([-1, Out], tf.float32)\n",
    "    \n",
    "    info = tf.input([3], tf.float32)\n",
    "    offset = tf.int(info[0])\n",
    "    batch_size = tf.int(info[1])\n",
    "    learning_rate = info[2]\n",
    "\n",
    "    #TODO: implement slicing instead of this crap\n",
    "    i, j = tf.indices([batch_size, In])\n",
    "    Xbatch = X[i + offset, j]\n",
    "    i, j = tf.indices([batch_size, Out])\n",
    "    Ybatch = Y[i + offset, j]\n",
    "\n",
    "    #i, j = tf.index_grid([batch_size:(offset + batch_size), 0:In])\n",
    "\n",
    "    Yhat = forward(W1, W2, W3, Xbatch)\n",
    "    L = loss(Ybatch, Yhat)\n",
    "\n",
    "    W1 -= learning_rate * tf.grad(L, W1)\n",
    "    W2 -= learning_rate * tf.grad(L, W2)\n",
    "    W3 -= learning_rate * tf.grad(L, W3)\n",
    "\n",
    "    return [L, W1, W2, W3]\n",
    "\n",
    "train_step = tf.compile(step)"
   ]
  },
  {
   "cell_type": "code",
   "execution_count": 9,
   "metadata": {},
   "outputs": [
    {
     "name": "stdout",
     "output_type": "stream",
     "text": [
      "forward_step:\n",
      "  Kernel count: 5\n",
      "  Intermediate buffers: 4\n",
      "  Host readbacks: 0\n",
      "  Host writes: 0\n",
      "  Lines of generated code: 454\n",
      "  IR Compile time: 4.680400 ms\n",
      "  Compiler time: 1398.518677 ms\n",
      "\n"
     ]
    }
   ],
   "source": [
    "def forward_step():\n",
    "    W1 = tf.input([-1, -1], tf.float32)\n",
    "    In, Hidden1 = W1.shape[0] - 1, W1.shape[1]\n",
    "    W2 = tf.input([Hidden1+1, -1], tf.float32)\n",
    "    Hidden2 = W2.shape[1]\n",
    "    W3 = tf.input([Hidden2+1, -1], tf.float32)\n",
    "    Out = W3.shape[1]\n",
    "\n",
    "    #input data\n",
    "    X = tf.input([-1, In], tf.float32)\n",
    "\n",
    "    Yhat = forward(W1, W2, W3, X)\n",
    "    return [Yhat]\n",
    "\n",
    "fwd_step = tf.compile(forward_step)"
   ]
  },
  {
   "cell_type": "code",
   "execution_count": 10,
   "metadata": {},
   "outputs": [
    {
     "name": "stdout",
     "output_type": "stream",
     "text": [
      "(60000, 784)\n",
      "(60000, 10)\n"
     ]
    }
   ],
   "source": [
    "\n",
    "Xsamples = Xtrain\n",
    "Ysamples = np.zeros((Xsamples.shape[0], 10))\n",
    "Ysamples[np.arange(Xsamples.shape[0]), Ytrain] = 1.0\n",
    "\n",
    "print (Xsamples.shape)\n",
    "print (Ysamples.shape)\n",
    "\n",
    "hidden_size1 = 128\n",
    "hidden_size2 = 128\n",
    "\n",
    "W1 = np.random.randn(28 * 28 + 1, hidden_size1).astype(np.float32) # ((784 + 1) x hidden_size1)\n",
    "W2 = np.random.randn(hidden_size1 + 1, hidden_size2).astype(np.float32) # ((hidden_size1 + 1) x hidden_size2)\n",
    "W3 = np.random.randn(hidden_size2 + 1, 10).astype(np.float32) # ((hidden_size2 + 1) x 10)\n",
    "\n",
    "#normalize weights\n",
    "W1 /= np.sqrt(28 * 28 + 1)\n",
    "W2 /= np.sqrt(hidden_size1 + 1)\n",
    "W3 /= np.sqrt(hidden_size2 + 1)"
   ]
  },
  {
   "cell_type": "code",
   "execution_count": 11,
   "metadata": {},
   "outputs": [],
   "source": [
    "W1tf = tf.tensor(W1)\n",
    "W2tf = tf.tensor(W2)\n",
    "W3tf = tf.tensor(W3)\n",
    "Xtf = tf.tensor(Xsamples)\n",
    "Ytf = tf.tensor(Ysamples)"
   ]
  },
  {
   "cell_type": "code",
   "execution_count": 12,
   "metadata": {},
   "outputs": [],
   "source": [
    "def test_accuracy(W1tf, W2tf, W3tf, Xtf, Ytest):\n",
    "    Yhat, = fwd_step(W1tf, W2tf, W3tf, tf.tensor(Xtf))\n",
    "    Yhatnp = Yhat.numpy\n",
    "    Predict = np.argmax(Yhatnp, axis = 1)\n",
    "    correct_tf = np.sum(Predict == Ytest)\n",
    "    return correct_tf * 100.0 / len(Ytest)\n"
   ]
  },
  {
   "cell_type": "code",
   "execution_count": 13,
   "metadata": {},
   "outputs": [
    {
     "name": "stdout",
     "output_type": "stream",
     "text": [
      "Epoch:  0  Tf Loss:  [0.21443245]\n",
      "Epoch:  1  Tf Loss:  [0.13316384]\n",
      "Epoch:  2  Tf Loss:  [0.11391792]\n",
      "Epoch:  3  Tf Loss:  [0.10271417]\n",
      "Epoch:  4  Tf Loss:  [0.09772187]\n",
      "Epoch:  5  Tf Loss:  [0.09225748]\n",
      "Epoch:  6  Tf Loss:  [0.08907478]\n",
      "Epoch:  7  Tf Loss:  [0.08646192]\n",
      "Epoch:  8  Tf Loss:  [0.08314675]\n",
      "Epoch:  9  Tf Loss:  [0.08229919]\n",
      "Epoch:  10  Tf Loss:  [0.08027156]\n",
      "Epoch:  11  Tf Loss:  [0.07913653]\n",
      "Epoch:  12  Tf Loss:  [0.07725163]\n",
      "Epoch:  13  Tf Loss:  [0.07563511]\n",
      "Epoch:  14  Tf Loss:  [0.07420149]\n",
      "Epoch:  15  Tf Loss:  [0.07305508]\n",
      "Epoch:  16  Tf Loss:  [0.0732863]\n",
      "Epoch:  17  Tf Loss:  [0.07100614]\n",
      "Epoch:  18  Tf Loss:  [0.07037637]\n",
      "Epoch:  19  Tf Loss:  [0.07030048]\n",
      "Epoch:  20  Tf Loss:  [0.06896845]\n",
      "Epoch:  21  Tf Loss:  [0.06853899]\n",
      "Epoch:  22  Tf Loss:  [0.06804926]\n",
      "Epoch:  23  Tf Loss:  [0.06656419]\n",
      "Epoch:  24  Tf Loss:  [0.06600244]\n",
      "Epoch:  25  Tf Loss:  [0.06569528]\n",
      "Epoch:  26  Tf Loss:  [0.06509171]\n",
      "Epoch:  27  Tf Loss:  [0.06438707]\n",
      "Epoch:  28  Tf Loss:  [0.06375286]\n",
      "Epoch:  29  Tf Loss:  [0.06372496]\n",
      "Epoch:  30  Tf Loss:  [0.06308583]\n",
      "Epoch:  31  Tf Loss:  [0.06221697]\n",
      "Epoch:  32  Tf Loss:  [0.06253277]\n",
      "Epoch:  33  Tf Loss:  [0.06219386]\n",
      "Epoch:  34  Tf Loss:  [0.06118565]\n",
      "Epoch:  35  Tf Loss:  [0.06047017]\n",
      "Epoch:  36  Tf Loss:  [0.06016788]\n",
      "Epoch:  37  Tf Loss:  [0.05988372]\n",
      "Epoch:  38  Tf Loss:  [0.05928864]\n",
      "Epoch:  39  Tf Loss:  [0.05933479]\n",
      "Epoch:  40  Tf Loss:  [0.05924253]\n",
      "Epoch:  41  Tf Loss:  [0.05894794]\n",
      "Epoch:  42  Tf Loss:  [0.05782501]\n",
      "Epoch:  43  Tf Loss:  [0.05753451]\n",
      "Epoch:  44  Tf Loss:  [0.05744877]\n",
      "Epoch:  45  Tf Loss:  [0.05707009]\n",
      "Epoch:  46  Tf Loss:  [0.05698029]\n",
      "Epoch:  47  Tf Loss:  [0.05595476]\n",
      "Epoch:  48  Tf Loss:  [0.05611571]\n",
      "Epoch:  49  Tf Loss:  [0.05612329]\n",
      "Epoch:  50  Tf Loss:  [0.05549163]\n",
      "Epoch:  51  Tf Loss:  [0.05542815]\n",
      "Epoch:  52  Tf Loss:  [0.05513337]\n",
      "Epoch:  53  Tf Loss:  [0.05458962]\n",
      "Epoch:  54  Tf Loss:  [0.05419416]\n",
      "Epoch:  55  Tf Loss:  [0.05458741]\n",
      "Epoch:  56  Tf Loss:  [0.05346047]\n",
      "Epoch:  57  Tf Loss:  [0.05374865]\n",
      "Epoch:  58  Tf Loss:  [0.05358502]\n",
      "Epoch:  59  Tf Loss:  [0.05322834]\n",
      "Epoch:  60  Tf Loss:  [0.05359162]\n",
      "Epoch:  61  Tf Loss:  [0.05309346]\n",
      "Epoch:  62  Tf Loss:  [0.05231602]\n",
      "Epoch:  63  Tf Loss:  [0.05177807]\n",
      "Epoch:  64  Tf Loss:  [0.05163987]\n",
      "Epoch:  65  Tf Loss:  [0.05168236]\n",
      "Epoch:  66  Tf Loss:  [0.05150345]\n",
      "Epoch:  67  Tf Loss:  [0.05113959]\n",
      "Epoch:  68  Tf Loss:  [0.05132027]\n",
      "Epoch:  69  Tf Loss:  [0.05080346]\n",
      "Epoch:  70  Tf Loss:  [0.05047581]\n",
      "Epoch:  71  Tf Loss:  [0.0502938]\n",
      "Epoch:  72  Tf Loss:  [0.05011633]\n",
      "Epoch:  73  Tf Loss:  [0.04955078]\n",
      "Epoch:  74  Tf Loss:  [0.04988095]\n",
      "Epoch:  75  Tf Loss:  [0.0490871]\n",
      "Epoch:  76  Tf Loss:  [0.04967547]\n",
      "Epoch:  77  Tf Loss:  [0.04909746]\n",
      "Epoch:  78  Tf Loss:  [0.04883286]\n",
      "Epoch:  79  Tf Loss:  [0.04906391]\n",
      "Epoch:  80  Tf Loss:  [0.04867603]\n",
      "Epoch:  81  Tf Loss:  [0.04804174]\n",
      "Epoch:  82  Tf Loss:  [0.0481787]\n",
      "Epoch:  83  Tf Loss:  [0.04762129]\n",
      "Epoch:  84  Tf Loss:  [0.04777552]\n",
      "Epoch:  85  Tf Loss:  [0.04782413]\n",
      "Epoch:  86  Tf Loss:  [0.04738569]\n",
      "Epoch:  87  Tf Loss:  [0.04724049]\n",
      "Epoch:  88  Tf Loss:  [0.04700227]\n",
      "Epoch:  89  Tf Loss:  [0.04680367]\n",
      "Epoch:  90  Tf Loss:  [0.04636252]\n",
      "Epoch:  91  Tf Loss:  [0.04642986]\n",
      "Epoch:  92  Tf Loss:  [0.04646642]\n",
      "Epoch:  93  Tf Loss:  [0.0459387]\n",
      "Epoch:  94  Tf Loss:  [0.04565816]\n",
      "Epoch:  95  Tf Loss:  [0.04571171]\n",
      "Epoch:  96  Tf Loss:  [0.045503]\n",
      "Epoch:  97  Tf Loss:  [0.04570622]\n",
      "Epoch:  98  Tf Loss:  [0.0449261]\n",
      "Epoch:  99  Tf Loss:  [0.04540133]\n",
      "Final Tf test accuracy:  87.37 %\n"
     ]
    }
   ],
   "source": [
    "batch_size = 1024\n",
    "epochs = 100\n",
    "iterations = Xsamples.shape[0] // batch_size\n",
    "learning_rate = 0.5\n",
    "\n",
    "loss_curve = []\n",
    "\n",
    "for i in range(epochs):\n",
    "    avg_loss_tf = 0.0\n",
    "\n",
    "    #shuffle offsets\n",
    "    offsets = np.random.permutation(Xsamples.shape[0] // batch_size) * batch_size \n",
    "\n",
    "    for j in range(iterations):\n",
    "        #offset = j * batch_size\n",
    "        offset = offsets[j]\n",
    "        info = np.array([offset, batch_size, learning_rate]).astype(np.float32)\n",
    "        info_tf = tf.tensor(info)\n",
    "       # L, W1tf, W2tf, b1tf, b2tf = train_step(W1tf, W2tf, b1tf, b2tf, Xtf, Ytf, info_tf)\n",
    "        L, W1tf, W2tf, W3tf = train_step(W1tf, W2tf, W3tf, Xtf, Ytf, info_tf)\n",
    "        loss = L.numpy\n",
    "        avg_loss_tf += loss\n",
    "        loss_curve.append(loss)\n",
    "        #print(\"Epoch: \", i, \" Iteration: \", j, \" Tf Loss: \", loss)\n",
    "    #loss_curve.append(avg_loss_tf / iterations)\n",
    "\n",
    "    #test_accuracy_tf = test_accuracy(W1tf, W2tf, b1tf, b2tf, Xtest, Ytest)\n",
    "    #print(\"Epoch: \", i, \" Tf Loss: \", avg_loss_tf / iterations, \" Tf test accuracy: \", test_accuracy_tf, \"%\")\n",
    "    print(\"Epoch: \", i, \" Tf Loss: \", avg_loss_tf / iterations)\n",
    "\n",
    "test_accuracy_tf = test_accuracy(W1tf, W2tf, W3tf, Xtest, Ytest)\n",
    "print(\"Final Tf test accuracy: \", test_accuracy_tf, \"%\")"
   ]
  },
  {
   "cell_type": "code",
   "execution_count": 14,
   "metadata": {},
   "outputs": [
    {
     "data": {
      "image/png": "[encoded data removed]",
      "text/plain": [
       "<Figure size 1000x500 with 1 Axes>"
      ]
     },
     "metadata": {},
     "output_type": "display_data"
    }
   ],
   "source": [
    "import matplotlib.pyplot as plt\n",
    "\n",
    "plt.figure(figsize=(10, 5))\n",
    "plt.plot(loss_curve)\n",
    "plt.xlabel('Epochs')\n",
    "plt.ylabel('Loss')\n",
    "plt.title('Training Loss')\n",
    "plt.show()"
   ]
  },
  {
   "cell_type": "code",
   "execution_count": 15,
   "metadata": {},
   "outputs": [
    {
     "name": "stderr",
     "output_type": "stream",
     "text": [
      "C:\\Users\\micha\\AppData\\Local\\Temp\\ipykernel_67596\\1355461961.py:53: DeprecationWarning: Conversion of an array with ndim > 0 to a scalar is deprecated, and will error in future. Ensure you extract a single element from your array before performing this operation. (Deprecated NumPy 1.25.)\n",
      "  tf.imgui_text(\"Loss: %.3f\" % loss)\n"
     ]
    }
   ],
   "source": [
    "import time\n",
    "\n",
    "ImageSize = 1024\n",
    "\n",
    "tf.show_window(ImageSize, ImageSize, \"Recognizer\")\n",
    "\n",
    "prev_time = time.time()\n",
    "\n",
    "#Canvas = np.zeros((28, 28), np.float32)\n",
    "#take the first image from the test set\n",
    "Canvas = Xtest[9].reshape(28, 28)\n",
    "\n",
    "while not tf.window_should_close():\n",
    "    cur_time = time.time() \n",
    "    time_tf = tf.tensor(np.array([cur_time], np.float32))\n",
    "    mx, my = tf.get_mouse_position()\n",
    "    cur_time = time.time()\n",
    "    delta_time = cur_time - prev_time\n",
    "    tf.imgui_text(\"Prediction time: %.3f ms\" % (delta_time * 1000.0))\n",
    "\n",
    "\n",
    "    if tf.is_mouse_button_pressed(tf.MOUSE_BUTTON_0):\n",
    "        #draw on the canvas\n",
    "        x = mx * 28 / ImageSize\n",
    "        y = my * 28 / ImageSize\n",
    "        #add a gaussian blob\n",
    "        for i in range(28):\n",
    "            for j in range(28):\n",
    "                dx = j - x\n",
    "                dy = i - y\n",
    "                Canvas[i, j] += 0.5 * np.exp(-2.0 * (dx * dx + dy * dy))\n",
    "\n",
    "    Canvas = np.clip(Canvas, 0.0, 1.0)\n",
    "    canvas_flat = Canvas.reshape(1, -1)\n",
    "    canvas_tf = tf.tensor(canvas_flat)\n",
    "\n",
    "    #use random offset\n",
    "    offset = np.random.randint(0, Xtest.shape[0] - batch_size)\n",
    "    info = np.array([offset, batch_size, learning_rate]).astype(np.float32)\n",
    "    info_tf = tf.tensor(info)\n",
    "    L, W1tf, W2tf, W3tf = train_step(W1tf, W2tf, W3tf, Xtf, Ytf, info_tf)\n",
    "    loss = L.numpy\n",
    "\n",
    "    #predict\n",
    "    #Yhat, = fwd_step(W1tf, W2tf, b1tf, b2tf, canvas_tf)\n",
    "    Yhat, = fwd_step(W1tf, W2tf, W3tf, canvas_tf)\n",
    "\n",
    "    Yhatnp = Yhat.numpy\n",
    "    \n",
    "    if(tf.imgui_button(\"Clear\")):\n",
    "        Canvas = np.zeros((28, 28), np.float32)\n",
    "    tf.imgui_text(\"Prediction: %s\" % class_names[np.argmax(Yhatnp)])\n",
    "    tf.imgui_text(\"Loss: %.3f\" % loss)\n",
    "    tf.imgui_text(\"Distribution: \")\n",
    "    for i in range(10):\n",
    "        tf.imgui_text(\"Class %s: %.3f\" % (class_names[i], Yhatnp[0, i]))\n",
    "    \n",
    "    #draw the canvas\n",
    "    frame_tf = np.zeros((28, 28, 3), np.float32)\n",
    "    frame_tf[:, :, 0] = Canvas\n",
    "    frame_tf[:, :, 1] = Canvas\n",
    "    frame_tf[:, :, 2] = Canvas\n",
    "\n",
    "    frame_tf = np.flipud(frame_tf)\n",
    "\n",
    "    frame_tf = tf.tensor(frame_tf)\n",
    "    tf.render_frame(frame_tf)\n",
    "\n",
    "    prev_time = cur_time\n",
    "\n",
    "\n",
    "tf.hide_window()"
   ]
  },
  {
   "cell_type": "code",
   "execution_count": 16,
   "metadata": {},
   "outputs": [
    {
     "name": "stdout",
     "output_type": "stream",
     "text": [
      "Final Tf test accuracy:  88.02 %\n"
     ]
    }
   ],
   "source": [
    "\n",
    "test_accuracy_tf = test_accuracy(W1tf, W2tf, W3tf, Xtest, Ytest)\n",
    "print(\"Final Tf test accuracy: \", test_accuracy_tf, \"%\")"
   ]
  }
 ],
 "metadata": {
  "kernelspec": {
   "display_name": "Python 3",
   "language": "python",
   "name": "python3"
  },
  "language_info": {
   "codemirror_mode": {
    "name": "ipython",
    "version": 3
   },
   "file_extension": ".py",
   "mimetype": "text/x-python",
   "name": "python",
   "nbconvert_exporter": "python",
   "pygments_lexer": "ipython3",
   "version": "3.12.0"
  },
  "orig_nbformat": 4
 },
 "nbformat": 4,
 "nbformat_minor": 2
}
