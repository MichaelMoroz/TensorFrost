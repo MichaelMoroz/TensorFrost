{
 "cells": [
  {
   "cell_type": "code",
   "execution_count": 4,
   "metadata": {},
   "outputs": [],
   "source": [
    "import numpy as np\n",
    "import matplotlib.pyplot as plt\n",
    "import time\n"
   ]
  },
  {
   "cell_type": "code",
   "execution_count": 5,
   "metadata": {},
   "outputs": [],
   "source": [
    "#fashion mnist\n",
    "class_names = ['T-shirt/top', 'Trouser', 'Pullover', 'Dress', 'Coat', 'Sandal', 'Shirt', 'Sneaker', 'Bag', 'Ankle boot']\n",
    "#digits mnist\n",
    "#class_names = ['0', '1', '2', '3', '4', '5', '6', '7', '8', '9']"
   ]
  },
  {
   "cell_type": "code",
   "execution_count": 6,
   "metadata": {},
   "outputs": [
    {
     "name": "stdout",
     "output_type": "stream",
     "text": [
      "(60000, 28, 28) float32\n",
      "(60000,) uint8\n",
      "(10000, 28, 28) float32\n",
      "(10000,) uint8\n"
     ]
    }
   ],
   "source": [
    "import numpy as np\n",
    "data = np.load('mnist.npz')\n",
    "\n",
    "print(data['train_x'].shape, data['train_x'].dtype)\n",
    "print(data['train_y'].shape, data['train_y'].dtype)\n",
    "print(data['test_x'].shape, data['test_x'].dtype)\n",
    "print(data['test_y'].shape, data['test_y'].dtype)"
   ]
  },
  {
   "cell_type": "code",
   "execution_count": 7,
   "metadata": {},
   "outputs": [
    {
     "name": "stdout",
     "output_type": "stream",
     "text": [
      "0\n"
     ]
    },
    {
     "data": {
      "image/png": "[encoded data removed]",
      "text/plain": [
       "<Figure size 400x400 with 1 Axes>"
      ]
     },
     "metadata": {},
     "output_type": "display_data"
    }
   ],
   "source": [
    "import matplotlib.pyplot as plt\n",
    "import numpy as np\n",
    "\n",
    "# Index number of an instance (change this to view another instance).\n",
    "i = 1\n",
    "\n",
    "data = np.load('mnist.npz')\n",
    "image = data['train_x'][i]\n",
    "label = data['train_y'][i]\n",
    "\n",
    "print(label)\n",
    "f, ax = plt.subplots(figsize=(4, 4))\n",
    "ax.imshow(image, cmap='gray')\n",
    "plt.show()\n",
    "     "
   ]
  },
  {
   "cell_type": "code",
   "execution_count": 8,
   "metadata": {},
   "outputs": [],
   "source": [
    "import numpy as np\n",
    "\n",
    "def image_to_vector(X):\n",
    "    X = np.reshape(X, (len(X), -1))         # Flatten: (N x 28 x 28) -> (N x 784)\n",
    "    return X\n",
    "\n",
    "data = np.load('mnist.npz')\n",
    "Xtrain = image_to_vector(data['train_x'])   # (60000 x 784)\n",
    "Ytrain = data['train_y']                    # (60000)\n",
    "Xtest = image_to_vector(data['test_x'])     # (10000 x 784)\n",
    "Ytest = data['test_y']                      # (10000)"
   ]
  },
  {
   "cell_type": "code",
   "execution_count": 9,
   "metadata": {},
   "outputs": [
    {
     "name": "stdout",
     "output_type": "stream",
     "text": [
      "TensorFrost module loaded!\n"
     ]
    }
   ],
   "source": [
    "import TensorFrost as tf\n",
    "tf.initialize(tf.opengl)"
   ]
  },
  {
   "cell_type": "code",
   "execution_count": 10,
   "metadata": {},
   "outputs": [
    {
     "name": "stdout",
     "output_type": "stream",
     "text": [
      "step:\n",
      "  Kernel count: 23\n",
      "  Intermediate buffers: 17\n",
      "  Host readbacks: 1\n",
      "  Host writes: 0\n",
      "  Lines of generated code: 562\n",
      "  IR Compile time: 34.917702 ms\n",
      "  Steps time: 1890.680664 ms\n",
      "\n"
     ]
    }
   ],
   "source": [
    "import math\n",
    "\n",
    "def softmax(X):\n",
    "    exp = tf.exp(X)\n",
    "    return exp / tf.unsqueeze(tf.sum(exp))\n",
    "\n",
    "def leaky_relu(X):\n",
    "    return tf.select(X > 0.0, X, 0.01 * X)\n",
    "\n",
    "def mul_bias(X, W):\n",
    "    ids = tf.indices(list(X.shape[:-1]) + [W.shape[-2]])\n",
    "    return tf.select(ids[-1] == X.shape[-1], 1.0, X[ids]) @ W\n",
    "\n",
    "def forward(W1, W2, W3, X):\n",
    "    L1 = leaky_relu(mul_bias(X, W1))\n",
    "    L2 = leaky_relu(mul_bias(L1, W2))\n",
    "    return softmax(mul_bias(L2, W3))\n",
    "\n",
    "def loss(Y, Yhat): #cross entropy loss\n",
    "    return tf.sum(tf.sum( - Y * tf.log(Yhat + 1e-3) - (1.0 - Y) * tf.log(1.0 - Yhat + 1e-3))) / tf.float(math.prod(Y.shape))\n",
    "\n",
    "def step():\n",
    "    #input weights and biases\n",
    "    W1 = tf.input([-1, -1], tf.float32)\n",
    "    In, Hidden1 = W1.shape[0] - 1, W1.shape[1]\n",
    "    W2 = tf.input([Hidden1+1, -1], tf.float32)\n",
    "    Hidden2 = W2.shape[1]\n",
    "    W3 = tf.input([Hidden2+1, -1], tf.float32)\n",
    "    Out = W3.shape[1]\n",
    "\n",
    "    #input data\n",
    "    X = tf.input([-1, In], tf.float32)\n",
    "    Y = tf.input([-1, Out], tf.float32)\n",
    "    \n",
    "    info = tf.input([3], tf.float32)\n",
    "    offset = tf.int(info[0])\n",
    "    batch_size = tf.int(info[1])\n",
    "    learning_rate = info[2]\n",
    "\n",
    "    #TODO: implement slicing instead of this\n",
    "    i, j = tf.indices([batch_size, In])\n",
    "    Xbatch = X[i + offset, j]\n",
    "    i, j = tf.indices([batch_size, Out])\n",
    "    Ybatch = Y[i + offset, j]\n",
    "\n",
    "    #i, j = tf.index_grid([batch_size:(offset + batch_size), 0:In])\n",
    "\n",
    "    Yhat = forward(W1, W2, W3, Xbatch)\n",
    "    L = loss(Ybatch, Yhat)\n",
    "\n",
    "    W1 -= learning_rate * tf.grad(L, W1)\n",
    "    W2 -= learning_rate * tf.grad(L, W2)\n",
    "    W3 -= learning_rate * tf.grad(L, W3)\n",
    "\n",
    "    return [L, W1, W2, W3]\n",
    "\n",
    "train_step = tf.compile(step)"
   ]
  },
  {
   "cell_type": "code",
   "execution_count": 11,
   "metadata": {},
   "outputs": [
    {
     "name": "stdout",
     "output_type": "stream",
     "text": [
      "forward_step:\n",
      "  Kernel count: 5\n",
      "  Intermediate buffers: 4\n",
      "  Host readbacks: 0\n",
      "  Host writes: 0\n",
      "  Lines of generated code: 501\n",
      "  IR Compile time: 7.099700 ms\n",
      "  Steps time: 1595.915527 ms\n",
      "\n"
     ]
    }
   ],
   "source": [
    "def forward_step():\n",
    "    W1 = tf.input([-1, -1], tf.float32)\n",
    "    In, Hidden1 = W1.shape[0] - 1, W1.shape[1]\n",
    "    W2 = tf.input([Hidden1+1, -1], tf.float32)\n",
    "    Hidden2 = W2.shape[1]\n",
    "    W3 = tf.input([Hidden2+1, -1], tf.float32)\n",
    "    Out = W3.shape[1]\n",
    "\n",
    "    #input data\n",
    "    X = tf.input([-1, In], tf.float32)\n",
    "\n",
    "    return forward(W1, W2, W3, X)\n",
    "\n",
    "fwd_step = tf.compile(forward_step)"
   ]
  },
  {
   "cell_type": "code",
   "execution_count": 12,
   "metadata": {},
   "outputs": [
    {
     "name": "stdout",
     "output_type": "stream",
     "text": [
      "(60000, 784)\n",
      "(60000, 10)\n"
     ]
    }
   ],
   "source": [
    "\n",
    "Xsamples = Xtrain\n",
    "Ysamples = np.zeros((Xsamples.shape[0], 10))\n",
    "Ysamples[np.arange(Xsamples.shape[0]), Ytrain] = 1.0\n",
    "\n",
    "print (Xsamples.shape)\n",
    "print (Ysamples.shape)\n",
    "\n",
    "hidden_size1 = 128\n",
    "hidden_size2 = 128\n",
    "\n",
    "W1 = np.random.randn(28 * 28 + 1, hidden_size1).astype(np.float32) # ((784 + 1) x hidden_size1)\n",
    "W2 = np.random.randn(hidden_size1 + 1, hidden_size2).astype(np.float32) # ((hidden_size1 + 1) x hidden_size2)\n",
    "W3 = np.random.randn(hidden_size2 + 1, 10).astype(np.float32) # ((hidden_size2 + 1) x 10)\n",
    "\n",
    "#normalize weights\n",
    "W1 /= np.sqrt(28 * 28 + 1)\n",
    "W2 /= np.sqrt(hidden_size1 + 1)\n",
    "W3 /= np.sqrt(hidden_size2 + 1)"
   ]
  },
  {
   "cell_type": "code",
   "execution_count": 13,
   "metadata": {},
   "outputs": [],
   "source": [
    "W1tf = tf.tensor(W1)\n",
    "W2tf = tf.tensor(W2)\n",
    "W3tf = tf.tensor(W3)\n",
    "Xtf = tf.tensor(Xsamples)\n",
    "Ytf = tf.tensor(Ysamples)"
   ]
  },
  {
   "cell_type": "code",
   "execution_count": 14,
   "metadata": {},
   "outputs": [],
   "source": [
    "def test_accuracy(W1tf, W2tf, W3tf, Xtf, Ytest):\n",
    "    Yhat = fwd_step(W1tf, W2tf, W3tf, tf.tensor(Xtf))\n",
    "    Yhatnp = Yhat.numpy\n",
    "    Predict = np.argmax(Yhatnp, axis = 1)\n",
    "    correct_tf = np.sum(Predict == Ytest)\n",
    "    return correct_tf * 100.0 / len(Ytest)\n"
   ]
  },
  {
   "cell_type": "code",
   "execution_count": 15,
   "metadata": {},
   "outputs": [
    {
     "name": "stdout",
     "output_type": "stream",
     "text": [
      "Epoch:  0  Tf Loss:  [0.21909454]\n",
      "Epoch:  1  Tf Loss:  [0.13594605]\n",
      "Epoch:  2  Tf Loss:  [0.11809804]\n",
      "Epoch:  3  Tf Loss:  [0.10632749]\n",
      "Epoch:  4  Tf Loss:  [0.09886239]\n",
      "Epoch:  5  Tf Loss:  [0.09410278]\n",
      "Epoch:  6  Tf Loss:  [0.08977281]\n",
      "Epoch:  7  Tf Loss:  [0.08699647]\n",
      "Epoch:  8  Tf Loss:  [0.08456423]\n",
      "Epoch:  9  Tf Loss:  [0.08245315]\n",
      "Epoch:  10  Tf Loss:  [0.08132022]\n",
      "Epoch:  11  Tf Loss:  [0.07887962]\n",
      "Epoch:  12  Tf Loss:  [0.07776823]\n",
      "Epoch:  13  Tf Loss:  [0.07657576]\n",
      "Epoch:  14  Tf Loss:  [0.07547683]\n",
      "Epoch:  15  Tf Loss:  [0.07356976]\n",
      "Epoch:  16  Tf Loss:  [0.07272111]\n",
      "Epoch:  17  Tf Loss:  [0.07305045]\n",
      "Epoch:  18  Tf Loss:  [0.07085927]\n",
      "Epoch:  19  Tf Loss:  [0.07085323]\n",
      "Epoch:  20  Tf Loss:  [0.06978279]\n",
      "Epoch:  21  Tf Loss:  [0.0688603]\n",
      "Epoch:  22  Tf Loss:  [0.06808281]\n",
      "Epoch:  23  Tf Loss:  [0.06753645]\n",
      "Epoch:  24  Tf Loss:  [0.06719328]\n",
      "Epoch:  25  Tf Loss:  [0.06614579]\n",
      "Epoch:  26  Tf Loss:  [0.06536072]\n",
      "Epoch:  27  Tf Loss:  [0.0651053]\n",
      "Epoch:  28  Tf Loss:  [0.06495786]\n",
      "Epoch:  29  Tf Loss:  [0.06370722]\n",
      "Epoch:  30  Tf Loss:  [0.06399623]\n",
      "Epoch:  31  Tf Loss:  [0.06258937]\n",
      "Epoch:  32  Tf Loss:  [0.06267426]\n",
      "Epoch:  33  Tf Loss:  [0.06174633]\n",
      "Epoch:  34  Tf Loss:  [0.06177489]\n",
      "Epoch:  35  Tf Loss:  [0.06123042]\n",
      "Epoch:  36  Tf Loss:  [0.06032284]\n",
      "Epoch:  37  Tf Loss:  [0.05978376]\n",
      "Epoch:  38  Tf Loss:  [0.05976298]\n",
      "Epoch:  39  Tf Loss:  [0.05930949]\n",
      "Epoch:  40  Tf Loss:  [0.05907296]\n",
      "Epoch:  41  Tf Loss:  [0.05860705]\n",
      "Epoch:  42  Tf Loss:  [0.05858865]\n",
      "Epoch:  43  Tf Loss:  [0.05767299]\n",
      "Epoch:  44  Tf Loss:  [0.05756275]\n",
      "Epoch:  45  Tf Loss:  [0.05734592]\n",
      "Epoch:  46  Tf Loss:  [0.05693927]\n",
      "Epoch:  47  Tf Loss:  [0.05668327]\n",
      "Epoch:  48  Tf Loss:  [0.05615643]\n",
      "Epoch:  49  Tf Loss:  [0.05620821]\n",
      "Epoch:  50  Tf Loss:  [0.05570138]\n",
      "Epoch:  51  Tf Loss:  [0.0550728]\n",
      "Epoch:  52  Tf Loss:  [0.05536346]\n",
      "Epoch:  53  Tf Loss:  [0.05436978]\n",
      "Epoch:  54  Tf Loss:  [0.05422743]\n",
      "Epoch:  55  Tf Loss:  [0.05454865]\n",
      "Epoch:  56  Tf Loss:  [0.05377534]\n",
      "Epoch:  57  Tf Loss:  [0.05374207]\n",
      "Epoch:  58  Tf Loss:  [0.05358855]\n",
      "Epoch:  59  Tf Loss:  [0.05327073]\n",
      "Epoch:  60  Tf Loss:  [0.05332248]\n",
      "Epoch:  61  Tf Loss:  [0.05267763]\n",
      "Epoch:  62  Tf Loss:  [0.05236135]\n",
      "Epoch:  63  Tf Loss:  [0.05266589]\n",
      "Epoch:  64  Tf Loss:  [0.05143246]\n",
      "Epoch:  65  Tf Loss:  [0.05229386]\n",
      "Epoch:  66  Tf Loss:  [0.05189846]\n",
      "Epoch:  67  Tf Loss:  [0.05086846]\n",
      "Epoch:  68  Tf Loss:  [0.05147875]\n",
      "Epoch:  69  Tf Loss:  [0.05050639]\n",
      "Epoch:  70  Tf Loss:  [0.05067458]\n",
      "Epoch:  71  Tf Loss:  [0.05007235]\n",
      "Epoch:  72  Tf Loss:  [0.05134933]\n",
      "Epoch:  73  Tf Loss:  [0.05002565]\n",
      "Epoch:  74  Tf Loss:  [0.04926619]\n",
      "Epoch:  75  Tf Loss:  [0.0497229]\n",
      "Epoch:  76  Tf Loss:  [0.04959741]\n",
      "Epoch:  77  Tf Loss:  [0.04864411]\n",
      "Epoch:  78  Tf Loss:  [0.04913676]\n",
      "Epoch:  79  Tf Loss:  [0.04890494]\n",
      "Epoch:  80  Tf Loss:  [0.04883237]\n",
      "Epoch:  81  Tf Loss:  [0.04815789]\n",
      "Epoch:  82  Tf Loss:  [0.04815757]\n",
      "Epoch:  83  Tf Loss:  [0.04777476]\n",
      "Epoch:  84  Tf Loss:  [0.04797002]\n",
      "Epoch:  85  Tf Loss:  [0.04738944]\n",
      "Epoch:  86  Tf Loss:  [0.04746955]\n",
      "Epoch:  87  Tf Loss:  [0.04763478]\n",
      "Epoch:  88  Tf Loss:  [0.04738729]\n",
      "Epoch:  89  Tf Loss:  [0.04728205]\n",
      "Epoch:  90  Tf Loss:  [0.0470953]\n",
      "Epoch:  91  Tf Loss:  [0.04657063]\n",
      "Epoch:  92  Tf Loss:  [0.04641858]\n",
      "Epoch:  93  Tf Loss:  [0.04631886]\n",
      "Epoch:  94  Tf Loss:  [0.04603818]\n",
      "Epoch:  95  Tf Loss:  [0.04564207]\n",
      "Epoch:  96  Tf Loss:  [0.04501192]\n",
      "Epoch:  97  Tf Loss:  [0.04590432]\n",
      "Epoch:  98  Tf Loss:  [0.04512369]\n",
      "Epoch:  99  Tf Loss:  [0.04508307]\n",
      "Final Tf test accuracy:  88.17 %\n"
     ]
    }
   ],
   "source": [
    "batch_size = 1024\n",
    "epochs = 100\n",
    "iterations = Xsamples.shape[0] // batch_size\n",
    "learning_rate = 0.5\n",
    "\n",
    "loss_curve = []\n",
    "\n",
    "for i in range(epochs):\n",
    "    avg_loss_tf = 0.0\n",
    "\n",
    "    #shuffle offsets\n",
    "    offsets = np.random.permutation(Xsamples.shape[0] // batch_size) * batch_size \n",
    "\n",
    "    for j in range(iterations):\n",
    "        #offset = j * batch_size\n",
    "        offset = offsets[j]\n",
    "        info = np.array([offset, batch_size, learning_rate]).astype(np.float32)\n",
    "        info_tf = tf.tensor(info)\n",
    "       # L, W1tf, W2tf, b1tf, b2tf = train_step(W1tf, W2tf, b1tf, b2tf, Xtf, Ytf, info_tf)\n",
    "        L, W1tf, W2tf, W3tf = train_step(W1tf, W2tf, W3tf, Xtf, Ytf, info_tf)\n",
    "        loss = L.numpy\n",
    "        avg_loss_tf += loss\n",
    "        loss_curve.append(loss)\n",
    "        #print(\"Epoch: \", i, \" Iteration: \", j, \" Tf Loss: \", loss)\n",
    "    #loss_curve.append(avg_loss_tf / iterations)\n",
    "\n",
    "    #test_accuracy_tf = test_accuracy(W1tf, W2tf, b1tf, b2tf, Xtest, Ytest)\n",
    "    #print(\"Epoch: \", i, \" Tf Loss: \", avg_loss_tf / iterations, \" Tf test accuracy: \", test_accuracy_tf, \"%\")\n",
    "    print(\"Epoch: \", i, \" Tf Loss: \", avg_loss_tf / iterations)\n",
    "\n",
    "test_accuracy_tf = test_accuracy(W1tf, W2tf, W3tf, Xtest, Ytest)\n",
    "print(\"Final Tf test accuracy: \", test_accuracy_tf, \"%\")"
   ]
  },
  {
   "cell_type": "code",
   "execution_count": 16,
   "metadata": {},
   "outputs": [
    {
     "data": {
      "image/png": "[encoded data removed]",
      "text/plain": [
       "<Figure size 1000x500 with 1 Axes>"
      ]
     },
     "metadata": {},
     "output_type": "display_data"
    }
   ],
   "source": [
    "import matplotlib.pyplot as plt\n",
    "\n",
    "plt.figure(figsize=(10, 5))\n",
    "plt.plot(loss_curve)\n",
    "plt.xlabel('Epochs')\n",
    "plt.ylabel('Loss')\n",
    "plt.title('Training Loss')\n",
    "plt.show()"
   ]
  },
  {
   "cell_type": "code",
   "execution_count": 18,
   "metadata": {},
   "outputs": [
    {
     "name": "stderr",
     "output_type": "stream",
     "text": [
      "C:\\Users\\micha\\AppData\\Local\\Temp\\ipykernel_40184\\2040607860.py:50: DeprecationWarning: Conversion of an array with ndim > 0 to a scalar is deprecated, and will error in future. Ensure you extract a single element from your array before performing this operation. (Deprecated NumPy 1.25.)\n",
      "  tf.imgui.text(\"Loss: %.3f\" % loss)\n"
     ]
    }
   ],
   "source": [
    "import time\n",
    "\n",
    "ImageSize = 1024\n",
    "\n",
    "tf.window.show(ImageSize, ImageSize, \"Recognizer\")\n",
    "\n",
    "prev_time = time.time()\n",
    "\n",
    "#Canvas = np.zeros((28, 28), np.float32)\n",
    "#take the first image from the test set\n",
    "Canvas = Xtest[9].reshape(28, 28)\n",
    "\n",
    "while not tf.window.should_close():\n",
    "    cur_time = time.time() \n",
    "    time_tf = tf.tensor(np.array([cur_time], np.float32))\n",
    "    mx, my = tf.window.get_mouse_position()\n",
    "    cur_time = time.time()\n",
    "    delta_time = cur_time - prev_time\n",
    "    tf.imgui.text(\"Prediction time: %.3f ms\" % (delta_time * 1000.0))\n",
    "\n",
    "\n",
    "    if tf.window.is_mouse_button_pressed(tf.window.MOUSE_BUTTON_0):\n",
    "        #draw on the canvas\n",
    "        x = mx * 28 / ImageSize\n",
    "        y = my * 28 / ImageSize\n",
    "        #add a gaussian blob\n",
    "        for i in range(28):\n",
    "            for j in range(28):\n",
    "                dx = j - x\n",
    "                dy = i - y\n",
    "                Canvas[i, j] += 0.5 * np.exp(-2.0 * (dx * dx + dy * dy))\n",
    "\n",
    "    Canvas = np.clip(Canvas, 0.0, 1.0)\n",
    "    canvas_flat = Canvas.reshape(1, -1)\n",
    "    canvas_tf = tf.tensor(canvas_flat)\n",
    "\n",
    "    #use random offset\n",
    "    offset = np.random.randint(0, Xtest.shape[0] - batch_size)\n",
    "    info = np.array([offset, batch_size, learning_rate]).astype(np.float32)\n",
    "    info_tf = tf.tensor(info)\n",
    "    L, W1tf, W2tf, W3tf = train_step(W1tf, W2tf, W3tf, Xtf, Ytf, info_tf)\n",
    "    loss = L.numpy\n",
    "\n",
    "    #predict\n",
    "    Yhatnp = fwd_step(W1tf, W2tf, W3tf, canvas_tf).numpy\n",
    "    \n",
    "    if(tf.imgui.button(\"Clear\")):\n",
    "        Canvas = np.zeros((28, 28), np.float32)\n",
    "    tf.imgui.text(\"Prediction: %s\" % class_names[np.argmax(Yhatnp)])\n",
    "    tf.imgui.text(\"Loss: %.3f\" % loss)\n",
    "    tf.imgui.text(\"Distribution: \")\n",
    "    for i in range(10):\n",
    "        tf.imgui.text(\"Class %s: %.3f\" % (class_names[i], Yhatnp[0, i]))\n",
    "    \n",
    "    #draw the canvas\n",
    "    frame_tf = np.zeros((28, 28, 3), np.float32)\n",
    "    frame_tf[:, :, 0] = Canvas\n",
    "    frame_tf[:, :, 1] = Canvas\n",
    "    frame_tf[:, :, 2] = Canvas\n",
    "\n",
    "    frame_tf = np.flipud(frame_tf)\n",
    "\n",
    "    frame_tf = tf.tensor(frame_tf)\n",
    "    tf.window.render_frame(frame_tf)\n",
    "\n",
    "    prev_time = cur_time"
   ]
  },
  {
   "cell_type": "code",
   "execution_count": null,
   "metadata": {},
   "outputs": [
    {
     "name": "stdout",
     "output_type": "stream",
     "text": [
      "Final Tf test accuracy:  87.72 %\n"
     ]
    }
   ],
   "source": [
    "\n",
    "test_accuracy_tf = test_accuracy(W1tf, W2tf, W3tf, Xtest, Ytest)\n",
    "print(\"Final Tf test accuracy: \", test_accuracy_tf, \"%\")"
   ]
  }
 ],
 "metadata": {
  "kernelspec": {
   "display_name": "Python 3",
   "language": "python",
   "name": "python3"
  },
  "language_info": {
   "codemirror_mode": {
    "name": "ipython",
    "version": 3
   },
   "file_extension": ".py",
   "mimetype": "text/x-python",
   "name": "python",
   "nbconvert_exporter": "python",
   "pygments_lexer": "ipython3",
   "version": "3.12.0"
  },
  "orig_nbformat": 4
 },
 "nbformat": 4,
 "nbformat_minor": 2
}
