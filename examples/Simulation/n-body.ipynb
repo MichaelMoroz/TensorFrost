{
 "cells": [
  {
   "cell_type": "code",
   "execution_count": 1,
   "metadata": {},
   "outputs": [
    {
     "name": "stdout",
     "output_type": "stream",
     "text": [
      "TensorFrost module loaded in debug mode! Expect slow performance.\n",
      "n_body:\n",
      "  Kernel count: 2\n",
      "  Intermediate buffers: 1\n",
      "  Host readbacks: 0\n",
      "  Host writes: 0\n",
      "  Lines of generated code: 418\n",
      "  IR Compile time: 39.552101 ms\n",
      "  Compiler time: 1299.874756 ms\n",
      "\n"
     ]
    }
   ],
   "source": [
    "import numpy as np\n",
    "import TensorFrost as tf\n",
    "\n",
    "tf.initialize(tf.opengl)\n",
    "\n",
    "dt = 0.001\n",
    "\n",
    "def Force(x1, x2):\n",
    "    r = x2 - x1\n",
    "    N = r.shape[0]\n",
    "    dist = tf.norm(r)\n",
    "    dist = tf.reshape(dist, [N, N, 1])\n",
    "    return r / (dist ** 3.0 + 1e-1)\n",
    "\n",
    "def n_body():\n",
    "    X = tf.input([-1, 2], tf.float32)\n",
    "    N = X.shape[0]\n",
    "    V = tf.input([N, 2], tf.float32)\n",
    "\n",
    "    i, j, k = tf.indices([N, N, 2])\n",
    "    \n",
    "    Fij = Force(X[i, k], X[j, k])\n",
    "    Fij = tf.select(i == j, 0.0, Fij)\n",
    "    \n",
    "    Fi = tf.sum(Fij, axis=1)\n",
    "\n",
    "    Vnew = V + Fi * dt\n",
    "    Xnew = X + Vnew * dt\n",
    "\n",
    "    return [Xnew, Vnew]\n",
    "\n",
    "nbody = tf.compile(n_body)"
   ]
  },
  {
   "cell_type": "code",
   "execution_count": 6,
   "metadata": {},
   "outputs": [],
   "source": [
    "import cv2 as cv\n",
    "\n",
    "N = 2000\n",
    "X = np.random.randn(N, 2).astype(np.float32)\n",
    "#V = np.zeros([N, 2], np.float32)\n",
    "#initialize with rotation\n",
    "V = np.zeros([N, 2], np.float32)\n",
    "V[:, 0] = -X[:, 1] * 5.1\n",
    "V[:, 1] = X[:, 0] * 5.1\n",
    "\n",
    "Xtf = tf.tensor(X)\n",
    "Vtf = tf.tensor(V)\n",
    "\n",
    "#file_path = 'H:/TestVideos/fluid.gif'\n",
    "#writer = imageio.get_writer(file_path, fps=30, loop=0)\n",
    "\n",
    "#use opencv to write is as video too\n",
    "video_path = 'H:/TestVideos/sim.mp4'\n",
    "fourcc = cv.VideoWriter_fourcc(*'H264')\n",
    "video = cv.VideoWriter(video_path, fourcc, 60, (800, 800))\n",
    "\n",
    "for i in range(200):\n",
    "    Xtf, Vtf = nbody(Xtf, Vtf)\n",
    "\n",
    "    X = Xtf.numpy\n",
    "    V = Vtf.numpy\n",
    "\n",
    "    #make scatter plot\n",
    "    img = np.zeros([800, 800, 3], np.uint8)\n",
    "    X = (X / 5) * 400 + 400\n",
    "    X = np.clip(X, 0, 800-1)\n",
    "    X = X.astype(np.int32)\n",
    "    img[X[:, 0], X[:, 1]] = 255\n",
    "\n",
    "    #write to video\n",
    "    video.write(img)\n",
    "    #writer.append_data(img)\n",
    "\n",
    "#writer.close()\n",
    "video.release()"
   ]
  }
 ],
 "metadata": {
  "kernelspec": {
   "display_name": "Python 3",
   "language": "python",
   "name": "python3"
  },
  "language_info": {
   "codemirror_mode": {
    "name": "ipython",
    "version": 3
   },
   "file_extension": ".py",
   "mimetype": "text/x-python",
   "name": "python",
   "nbconvert_exporter": "python",
   "pygments_lexer": "ipython3",
   "version": "3.12.0"
  },
  "orig_nbformat": 4
 },
 "nbformat": 4,
 "nbformat_minor": 2
}
