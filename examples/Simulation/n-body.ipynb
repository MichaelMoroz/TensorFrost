{
 "cells": [
  {
   "cell_type": "code",
   "execution_count": 1,
   "metadata": {},
   "outputs": [
    {
     "name": "stdout",
     "output_type": "stream",
     "text": [
      "TensorFrost module loaded in debug mode! Expect slow performance.\n",
      "n_body:\n",
      "  Kernel count: 2\n",
      "  Intermediate buffers: 1\n",
      "  Host readbacks: 0\n",
      "  Host writes: 0\n",
      "  Lines of generated code: 418\n",
      "  IR Compile time: 48.193298 ms\n",
      "  Compiler time: 1291.021362 ms\n",
      "\n"
     ]
    },
    {
     "ename": "RuntimeError",
     "evalue": "Input types float, int, are not valid for operation mul",
     "output_type": "error",
     "traceback": [
      "\u001b[1;31m---------------------------------------------------------------------------\u001b[0m",
      "\u001b[1;31mRuntimeError\u001b[0m                              Traceback (most recent call last)",
      "Cell \u001b[1;32mIn[1], line 52\u001b[0m\n\u001b[0;32m     48\u001b[0m     tf\u001b[38;5;241m.\u001b[39mscatterAdd(image[pixel_x, pixel_y], \u001b[38;5;241m1.0\u001b[39m)\n\u001b[0;32m     50\u001b[0m     \u001b[38;5;28;01mreturn\u001b[39;00m image\n\u001b[1;32m---> 52\u001b[0m render \u001b[38;5;241m=\u001b[39m \u001b[43mtf\u001b[49m\u001b[38;5;241;43m.\u001b[39;49m\u001b[43mcompile\u001b[49m\u001b[43m(\u001b[49m\u001b[43mrender_particles\u001b[49m\u001b[43m)\u001b[49m\n",
      "Cell \u001b[1;32mIn[1], line 46\u001b[0m, in \u001b[0;36mrender_particles\u001b[1;34m()\u001b[0m\n\u001b[0;32m     44\u001b[0m x \u001b[38;5;241m=\u001b[39m X[i, \u001b[38;5;241m0\u001b[39m] \u001b[38;5;241m/\u001b[39m IC_Radius \u001b[38;5;241m+\u001b[39m \u001b[38;5;241m0.5\u001b[39m\n\u001b[0;32m     45\u001b[0m y \u001b[38;5;241m=\u001b[39m X[i, \u001b[38;5;241m1\u001b[39m] \u001b[38;5;241m/\u001b[39m IC_Radius \u001b[38;5;241m+\u001b[39m \u001b[38;5;241m0.5\u001b[39m\n\u001b[1;32m---> 46\u001b[0m pixel_x \u001b[38;5;241m=\u001b[39m tf\u001b[38;5;241m.\u001b[39mint(\u001b[43mx\u001b[49m\u001b[43m \u001b[49m\u001b[38;5;241;43m*\u001b[39;49m\u001b[43m \u001b[49m\u001b[43mImageW\u001b[49m)\n\u001b[0;32m     47\u001b[0m pixel_y \u001b[38;5;241m=\u001b[39m tf\u001b[38;5;241m.\u001b[39mint(y \u001b[38;5;241m*\u001b[39m ImageH)\n\u001b[0;32m     48\u001b[0m tf\u001b[38;5;241m.\u001b[39mscatterAdd(image[pixel_x, pixel_y], \u001b[38;5;241m1.0\u001b[39m)\n",
      "\u001b[1;31mRuntimeError\u001b[0m: Input types float, int, are not valid for operation mul"
     ]
    }
   ],
   "source": [
    "import numpy as np\n",
    "import TensorFrost as tf\n",
    "\n",
    "tf.initialize(tf.opengl)\n"
   ]
  },
  {
   "cell_type": "code",
   "execution_count": 30,
   "metadata": {},
   "outputs": [
    {
     "name": "stdout",
     "output_type": "stream",
     "text": [
      "n_body:\n",
      "  Kernel count: 2\n",
      "  Intermediate buffers: 1\n",
      "  Host readbacks: 0\n",
      "  Host writes: 0\n",
      "  Lines of generated code: 418\n",
      "  IR Compile time: 50.460499 ms\n",
      "  Compiler time: 1325.206177 ms\n",
      "\n",
      "render_particles:\n",
      "  Kernel count: 3\n",
      "  Intermediate buffers: 1\n",
      "  Host readbacks: 0\n",
      "  Host writes: 0\n",
      "  Lines of generated code: 415\n",
      "  IR Compile time: 68.202499 ms\n",
      "  Compiler time: 1280.944824 ms\n",
      "\n"
     ]
    }
   ],
   "source": [
    "\n",
    "dt = 0.0002\n",
    "ParticleN = 10000\n",
    "ImageW = 800\n",
    "ImageH = 800\n",
    "\n",
    "IC_Radius = 5.0\n",
    "\n",
    "def Force(x1, x2):\n",
    "    r = x2 - x1\n",
    "    N = r.shape[0]\n",
    "    dist = tf.norm(r)\n",
    "    dist = tf.reshape(dist, [N, N, 1])\n",
    "    return 0.2 * r / (dist ** 3.0 + 1e-3)\n",
    "\n",
    "def n_body():\n",
    "    X = tf.input([-1, 2], tf.float32)\n",
    "    N = X.shape[0]\n",
    "    V = tf.input([N, 2], tf.float32)\n",
    "\n",
    "    i, j, k = tf.indices([N, N, 2])\n",
    "    \n",
    "    Fij = Force(X[i, k], X[j, k])\n",
    "    Fij = tf.select(i == j, 0.0, Fij)\n",
    "    \n",
    "    Fi = tf.sum(Fij, axis=1)\n",
    "\n",
    "    Vnew = V + Fi * dt\n",
    "    Xnew = X + Vnew * dt\n",
    "\n",
    "    return [Xnew, Vnew]\n",
    "\n",
    "nbody = tf.compile(n_body)\n",
    "\n",
    "def render_particles():\n",
    "    X = tf.input([-1, 2], tf.float32)\n",
    "    N = X.shape[0]\n",
    "    atomic_canvas = tf.zeros([ImageW, ImageH], tf.int32)\n",
    "\n",
    "    i, = tf.indices([N])\n",
    "    xpos = (X[i, 0] / IC_Radius + 0.5) * float(ImageW)\n",
    "    ypos = (X[i, 1] / IC_Radius + 0.5) * float(ImageW)\n",
    "    is_inside = (xpos >= 0.0) & (xpos < float(ImageW)) & (ypos >= 0.0) & (ypos < float(ImageH))\n",
    "\n",
    "    def drawPoint():\n",
    "        xi = tf.int(xpos)\n",
    "        yi = tf.int(ypos)\n",
    "        xf = xpos - tf.float(xi)\n",
    "        yf = ypos - tf.float(yi)\n",
    "        w00 = (1.0 - xf) * (1.0 - yf)\n",
    "        w01 = xf * (1.0 - yf)\n",
    "        w10 = (1.0 - xf) * yf\n",
    "        w11 = xf * yf\n",
    "\n",
    "        tf.scatterAdd(atomic_canvas[xi, yi], tf.int(w00 * 255.0))\n",
    "        tf.scatterAdd(atomic_canvas[xi + 1, yi], tf.int(w01 * 255.0))\n",
    "        tf.scatterAdd(atomic_canvas[xi, yi + 1], tf.int(w10 * 255.0))\n",
    "        tf.scatterAdd(atomic_canvas[xi + 1, yi + 1], tf.int(w11 * 255.0))\n",
    "\n",
    "    tf.if_cond(is_inside, drawPoint)\n",
    "\n",
    "    i, j, ch = tf.indices([ImageW, ImageH, 3])\n",
    "    image = tf.float(atomic_canvas[i, j]) / 255.0\n",
    "    return [image]\n",
    "\n",
    "render = tf.compile(render_particles)"
   ]
  },
  {
   "cell_type": "code",
   "execution_count": 31,
   "metadata": {},
   "outputs": [],
   "source": [
    "import time\n",
    "\n",
    "X = np.random.randn(ParticleN, 2).astype(np.float32)\n",
    "#V = np.zeros([N, 2], np.float32)\n",
    "#initialize with rotation\n",
    "V = np.zeros([ParticleN, 2], np.float32)\n",
    "V[:, 0] = -X[:, 1] * 5.1\n",
    "V[:, 1] = X[:, 0] * 5.1\n",
    "\n",
    "Xtf = tf.tensor(X)\n",
    "Vtf = tf.tensor(V)\n",
    "\n",
    "tf.show_window(ImageW, ImageH, \"N-body simulation\")\n",
    "\n",
    "init_time = time.time()\n",
    "\n",
    "while not tf.window_should_close():\n",
    "    cur_time = time.time() - init_time\n",
    "    time_tf = tf.tensor(np.array([cur_time], np.float32))\n",
    "    Xtf, Vtf = nbody(Xtf, Vtf)\n",
    "    frame_tf, = render(Xtf)\n",
    "    tf.render_frame(frame_tf)\n",
    "    render_time = time.time() - init_time - cur_time\n",
    "    tf.imgui_text(\"Simulation time: %.3f ms\" % (render_time * 1000))\n",
    "    tf.imgui_text(\"Particles: %d\" % ParticleN)\n",
    "    tf.imgui_text(\"FPS: %.1f\" % (1.0 / (render_time + 1e-6)))\n",
    "    tf.imgui_text(\"Time step: %.3f\" % dt)\n",
    "\n",
    "\n",
    "tf.hide_window()"
   ]
  }
 ],
 "metadata": {
  "kernelspec": {
   "display_name": "Python 3",
   "language": "python",
   "name": "python3"
  },
  "language_info": {
   "codemirror_mode": {
    "name": "ipython",
    "version": 3
   },
   "file_extension": ".py",
   "mimetype": "text/x-python",
   "name": "python",
   "nbconvert_exporter": "python",
   "pygments_lexer": "ipython3",
   "version": "3.12.0"
  },
  "orig_nbformat": 4
 },
 "nbformat": 4,
 "nbformat_minor": 2
}
