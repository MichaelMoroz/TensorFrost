{
 "cells": [
  {
   "cell_type": "code",
   "execution_count": 1,
   "metadata": {},
   "outputs": [
    {
     "name": "stdout",
     "output_type": "stream",
     "text": [
      "TensorFrost module loaded in debug mode! Expect slow performance.\n"
     ]
    }
   ],
   "source": [
    "import numpy as np\n",
    "import TensorFrost as tf\n",
    "\n",
    "tf.initialize(tf.opengl)\n"
   ]
  },
  {
   "cell_type": "code",
   "execution_count": 40,
   "metadata": {},
   "outputs": [
    {
     "name": "stdout",
     "output_type": "stream",
     "text": [
      "n_body:\n",
      "  Kernel count: 1\n",
      "  Intermediate buffers: 0\n",
      "  Host readbacks: 0\n",
      "  Host writes: 0\n",
      "  Lines of generated code: 414\n",
      "  IR Compile time: 50.612598 ms\n",
      "  Compiler time: 1371.649048 ms\n",
      "\n"
     ]
    }
   ],
   "source": [
    "\n",
    "dt = 0.0001\n",
    "ParticleN = 20000\n",
    "ImageW = 1280\n",
    "ImageH = 800\n",
    "\n",
    "IC_Radius = 5.0\n",
    "\n",
    "def Force(x1, x2, v1, v2, dist):\n",
    "    dx = x2 - x1\n",
    "    dv = v2 - v1\n",
    "    N = dx.shape[0]\n",
    "    #dist = tf.norm(r)\n",
    "    #dist = tf.reshape(dist, [N, N, 1])\n",
    "    weight = tf.exp(-dist / 0.015)\n",
    "    return 0.2 * dx / (dist ** 3.0 + 5e-4)# - 50.0 * weight * dx / (dist*dist + 1e-5) + 30.0 * dv * weight\n",
    "\n",
    "def n_body():\n",
    "    X = tf.input([-1, 2], tf.float32)\n",
    "    N = X.shape[0]\n",
    "    V = tf.input([N, 2], tf.float32)\n",
    "\n",
    "    i, j, _ = tf.indices([N, N, 1])\n",
    "    dist = tf.sqrt((X[i, 0] - X[j, 0]) ** 2.0 + (X[i, 1] - X[j, 1]) ** 2.0)\n",
    "\n",
    "    i, j, k = tf.indices([N, N, 2])\n",
    "    \n",
    "    Fij = Force(X[i, k], X[j, k], V[i, k], V[j, k], dist)\n",
    "    Fij = tf.select(i == j, 0.0, Fij)\n",
    "    \n",
    "    Fi = tf.sum(Fij, axis=1)\n",
    "\n",
    "    Vnew = V + Fi * dt\n",
    "    Xnew = X + Vnew * dt\n",
    "\n",
    "    return [Xnew, Vnew]\n",
    "\n",
    "nbody = tf.compile(n_body)"
   ]
  },
  {
   "cell_type": "code",
   "execution_count": 34,
   "metadata": {},
   "outputs": [
    {
     "name": "stdout",
     "output_type": "stream",
     "text": [
      "render_particles:\n",
      "  Kernel count: 3\n",
      "  Intermediate buffers: 1\n",
      "  Host readbacks: 0\n",
      "  Host writes: 0\n",
      "  Lines of generated code: 415\n",
      "  IR Compile time: 70.389999 ms\n",
      "  Compiler time: 1381.691650 ms\n",
      "\n"
     ]
    }
   ],
   "source": [
    "\n",
    "def render_particles():\n",
    "    X = tf.input([-1, 2], tf.float32)\n",
    "    N = X.shape[0]\n",
    "    atomic_canvas = tf.zeros([ImageH, ImageW], tf.int32)\n",
    "\n",
    "    i, = tf.indices([N])\n",
    "    xpos = (X[i, 0] / IC_Radius) * float(ImageH) + float(ImageH) / 2.0\n",
    "    ypos = (X[i, 1] / IC_Radius) * float(ImageH) + float(ImageW) / 2.0\n",
    "    is_inside = (xpos >= 0.0) & (xpos < float(ImageH)) & (ypos >= 0.0) & (ypos < float(ImageW))\n",
    "\n",
    "    def drawPoint():\n",
    "        xi = tf.int(xpos)\n",
    "        yi = tf.int(ypos)\n",
    "        xf = xpos - tf.float(xi)\n",
    "        yf = ypos - tf.float(yi)\n",
    "        w00 = (1.0 - xf) * (1.0 - yf)\n",
    "        w01 = xf * (1.0 - yf)\n",
    "        w10 = (1.0 - xf) * yf\n",
    "        w11 = xf * yf\n",
    "\n",
    "        tf.scatterAdd(atomic_canvas[xi, yi], tf.int(w00 * 255.0))\n",
    "        tf.scatterAdd(atomic_canvas[xi + 1, yi], tf.int(w01 * 255.0))\n",
    "        tf.scatterAdd(atomic_canvas[xi, yi + 1], tf.int(w10 * 255.0))\n",
    "        tf.scatterAdd(atomic_canvas[xi + 1, yi + 1], tf.int(w11 * 255.0))\n",
    "\n",
    "    tf.if_cond(is_inside, drawPoint)\n",
    "\n",
    "    i, j, ch = tf.indices([ImageH, ImageW, 3])\n",
    "    image = tf.float(atomic_canvas[i, j]) / 500.0\n",
    "    return [image]\n",
    "\n",
    "render = tf.compile(render_particles)"
   ]
  },
  {
   "cell_type": "code",
   "execution_count": 39,
   "metadata": {},
   "outputs": [],
   "source": [
    "import time\n",
    "\n",
    "X = np.random.randn(ParticleN, 2).astype(np.float32)\n",
    "#V = np.zeros([N, 2], np.float32)\n",
    "#initialize with rotation\n",
    "V = np.zeros([ParticleN, 2], np.float32)\n",
    "V[:, 0] = -X[:, 1] * 30.1\n",
    "V[:, 1] = X[:, 0] * 30.1\n",
    "\n",
    "Xtf = tf.tensor(X)\n",
    "Vtf = tf.tensor(V)\n",
    "\n",
    "tf.show_window(ImageW, ImageH, \"N-body simulation\")\n",
    "\n",
    "init_time = time.time()\n",
    "\n",
    "while not tf.window_should_close():\n",
    "    cur_time = time.time() - init_time\n",
    "    time_tf = tf.tensor(np.array([cur_time], np.float32))\n",
    "    Xtf, Vtf = nbody(Xtf, Vtf)\n",
    "    frame_tf, = render(Xtf)\n",
    "    tf.render_frame(frame_tf)\n",
    "    render_time = time.time() - init_time - cur_time\n",
    "    tf.imgui_text(\"Simulation time: %.3f ms\" % (render_time * 1000))\n",
    "    tf.imgui_text(\"Particles: %d\" % ParticleN)\n",
    "    tf.imgui_text(\"FPS: %.1f\" % (1.0 / (render_time + 1e-6)))\n",
    "    tf.imgui_text(\"Time step: %.3f\" % dt)\n",
    "\n",
    "\n",
    "tf.hide_window()"
   ]
  }
 ],
 "metadata": {
  "kernelspec": {
   "display_name": "Python 3",
   "language": "python",
   "name": "python3"
  },
  "language_info": {
   "codemirror_mode": {
    "name": "ipython",
    "version": 3
   },
   "file_extension": ".py",
   "mimetype": "text/x-python",
   "name": "python",
   "nbconvert_exporter": "python",
   "pygments_lexer": "ipython3",
   "version": "3.12.0"
  },
  "orig_nbformat": 4
 },
 "nbformat": 4,
 "nbformat_minor": 2
}
