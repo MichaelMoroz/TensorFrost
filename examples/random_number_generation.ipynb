{
 "cells": [
  {
   "cell_type": "code",
   "execution_count": 4,
   "metadata": {},
   "outputs": [
    {
     "name": "stdout",
     "output_type": "stream",
     "text": [
      "RNG:\n",
      "  Kernel count: 1\n",
      "  Intermediate buffers: 0\n",
      "  Lines of generated code: 278\n",
      "\n",
      "[ 129708002 2831084092 2055130248 2131687100  678955108 2161170183\n",
      " 4048597412 2120684060  460041413 1301776676 1879086465 1170772408\n",
      " 1237737413  550603308  272029116  798401024]\n",
      "[0.0302     0.6591631  0.4784973  0.49632207 0.15808156 0.50318664\n",
      " 0.94263756 0.49376023 0.10711174 0.3030935  0.4375089  0.27259168\n",
      " 0.2881832  0.12819733 0.06333672 0.18589222]\n",
      "[0.19039936 0.910802   0.4767998  0.8242399  0.8469898  0.6087815\n",
      " 0.28409672 0.5025465  0.16430151 0.22513804 0.2502901  0.8547515\n",
      " 0.32459995 0.04977385 0.8784899  0.54463583]\n"
     ]
    }
   ],
   "source": [
    "import TensorFrost as tf\n",
    "import numpy as np\n",
    "\n",
    "tf.initialize(tf.cpu)\n",
    "\n",
    "N = 16\n",
    "\n",
    "#random number generation example\n",
    "def RNG():\n",
    "    i, = tf.indices([N])\n",
    "    i = tf.uint(i)\n",
    "    int_rng = tf.pcg(i) #takes a uint and returns a hashed uint\n",
    "    float_rng = tf.pcgf(i) #takes a uint and returns a random float in [0,1]\n",
    "    float2_rng = tf.pcgf(int_rng) #reuse the rng as seed for another rng\n",
    "\n",
    "    return [int_rng, float_rng, float2_rng]\n",
    "\n",
    "\n",
    "rng = tf.compile(RNG)\n",
    "\n",
    "int_rng, float_rng, float2_rng = rng()\n",
    "\n",
    "print(int_rng.numpy)\n",
    "print(float_rng.numpy)\n",
    "print(float2_rng.numpy)"
   ]
  }
 ],
 "metadata": {
  "kernelspec": {
   "display_name": "Python 3",
   "language": "python",
   "name": "python3"
  },
  "language_info": {
   "codemirror_mode": {
    "name": "ipython",
    "version": 3
   },
   "file_extension": ".py",
   "mimetype": "text/x-python",
   "name": "python",
   "nbconvert_exporter": "python",
   "pygments_lexer": "ipython3",
   "version": "3.12.0"
  }
 },
 "nbformat": 4,
 "nbformat_minor": 2
}
